{
 "cells": [
  {
   "cell_type": "markdown",
   "id": "0adc24b1-1fc2-4579-afc9-b02cf1c19814",
   "metadata": {},
   "source": [
    "# Biodiversity in the Frisian Islands\n",
    "\n",
    "One of the central ideas of landscape ecology is that the patterns of the landscape have an impact on their biodiversity. For example, an idea put forward by Lack (1942) is that the number of species on an island is proportional to the area of the island. Here I will test if this hypothesis applies to the Frisian Islands. The Frisian Islands are a chain of islands in the North Sea, spanning accross the Netherlands (NL), Germany (DE) ans Denmark (DK). I rounded the islands surface area too 1km, as the area varies according to tides. I kept all islands with a surface area greater than 1km. Here is a list of these islands (from West to East):"
   ]
  },
  {
   "cell_type": "code",
   "execution_count": 13,
   "id": "e912fafa-1dad-4161-a284-de2e05cdfeea",
   "metadata": {},
   "outputs": [
    {
     "name": "stderr",
     "output_type": "stream",
     "text": [
      "── \u001b[1mAttaching core tidyverse packages\u001b[22m ──────────────────────── tidyverse 2.0.0 ──\n",
      "\u001b[32m✔\u001b[39m \u001b[34mdplyr    \u001b[39m 1.1.3     \u001b[32m✔\u001b[39m \u001b[34mreadr    \u001b[39m 2.1.4\n",
      "\u001b[32m✔\u001b[39m \u001b[34mforcats  \u001b[39m 1.0.0     \u001b[32m✔\u001b[39m \u001b[34mstringr  \u001b[39m 1.5.0\n",
      "\u001b[32m✔\u001b[39m \u001b[34mggplot2  \u001b[39m 3.4.3     \u001b[32m✔\u001b[39m \u001b[34mtibble   \u001b[39m 3.2.1\n",
      "\u001b[32m✔\u001b[39m \u001b[34mlubridate\u001b[39m 1.9.3     \u001b[32m✔\u001b[39m \u001b[34mtidyr    \u001b[39m 1.3.0\n",
      "\u001b[32m✔\u001b[39m \u001b[34mpurrr    \u001b[39m 1.0.2     \n",
      "── \u001b[1mConflicts\u001b[22m ────────────────────────────────────────── tidyverse_conflicts() ──\n",
      "\u001b[31m✖\u001b[39m \u001b[34mdplyr\u001b[39m::\u001b[32mfilter()\u001b[39m masks \u001b[34mstats\u001b[39m::filter()\n",
      "\u001b[31m✖\u001b[39m \u001b[34mdplyr\u001b[39m::\u001b[32mlag()\u001b[39m    masks \u001b[34mstats\u001b[39m::lag()\n",
      "\u001b[36mℹ\u001b[39m Use the conflicted package (\u001b[3m\u001b[34m<http://conflicted.r-lib.org/>\u001b[39m\u001b[23m) to force all conflicts to become errors\n"
     ]
    }
   ],
   "source": [
    "# see here if not installed: https://nero-docs.stanford.edu/jupyter-installing-r-packages.html\n",
    "library(rgbif)\n",
    "library(tidyverse)"
   ]
  },
  {
   "cell_type": "code",
   "execution_count": 16,
   "id": "765996e8-cbcb-4138-a3c9-e4273d322b16",
   "metadata": {},
   "outputs": [],
   "source": [
    "islands_df <- data.frame(\"name\"=character(), \"country\"=character(), \"area\"=numeric())\n",
    "islands_df <- islands_df %>% \n",
    "    add_row(name=\"Noorderhaaks\",    country=\"DE\", area=5) %>% \n",
    "    add_row(name=\"Texel\",           country=\"NL\", area=162) %>% \n",
    "    add_row(name=\"Vlieland\",        country=\"NL\", area=39) %>% \n",
    "    add_row(name=\"Terschelling\",    country=\"NL\", area=85 ) %>% \n",
    "    add_row(name=\"Ameland\",         country=\"NL\", area=59) %>% \n",
    "    add_row(name=\"Schiermonnikoog\", country=\"NL\", area=40) %>% \n",
    "    add_row(name=\"Rottumerplaat\",   country=\"NL\", area=8) %>% \n",
    "    add_row(name=\"Rottumeroog\",     country=\"NL\", area=2) %>% \n",
    "    add_row(name=\"Borkum\",          country=\"DE\", area=31) %>% \n",
    "    add_row(name=\"Kachelotplate\",   country=\"DE\", area=2) %>% \n",
    "    add_row(name=\"Memmert\",         country=\"DE\", area=5 ) %>% \n",
    "    add_row(name=\"Juist\",           country=\"DE\", area=16 ) %>% \n",
    "    add_row(name=\"Norderney\",       country=\"DE\", area=26) %>% \n",
    "    add_row(name=\"Baltrum\",         country=\"DE\", area=6) %>% \n",
    "    add_row(name=\"Langeoog\",        country=\"DE\", area=20) %>% \n",
    "    add_row(name=\"Spiekeroog\",      country=\"DE\", area=18) %>% \n",
    "    add_row(name=\"Wangerooge\",      country=\"DE\", area=5 ) %>% \n",
    "    add_row(name=\"Mellum\",          country=\"DE\", area=1) %>% \n",
    "    add_row(name=\"Langlutjen\",      country=\"DE\", area=2) %>% \n",
    "    add_row(name=\"Neuwerk\",         country=\"DE\", area=3) %>% \n",
    "    add_row(name=\"Trischen\",        country=\"DE\", area=2) %>% \n",
    "    add_row(name=\"Pellworm\",        country=\"DE\", area=37) %>% \n",
    "    add_row(name=\"Amrum\",           country=\"DE\", area=20) %>% \n",
    "    add_row(name=\"Föhr\",            country=\"DE\", area=82) %>% \n",
    "    add_row(name=\"Sylt\",            country=\"DE\", area=99) %>% \n",
    "    add_row(name=\"Gröde\",           country=\"DE\", area=2) %>% \n",
    "    add_row(name=\"Hooge\",           country=\"DE\", area=6) %>% \n",
    "    add_row(name=\"Langeness\",       country=\"DE\", area=10 ) %>% \n",
    "    add_row(name=\"Oland\",           country=\"DE\", area=1  ) %>% \n",
    "    add_row(name=\"Nordstrandischmoor\", country=\"DE\", area=2) %>% \n",
    "    add_row(name=\"Süderoog\",        country=\"DE\", area=1) %>% \n",
    "    add_row(name=\"Rømø\",            country=\"DK\", area=130 ) %>% \n",
    "    add_row(name=\"Fanø\",            country=\"DK\", area=56) %>% \n",
    "    add_row(name=\"Mandø\",           country=\"DK\", area=8) %>% \n",
    "    add_row(name=\"Langli\",          country=\"DK\", area=1)"
   ]
  },
  {
   "cell_type": "code",
   "execution_count": 17,
   "id": "36214b0f-9e0b-478b-b191-4b455449fe4d",
   "metadata": {},
   "outputs": [
    {
     "data": {
      "text/html": [
       "<table class=\"dataframe\">\n",
       "<caption>A data.frame: 35 × 3</caption>\n",
       "<thead>\n",
       "\t<tr><th scope=col>name</th><th scope=col>country</th><th scope=col>area</th></tr>\n",
       "\t<tr><th scope=col>&lt;chr&gt;</th><th scope=col>&lt;chr&gt;</th><th scope=col>&lt;dbl&gt;</th></tr>\n",
       "</thead>\n",
       "<tbody>\n",
       "\t<tr><td>Noorderhaaks      </td><td>DE</td><td>  5</td></tr>\n",
       "\t<tr><td>Texel             </td><td>NL</td><td>162</td></tr>\n",
       "\t<tr><td>Vlieland          </td><td>NL</td><td> 39</td></tr>\n",
       "\t<tr><td>Terschelling      </td><td>NL</td><td> 85</td></tr>\n",
       "\t<tr><td>Ameland           </td><td>NL</td><td> 59</td></tr>\n",
       "\t<tr><td>Schiermonnikoog   </td><td>NL</td><td> 40</td></tr>\n",
       "\t<tr><td>Rottumerplaat     </td><td>NL</td><td>  8</td></tr>\n",
       "\t<tr><td>Rottumeroog       </td><td>NL</td><td>  2</td></tr>\n",
       "\t<tr><td>Borkum            </td><td>DE</td><td> 31</td></tr>\n",
       "\t<tr><td>Kachelotplate     </td><td>DE</td><td>  2</td></tr>\n",
       "\t<tr><td>Memmert           </td><td>DE</td><td>  5</td></tr>\n",
       "\t<tr><td>Juist             </td><td>DE</td><td> 16</td></tr>\n",
       "\t<tr><td>Norderney         </td><td>DE</td><td> 26</td></tr>\n",
       "\t<tr><td>Baltrum           </td><td>DE</td><td>  6</td></tr>\n",
       "\t<tr><td>Langeoog          </td><td>DE</td><td> 20</td></tr>\n",
       "\t<tr><td>Spiekeroog        </td><td>DE</td><td> 18</td></tr>\n",
       "\t<tr><td>Wangerooge        </td><td>DE</td><td>  5</td></tr>\n",
       "\t<tr><td>Mellum            </td><td>DE</td><td>  1</td></tr>\n",
       "\t<tr><td>Langlutjen        </td><td>DE</td><td>  2</td></tr>\n",
       "\t<tr><td>Neuwerk           </td><td>DE</td><td>  3</td></tr>\n",
       "\t<tr><td>Trischen          </td><td>DE</td><td>  2</td></tr>\n",
       "\t<tr><td>Pellworm          </td><td>DE</td><td> 37</td></tr>\n",
       "\t<tr><td>Amrum             </td><td>DE</td><td> 20</td></tr>\n",
       "\t<tr><td>Föhr              </td><td>DE</td><td> 82</td></tr>\n",
       "\t<tr><td>Sylt              </td><td>DE</td><td> 99</td></tr>\n",
       "\t<tr><td>Gröde             </td><td>DE</td><td>  2</td></tr>\n",
       "\t<tr><td>Hooge             </td><td>DE</td><td>  6</td></tr>\n",
       "\t<tr><td>Langeness         </td><td>DE</td><td> 10</td></tr>\n",
       "\t<tr><td>Oland             </td><td>DE</td><td>  1</td></tr>\n",
       "\t<tr><td>Nordstrandischmoor</td><td>DE</td><td>  2</td></tr>\n",
       "\t<tr><td>Süderoog          </td><td>DE</td><td>  1</td></tr>\n",
       "\t<tr><td>Rømø              </td><td>DK</td><td>130</td></tr>\n",
       "\t<tr><td>Fanø              </td><td>DK</td><td> 56</td></tr>\n",
       "\t<tr><td>Mandø             </td><td>DK</td><td>  8</td></tr>\n",
       "\t<tr><td>Langli            </td><td>DK</td><td>  1</td></tr>\n",
       "</tbody>\n",
       "</table>\n"
      ],
      "text/latex": [
       "A data.frame: 35 × 3\n",
       "\\begin{tabular}{lll}\n",
       " name & country & area\\\\\n",
       " <chr> & <chr> & <dbl>\\\\\n",
       "\\hline\n",
       "\t Noorderhaaks       & DE &   5\\\\\n",
       "\t Texel              & NL & 162\\\\\n",
       "\t Vlieland           & NL &  39\\\\\n",
       "\t Terschelling       & NL &  85\\\\\n",
       "\t Ameland            & NL &  59\\\\\n",
       "\t Schiermonnikoog    & NL &  40\\\\\n",
       "\t Rottumerplaat      & NL &   8\\\\\n",
       "\t Rottumeroog        & NL &   2\\\\\n",
       "\t Borkum             & DE &  31\\\\\n",
       "\t Kachelotplate      & DE &   2\\\\\n",
       "\t Memmert            & DE &   5\\\\\n",
       "\t Juist              & DE &  16\\\\\n",
       "\t Norderney          & DE &  26\\\\\n",
       "\t Baltrum            & DE &   6\\\\\n",
       "\t Langeoog           & DE &  20\\\\\n",
       "\t Spiekeroog         & DE &  18\\\\\n",
       "\t Wangerooge         & DE &   5\\\\\n",
       "\t Mellum             & DE &   1\\\\\n",
       "\t Langlutjen         & DE &   2\\\\\n",
       "\t Neuwerk            & DE &   3\\\\\n",
       "\t Trischen           & DE &   2\\\\\n",
       "\t Pellworm           & DE &  37\\\\\n",
       "\t Amrum              & DE &  20\\\\\n",
       "\t Föhr               & DE &  82\\\\\n",
       "\t Sylt               & DE &  99\\\\\n",
       "\t Gröde              & DE &   2\\\\\n",
       "\t Hooge              & DE &   6\\\\\n",
       "\t Langeness          & DE &  10\\\\\n",
       "\t Oland              & DE &   1\\\\\n",
       "\t Nordstrandischmoor & DE &   2\\\\\n",
       "\t Süderoog           & DE &   1\\\\\n",
       "\t Rømø               & DK & 130\\\\\n",
       "\t Fanø               & DK &  56\\\\\n",
       "\t Mandø              & DK &   8\\\\\n",
       "\t Langli             & DK &   1\\\\\n",
       "\\end{tabular}\n"
      ],
      "text/markdown": [
       "\n",
       "A data.frame: 35 × 3\n",
       "\n",
       "| name &lt;chr&gt; | country &lt;chr&gt; | area &lt;dbl&gt; |\n",
       "|---|---|---|\n",
       "| Noorderhaaks       | DE |   5 |\n",
       "| Texel              | NL | 162 |\n",
       "| Vlieland           | NL |  39 |\n",
       "| Terschelling       | NL |  85 |\n",
       "| Ameland            | NL |  59 |\n",
       "| Schiermonnikoog    | NL |  40 |\n",
       "| Rottumerplaat      | NL |   8 |\n",
       "| Rottumeroog        | NL |   2 |\n",
       "| Borkum             | DE |  31 |\n",
       "| Kachelotplate      | DE |   2 |\n",
       "| Memmert            | DE |   5 |\n",
       "| Juist              | DE |  16 |\n",
       "| Norderney          | DE |  26 |\n",
       "| Baltrum            | DE |   6 |\n",
       "| Langeoog           | DE |  20 |\n",
       "| Spiekeroog         | DE |  18 |\n",
       "| Wangerooge         | DE |   5 |\n",
       "| Mellum             | DE |   1 |\n",
       "| Langlutjen         | DE |   2 |\n",
       "| Neuwerk            | DE |   3 |\n",
       "| Trischen           | DE |   2 |\n",
       "| Pellworm           | DE |  37 |\n",
       "| Amrum              | DE |  20 |\n",
       "| Föhr               | DE |  82 |\n",
       "| Sylt               | DE |  99 |\n",
       "| Gröde              | DE |   2 |\n",
       "| Hooge              | DE |   6 |\n",
       "| Langeness          | DE |  10 |\n",
       "| Oland              | DE |   1 |\n",
       "| Nordstrandischmoor | DE |   2 |\n",
       "| Süderoog           | DE |   1 |\n",
       "| Rømø               | DK | 130 |\n",
       "| Fanø               | DK |  56 |\n",
       "| Mandø              | DK |   8 |\n",
       "| Langli             | DK |   1 |\n",
       "\n"
      ],
      "text/plain": [
       "   name               country area\n",
       "1  Noorderhaaks       DE        5 \n",
       "2  Texel              NL      162 \n",
       "3  Vlieland           NL       39 \n",
       "4  Terschelling       NL       85 \n",
       "5  Ameland            NL       59 \n",
       "6  Schiermonnikoog    NL       40 \n",
       "7  Rottumerplaat      NL        8 \n",
       "8  Rottumeroog        NL        2 \n",
       "9  Borkum             DE       31 \n",
       "10 Kachelotplate      DE        2 \n",
       "11 Memmert            DE        5 \n",
       "12 Juist              DE       16 \n",
       "13 Norderney          DE       26 \n",
       "14 Baltrum            DE        6 \n",
       "15 Langeoog           DE       20 \n",
       "16 Spiekeroog         DE       18 \n",
       "17 Wangerooge         DE        5 \n",
       "18 Mellum             DE        1 \n",
       "19 Langlutjen         DE        2 \n",
       "20 Neuwerk            DE        3 \n",
       "21 Trischen           DE        2 \n",
       "22 Pellworm           DE       37 \n",
       "23 Amrum              DE       20 \n",
       "24 Föhr               DE       82 \n",
       "25 Sylt               DE       99 \n",
       "26 Gröde              DE        2 \n",
       "27 Hooge              DE        6 \n",
       "28 Langeness          DE       10 \n",
       "29 Oland              DE        1 \n",
       "30 Nordstrandischmoor DE        2 \n",
       "31 Süderoog           DE        1 \n",
       "32 Rømø               DK      130 \n",
       "33 Fanø               DK       56 \n",
       "34 Mandø              DK        8 \n",
       "35 Langli             DK        1 "
      ]
     },
     "metadata": {},
     "output_type": "display_data"
    }
   ],
   "source": [
    "islands_df"
   ]
  },
  {
   "cell_type": "markdown",
   "id": "faaf39d0-b44a-421a-9cbe-2b62f162eeed",
   "metadata": {},
   "source": [
    "## Data\n",
    "I obtained data from GBIF (http://gbif.org). Using the API interface, I searched occurrences in the islands mentioned above, filtering only plants (taxon_key=6), witha limit of 10000 occurrences per island."
   ]
  },
  {
   "cell_type": "code",
   "execution_count": 162,
   "id": "da1e489a-4ef9-48ce-a413-3f2b9628f925",
   "metadata": {},
   "outputs": [],
   "source": [
    "taxonKey = 6  # 6 = plants"
   ]
  },
  {
   "cell_type": "code",
   "execution_count": 168,
   "id": "565926dc-cfe3-44cb-8cdf-1fb3868c7602",
   "metadata": {
    "collapsed": true,
    "jupyter": {
     "outputs_hidden": true
    }
   },
   "outputs": [
    {
     "name": "stdout",
     "output_type": "stream",
     "text": [
      "[1] \"processing Noorderhaaks\"\n"
     ]
    },
    {
     "name": "stderr",
     "output_type": "stream",
     "text": [
      "status: preparing\n",
      "\n",
      "status: running\n",
      "\n",
      "status: succeeded\n",
      "\n",
      "download is done, status: succeeded\n",
      "\n",
      "Download file size: 0 MB\n",
      "\n",
      "On disk at ./0011275-231002084531237.zip\n",
      "\n"
     ]
    },
    {
     "name": "stdout",
     "output_type": "stream",
     "text": [
      "[1] \"processing Texel\"\n"
     ]
    },
    {
     "name": "stderr",
     "output_type": "stream",
     "text": [
      "status: preparing\n",
      "\n",
      "status: running\n",
      "\n",
      "status: succeeded\n",
      "\n",
      "download is done, status: succeeded\n",
      "\n",
      "Download file size: 0.01 MB\n",
      "\n",
      "On disk at ./0011276-231002084531237.zip\n",
      "\n"
     ]
    },
    {
     "name": "stdout",
     "output_type": "stream",
     "text": [
      "[1] \"processing Vlieland\"\n"
     ]
    },
    {
     "name": "stderr",
     "output_type": "stream",
     "text": [
      "status: preparing\n",
      "\n",
      "status: running\n",
      "\n",
      "status: succeeded\n",
      "\n",
      "download is done, status: succeeded\n",
      "\n",
      "Download file size: 0 MB\n",
      "\n",
      "On disk at ./0011279-231002084531237.zip\n",
      "\n"
     ]
    },
    {
     "name": "stdout",
     "output_type": "stream",
     "text": [
      "[1] \"processing Terschelling\"\n"
     ]
    },
    {
     "name": "stderr",
     "output_type": "stream",
     "text": [
      "status: preparing\n",
      "\n",
      "status: running\n",
      "\n",
      "status: succeeded\n",
      "\n",
      "download is done, status: succeeded\n",
      "\n",
      "Download file size: 0.23 MB\n",
      "\n",
      "On disk at ./0011281-231002084531237.zip\n",
      "\n"
     ]
    },
    {
     "name": "stdout",
     "output_type": "stream",
     "text": [
      "[1] \"processing Ameland\"\n"
     ]
    },
    {
     "name": "stderr",
     "output_type": "stream",
     "text": [
      "status: preparing\n",
      "\n",
      "status: running\n",
      "\n",
      "status: succeeded\n",
      "\n",
      "download is done, status: succeeded\n",
      "\n",
      "Download file size: 0.07 MB\n",
      "\n",
      "On disk at ./0011282-231002084531237.zip\n",
      "\n"
     ]
    },
    {
     "name": "stdout",
     "output_type": "stream",
     "text": [
      "[1] \"processing Schiermonnikoog\"\n"
     ]
    },
    {
     "name": "stderr",
     "output_type": "stream",
     "text": [
      "status: preparing\n",
      "\n",
      "status: running\n",
      "\n",
      "status: succeeded\n",
      "\n",
      "download is done, status: succeeded\n",
      "\n",
      "Download file size: 0 MB\n",
      "\n",
      "On disk at ./0011283-231002084531237.zip\n",
      "\n"
     ]
    },
    {
     "name": "stdout",
     "output_type": "stream",
     "text": [
      "[1] \"processing Rottumerplaat\"\n"
     ]
    },
    {
     "name": "stderr",
     "output_type": "stream",
     "text": [
      "status: preparing\n",
      "\n",
      "status: running\n",
      "\n",
      "status: succeeded\n",
      "\n",
      "download is done, status: succeeded\n",
      "\n",
      "Download file size: 0.08 MB\n",
      "\n",
      "On disk at ./0011284-231002084531237.zip\n",
      "\n"
     ]
    },
    {
     "name": "stdout",
     "output_type": "stream",
     "text": [
      "[1] \"processing Rottumeroog\"\n"
     ]
    },
    {
     "name": "stderr",
     "output_type": "stream",
     "text": [
      "status: preparing\n",
      "\n",
      "status: running\n",
      "\n",
      "status: succeeded\n",
      "\n",
      "download is done, status: succeeded\n",
      "\n",
      "Download file size: 0.15 MB\n",
      "\n",
      "On disk at ./0011286-231002084531237.zip\n",
      "\n"
     ]
    },
    {
     "name": "stdout",
     "output_type": "stream",
     "text": [
      "[1] \"processing Borkum\"\n"
     ]
    },
    {
     "name": "stderr",
     "output_type": "stream",
     "text": [
      "status: preparing\n",
      "\n",
      "status: running\n",
      "\n",
      "status: succeeded\n",
      "\n",
      "download is done, status: succeeded\n",
      "\n",
      "Download file size: 0 MB\n",
      "\n",
      "On disk at ./0011288-231002084531237.zip\n",
      "\n"
     ]
    },
    {
     "name": "stdout",
     "output_type": "stream",
     "text": [
      "[1] \"processing Kachelotplate\"\n"
     ]
    },
    {
     "name": "stderr",
     "output_type": "stream",
     "text": [
      "status: preparing\n",
      "\n",
      "status: running\n",
      "\n",
      "status: succeeded\n",
      "\n",
      "download is done, status: succeeded\n",
      "\n",
      "Download file size: 0 MB\n",
      "\n",
      "On disk at ./0011289-231002084531237.zip\n",
      "\n"
     ]
    },
    {
     "name": "stdout",
     "output_type": "stream",
     "text": [
      "[1] \"processing Memmert\"\n"
     ]
    },
    {
     "name": "stderr",
     "output_type": "stream",
     "text": [
      "status: preparing\n",
      "\n",
      "status: running\n",
      "\n",
      "status: succeeded\n",
      "\n",
      "download is done, status: succeeded\n",
      "\n",
      "Download file size: 0 MB\n",
      "\n",
      "On disk at ./0011291-231002084531237.zip\n",
      "\n"
     ]
    },
    {
     "name": "stdout",
     "output_type": "stream",
     "text": [
      "[1] \"processing Juist\"\n"
     ]
    },
    {
     "name": "stderr",
     "output_type": "stream",
     "text": [
      "status: preparing\n",
      "\n",
      "status: running\n",
      "\n",
      "status: succeeded\n",
      "\n",
      "download is done, status: succeeded\n",
      "\n",
      "Download file size: 0 MB\n",
      "\n",
      "On disk at ./0011292-231002084531237.zip\n",
      "\n"
     ]
    },
    {
     "name": "stdout",
     "output_type": "stream",
     "text": [
      "[1] \"processing Norderney\"\n"
     ]
    },
    {
     "name": "stderr",
     "output_type": "stream",
     "text": [
      "status: preparing\n",
      "\n",
      "status: running\n",
      "\n",
      "status: succeeded\n",
      "\n",
      "download is done, status: succeeded\n",
      "\n",
      "Download file size: 0.02 MB\n",
      "\n",
      "On disk at ./0011293-231002084531237.zip\n",
      "\n"
     ]
    },
    {
     "name": "stdout",
     "output_type": "stream",
     "text": [
      "[1] \"processing Baltrum\"\n"
     ]
    },
    {
     "name": "stderr",
     "output_type": "stream",
     "text": [
      "status: preparing\n",
      "\n",
      "status: running\n",
      "\n",
      "status: succeeded\n",
      "\n",
      "download is done, status: succeeded\n",
      "\n",
      "Download file size: 0.03 MB\n",
      "\n",
      "On disk at ./0011295-231002084531237.zip\n",
      "\n"
     ]
    },
    {
     "name": "stdout",
     "output_type": "stream",
     "text": [
      "[1] \"processing Langeoog\"\n"
     ]
    },
    {
     "name": "stderr",
     "output_type": "stream",
     "text": [
      "status: preparing\n",
      "\n",
      "status: running\n",
      "\n",
      "status: succeeded\n",
      "\n",
      "download is done, status: succeeded\n",
      "\n",
      "Download file size: 0 MB\n",
      "\n",
      "On disk at ./0011296-231002084531237.zip\n",
      "\n"
     ]
    },
    {
     "name": "stdout",
     "output_type": "stream",
     "text": [
      "[1] \"processing Spiekeroog\"\n"
     ]
    },
    {
     "name": "stderr",
     "output_type": "stream",
     "text": [
      "status: preparing\n",
      "\n",
      "status: running\n",
      "\n",
      "status: succeeded\n",
      "\n",
      "download is done, status: succeeded\n",
      "\n",
      "Download file size: 0.06 MB\n",
      "\n",
      "On disk at ./0011297-231002084531237.zip\n",
      "\n"
     ]
    },
    {
     "name": "stdout",
     "output_type": "stream",
     "text": [
      "[1] \"processing Wangerooge\"\n"
     ]
    },
    {
     "name": "stderr",
     "output_type": "stream",
     "text": [
      "status: preparing\n",
      "\n",
      "status: running\n",
      "\n",
      "status: succeeded\n",
      "\n",
      "download is done, status: succeeded\n",
      "\n",
      "Download file size: 0.03 MB\n",
      "\n",
      "On disk at ./0011299-231002084531237.zip\n",
      "\n"
     ]
    },
    {
     "name": "stdout",
     "output_type": "stream",
     "text": [
      "[1] \"processing Mellum\"\n"
     ]
    },
    {
     "name": "stderr",
     "output_type": "stream",
     "text": [
      "status: preparing\n",
      "\n",
      "status: running\n",
      "\n",
      "status: succeeded\n",
      "\n",
      "download is done, status: succeeded\n",
      "\n",
      "Download file size: 0 MB\n",
      "\n",
      "On disk at ./0011301-231002084531237.zip\n",
      "\n"
     ]
    },
    {
     "name": "stdout",
     "output_type": "stream",
     "text": [
      "[1] \"processing Langlutjen\"\n"
     ]
    },
    {
     "name": "stderr",
     "output_type": "stream",
     "text": [
      "status: preparing\n",
      "\n",
      "status: running\n",
      "\n",
      "status: succeeded\n",
      "\n",
      "download is done, status: succeeded\n",
      "\n",
      "Download file size: 0 MB\n",
      "\n",
      "On disk at ./0011302-231002084531237.zip\n",
      "\n"
     ]
    },
    {
     "name": "stdout",
     "output_type": "stream",
     "text": [
      "[1] \"processing Neuwerk\"\n"
     ]
    },
    {
     "name": "stderr",
     "output_type": "stream",
     "text": [
      "status: preparing\n",
      "\n",
      "status: running\n",
      "\n",
      "status: succeeded\n",
      "\n",
      "download is done, status: succeeded\n",
      "\n",
      "Download file size: 0.01 MB\n",
      "\n",
      "On disk at ./0011303-231002084531237.zip\n",
      "\n"
     ]
    },
    {
     "name": "stdout",
     "output_type": "stream",
     "text": [
      "[1] \"processing Trischen\"\n"
     ]
    },
    {
     "name": "stderr",
     "output_type": "stream",
     "text": [
      "status: preparing\n",
      "\n",
      "status: running\n",
      "\n",
      "status: succeeded\n",
      "\n",
      "download is done, status: succeeded\n",
      "\n",
      "Download file size: 0 MB\n",
      "\n",
      "On disk at ./0011304-231002084531237.zip\n",
      "\n"
     ]
    },
    {
     "name": "stdout",
     "output_type": "stream",
     "text": [
      "[1] \"processing Pellworm\"\n"
     ]
    },
    {
     "name": "stderr",
     "output_type": "stream",
     "text": [
      "status: preparing\n",
      "\n",
      "status: running\n",
      "\n",
      "status: succeeded\n",
      "\n",
      "download is done, status: succeeded\n",
      "\n",
      "Download file size: 0 MB\n",
      "\n",
      "On disk at ./0011307-231002084531237.zip\n",
      "\n"
     ]
    },
    {
     "name": "stdout",
     "output_type": "stream",
     "text": [
      "[1] \"processing Amrum\"\n"
     ]
    },
    {
     "name": "stderr",
     "output_type": "stream",
     "text": [
      "status: preparing\n",
      "\n",
      "status: running\n",
      "\n",
      "status: succeeded\n",
      "\n",
      "download is done, status: succeeded\n",
      "\n",
      "Download file size: 0 MB\n",
      "\n",
      "On disk at ./0011308-231002084531237.zip\n",
      "\n"
     ]
    },
    {
     "name": "stdout",
     "output_type": "stream",
     "text": [
      "[1] \"processing Föhr\"\n"
     ]
    },
    {
     "name": "stderr",
     "output_type": "stream",
     "text": [
      "status: preparing\n",
      "\n",
      "status: running\n",
      "\n",
      "status: succeeded\n",
      "\n",
      "download is done, status: succeeded\n",
      "\n",
      "Download file size: 0 MB\n",
      "\n",
      "On disk at ./0011310-231002084531237.zip\n",
      "\n"
     ]
    },
    {
     "name": "stdout",
     "output_type": "stream",
     "text": [
      "[1] \"processing Sylt\"\n"
     ]
    },
    {
     "name": "stderr",
     "output_type": "stream",
     "text": [
      "status: preparing\n",
      "\n",
      "status: running\n",
      "\n",
      "status: succeeded\n",
      "\n",
      "download is done, status: succeeded\n",
      "\n",
      "Download file size: 0 MB\n",
      "\n",
      "On disk at ./0011311-231002084531237.zip\n",
      "\n"
     ]
    },
    {
     "name": "stdout",
     "output_type": "stream",
     "text": [
      "[1] \"processing Gröde\"\n"
     ]
    },
    {
     "name": "stderr",
     "output_type": "stream",
     "text": [
      "status: preparing\n",
      "\n",
      "status: running\n",
      "\n",
      "status: succeeded\n",
      "\n",
      "download is done, status: succeeded\n",
      "\n",
      "Download file size: 0 MB\n",
      "\n",
      "On disk at ./0011312-231002084531237.zip\n",
      "\n"
     ]
    },
    {
     "name": "stdout",
     "output_type": "stream",
     "text": [
      "[1] \"processing Hooge\"\n"
     ]
    },
    {
     "name": "stderr",
     "output_type": "stream",
     "text": [
      "status: preparing\n",
      "\n",
      "status: running\n",
      "\n",
      "status: succeeded\n",
      "\n",
      "download is done, status: succeeded\n",
      "\n",
      "Download file size: 0 MB\n",
      "\n",
      "On disk at ./0011313-231002084531237.zip\n",
      "\n"
     ]
    },
    {
     "name": "stdout",
     "output_type": "stream",
     "text": [
      "[1] \"processing Langeness\"\n"
     ]
    },
    {
     "name": "stderr",
     "output_type": "stream",
     "text": [
      "status: preparing\n",
      "\n",
      "status: running\n",
      "\n",
      "status: succeeded\n",
      "\n",
      "download is done, status: succeeded\n",
      "\n",
      "Download file size: 0 MB\n",
      "\n",
      "On disk at ./0011315-231002084531237.zip\n",
      "\n"
     ]
    },
    {
     "name": "stdout",
     "output_type": "stream",
     "text": [
      "[1] \"processing Oland\"\n"
     ]
    },
    {
     "name": "stderr",
     "output_type": "stream",
     "text": [
      "status: preparing\n",
      "\n",
      "status: running\n",
      "\n",
      "status: succeeded\n",
      "\n",
      "download is done, status: succeeded\n",
      "\n",
      "Download file size: 0 MB\n",
      "\n",
      "On disk at ./0011317-231002084531237.zip\n",
      "\n"
     ]
    },
    {
     "name": "stdout",
     "output_type": "stream",
     "text": [
      "[1] \"processing Nordstrandischmoor\"\n"
     ]
    },
    {
     "name": "stderr",
     "output_type": "stream",
     "text": [
      "status: preparing\n",
      "\n",
      "status: running\n",
      "\n",
      "status: succeeded\n",
      "\n",
      "download is done, status: succeeded\n",
      "\n",
      "Download file size: 0 MB\n",
      "\n",
      "On disk at ./0011318-231002084531237.zip\n",
      "\n"
     ]
    },
    {
     "name": "stdout",
     "output_type": "stream",
     "text": [
      "[1] \"processing Süderoog\"\n"
     ]
    },
    {
     "name": "stderr",
     "output_type": "stream",
     "text": [
      "status: preparing\n",
      "\n",
      "status: running\n",
      "\n",
      "status: succeeded\n",
      "\n",
      "download is done, status: succeeded\n",
      "\n",
      "Download file size: 0 MB\n",
      "\n",
      "On disk at ./0011319-231002084531237.zip\n",
      "\n"
     ]
    },
    {
     "name": "stdout",
     "output_type": "stream",
     "text": [
      "[1] \"processing Rømø\"\n"
     ]
    },
    {
     "name": "stderr",
     "output_type": "stream",
     "text": [
      "status: preparing\n",
      "\n",
      "status: running\n",
      "\n",
      "status: succeeded\n",
      "\n",
      "download is done, status: succeeded\n",
      "\n",
      "Download file size: 0.12 MB\n",
      "\n",
      "On disk at ./0011321-231002084531237.zip\n",
      "\n"
     ]
    },
    {
     "name": "stdout",
     "output_type": "stream",
     "text": [
      "[1] \"processing Fanø\"\n"
     ]
    },
    {
     "name": "stderr",
     "output_type": "stream",
     "text": [
      "status: preparing\n",
      "\n",
      "status: running\n",
      "\n",
      "status: succeeded\n",
      "\n",
      "download is done, status: succeeded\n",
      "\n",
      "Download file size: 0.03 MB\n",
      "\n",
      "On disk at ./0011322-231002084531237.zip\n",
      "\n"
     ]
    },
    {
     "name": "stdout",
     "output_type": "stream",
     "text": [
      "[1] \"processing Mandø\"\n"
     ]
    },
    {
     "name": "stderr",
     "output_type": "stream",
     "text": [
      "status: preparing\n",
      "\n",
      "status: running\n",
      "\n",
      "status: succeeded\n",
      "\n",
      "download is done, status: succeeded\n",
      "\n",
      "Download file size: 0.03 MB\n",
      "\n",
      "On disk at ./0011323-231002084531237.zip\n",
      "\n"
     ]
    },
    {
     "name": "stdout",
     "output_type": "stream",
     "text": [
      "[1] \"processing Langli\"\n"
     ]
    },
    {
     "name": "stderr",
     "output_type": "stream",
     "text": [
      "status: preparing\n",
      "\n",
      "status: running\n",
      "\n",
      "status: succeeded\n",
      "\n",
      "download is done, status: succeeded\n",
      "\n",
      "Download file size: 0.01 MB\n",
      "\n",
      "On disk at ./0011324-231002084531237.zip\n",
      "\n"
     ]
    }
   ],
   "source": [
    "# load GBIF login name and password from file\n",
    "source(\"keys.R\")\n",
    "\n",
    "download <- function(locality, taxonKey) {\n",
    "    gbif_download <- occ_download(\n",
    "        pred_default(),\n",
    "        pred(\"locality\", locality),\n",
    "        pred(\"taxonKey\", taxonKey),\n",
    "        format = \"SIMPLE_CSV\",\n",
    "        # set in keys.R\n",
    "        user = GBIF_USER,\n",
    "        pwd = GBIF_PWD,\n",
    "        email = GBIF_EMAIL\n",
    "    )\n",
    "    return(gbif_download)\n",
    "}\n",
    "\n",
    "occurrences_df <- data.frame(\"key\"=character(), \"species\"=character(), \"locality\"=character())\n",
    "for (locality in islands_df$name) {\n",
    "    print(sprintf(\"processing %s\", locality))\n",
    "    flush.console()\n",
    "    gbif_download <- download(locality, taxonKey)\n",
    "    occ_download_wait(gbif_download)\n",
    "    temp <- occ_download_get(gbif_download) %>% occ_download_import()\n",
    "    if (!is.null(temp)  ) {\n",
    "        temp_df <- select(temp, 'gbifID', 'species', 'locality')\n",
    "        occurrences_df <- rbind(occurrences_df, temp_df)\n",
    "    }\n",
    "}\n",
    "write.csv(occurrences_df, \"Frisian_Islands_data/occurrences.csv\")"
   ]
  },
  {
   "cell_type": "markdown",
   "id": "626700e5-b4a8-405b-b037-bbe168d22dae",
   "metadata": {},
   "source": [
    "## Calculate species richness\n",
    "Reload the data from file. For each island, calculate species richness, add it to the islands data frame."
   ]
  },
  {
   "cell_type": "code",
   "execution_count": 8,
   "id": "f7bb84d9-8766-4f51-9930-66a571472f19",
   "metadata": {},
   "outputs": [],
   "source": [
    "occurrences_df <- read.csv(\"Frisian_Islands_data/occurrences.csv\")"
   ]
  },
  {
   "cell_type": "code",
   "execution_count": 20,
   "id": "426ce249-05c2-4114-9bda-1f07d0b24dd6",
   "metadata": {},
   "outputs": [],
   "source": [
    "localities <- islands_df$name\n",
    "species_count = integer(length(localities))\n",
    "i <- 1\n",
    "for (name in localities) {\n",
    "    count <- (occurrences_df %>% filter(locality==name) %>% group_by(species) %>% tally() %>% dim())[[1]]\n",
    "    species_count[i] <- count\n",
    "    i <- i + 1\n",
    "}\n",
    "islands_df[\"species_count\"] = species_count"
   ]
  },
  {
   "cell_type": "code",
   "execution_count": 22,
   "id": "2ecfb11b-16da-4638-96ee-4771d0ca5f81",
   "metadata": {},
   "outputs": [
    {
     "data": {
      "text/html": [
       "<table class=\"dataframe\">\n",
       "<caption>A data.frame: 35 × 4</caption>\n",
       "<thead>\n",
       "\t<tr><th scope=col>name</th><th scope=col>country</th><th scope=col>area</th><th scope=col>species_count</th></tr>\n",
       "\t<tr><th scope=col>&lt;chr&gt;</th><th scope=col>&lt;chr&gt;</th><th scope=col>&lt;dbl&gt;</th><th scope=col>&lt;int&gt;</th></tr>\n",
       "</thead>\n",
       "<tbody>\n",
       "\t<tr><td>Noorderhaaks      </td><td>DE</td><td>  5</td><td>  0</td></tr>\n",
       "\t<tr><td>Texel             </td><td>NL</td><td>162</td><td> 82</td></tr>\n",
       "\t<tr><td>Vlieland          </td><td>NL</td><td> 39</td><td> 24</td></tr>\n",
       "\t<tr><td>Terschelling      </td><td>NL</td><td> 85</td><td>452</td></tr>\n",
       "\t<tr><td>Ameland           </td><td>NL</td><td> 59</td><td>344</td></tr>\n",
       "\t<tr><td>Schiermonnikoog   </td><td>NL</td><td> 40</td><td> 24</td></tr>\n",
       "\t<tr><td>Rottumerplaat     </td><td>NL</td><td>  8</td><td>185</td></tr>\n",
       "\t<tr><td>Rottumeroog       </td><td>NL</td><td>  2</td><td>188</td></tr>\n",
       "\t<tr><td>Borkum            </td><td>DE</td><td> 31</td><td>  6</td></tr>\n",
       "\t<tr><td>Kachelotplate     </td><td>DE</td><td>  2</td><td>  0</td></tr>\n",
       "\t<tr><td>Memmert           </td><td>DE</td><td>  5</td><td>  0</td></tr>\n",
       "\t<tr><td>Juist             </td><td>DE</td><td> 16</td><td> 32</td></tr>\n",
       "\t<tr><td>Norderney         </td><td>DE</td><td> 26</td><td>328</td></tr>\n",
       "\t<tr><td>Baltrum           </td><td>DE</td><td>  6</td><td>332</td></tr>\n",
       "\t<tr><td>Langeoog          </td><td>DE</td><td> 20</td><td> 22</td></tr>\n",
       "\t<tr><td>Spiekeroog        </td><td>DE</td><td> 18</td><td> 45</td></tr>\n",
       "\t<tr><td>Wangerooge        </td><td>DE</td><td>  5</td><td>343</td></tr>\n",
       "\t<tr><td>Mellum            </td><td>DE</td><td>  1</td><td>  0</td></tr>\n",
       "\t<tr><td>Langlutjen        </td><td>DE</td><td>  2</td><td>  0</td></tr>\n",
       "\t<tr><td>Neuwerk           </td><td>DE</td><td>  3</td><td> 47</td></tr>\n",
       "\t<tr><td>Trischen          </td><td>DE</td><td>  2</td><td>  0</td></tr>\n",
       "\t<tr><td>Pellworm          </td><td>DE</td><td> 37</td><td>  1</td></tr>\n",
       "\t<tr><td>Amrum             </td><td>DE</td><td> 20</td><td> 10</td></tr>\n",
       "\t<tr><td>Föhr              </td><td>DE</td><td> 82</td><td>  0</td></tr>\n",
       "\t<tr><td>Sylt              </td><td>DE</td><td> 99</td><td> 12</td></tr>\n",
       "\t<tr><td>Gröde             </td><td>DE</td><td>  2</td><td>  0</td></tr>\n",
       "\t<tr><td>Hooge             </td><td>DE</td><td>  6</td><td>  0</td></tr>\n",
       "\t<tr><td>Langeness         </td><td>DE</td><td> 10</td><td>  0</td></tr>\n",
       "\t<tr><td>Oland             </td><td>DE</td><td>  1</td><td>  8</td></tr>\n",
       "\t<tr><td>Nordstrandischmoor</td><td>DE</td><td>  2</td><td>  0</td></tr>\n",
       "\t<tr><td>Süderoog          </td><td>DE</td><td>  1</td><td>  0</td></tr>\n",
       "\t<tr><td>Rømø              </td><td>DK</td><td>130</td><td>715</td></tr>\n",
       "\t<tr><td>Fanø              </td><td>DK</td><td> 56</td><td>371</td></tr>\n",
       "\t<tr><td>Mandø             </td><td>DK</td><td>  8</td><td>364</td></tr>\n",
       "\t<tr><td>Langli            </td><td>DK</td><td>  1</td><td>138</td></tr>\n",
       "</tbody>\n",
       "</table>\n"
      ],
      "text/latex": [
       "A data.frame: 35 × 4\n",
       "\\begin{tabular}{llll}\n",
       " name & country & area & species\\_count\\\\\n",
       " <chr> & <chr> & <dbl> & <int>\\\\\n",
       "\\hline\n",
       "\t Noorderhaaks       & DE &   5 &   0\\\\\n",
       "\t Texel              & NL & 162 &  82\\\\\n",
       "\t Vlieland           & NL &  39 &  24\\\\\n",
       "\t Terschelling       & NL &  85 & 452\\\\\n",
       "\t Ameland            & NL &  59 & 344\\\\\n",
       "\t Schiermonnikoog    & NL &  40 &  24\\\\\n",
       "\t Rottumerplaat      & NL &   8 & 185\\\\\n",
       "\t Rottumeroog        & NL &   2 & 188\\\\\n",
       "\t Borkum             & DE &  31 &   6\\\\\n",
       "\t Kachelotplate      & DE &   2 &   0\\\\\n",
       "\t Memmert            & DE &   5 &   0\\\\\n",
       "\t Juist              & DE &  16 &  32\\\\\n",
       "\t Norderney          & DE &  26 & 328\\\\\n",
       "\t Baltrum            & DE &   6 & 332\\\\\n",
       "\t Langeoog           & DE &  20 &  22\\\\\n",
       "\t Spiekeroog         & DE &  18 &  45\\\\\n",
       "\t Wangerooge         & DE &   5 & 343\\\\\n",
       "\t Mellum             & DE &   1 &   0\\\\\n",
       "\t Langlutjen         & DE &   2 &   0\\\\\n",
       "\t Neuwerk            & DE &   3 &  47\\\\\n",
       "\t Trischen           & DE &   2 &   0\\\\\n",
       "\t Pellworm           & DE &  37 &   1\\\\\n",
       "\t Amrum              & DE &  20 &  10\\\\\n",
       "\t Föhr               & DE &  82 &   0\\\\\n",
       "\t Sylt               & DE &  99 &  12\\\\\n",
       "\t Gröde              & DE &   2 &   0\\\\\n",
       "\t Hooge              & DE &   6 &   0\\\\\n",
       "\t Langeness          & DE &  10 &   0\\\\\n",
       "\t Oland              & DE &   1 &   8\\\\\n",
       "\t Nordstrandischmoor & DE &   2 &   0\\\\\n",
       "\t Süderoog           & DE &   1 &   0\\\\\n",
       "\t Rømø               & DK & 130 & 715\\\\\n",
       "\t Fanø               & DK &  56 & 371\\\\\n",
       "\t Mandø              & DK &   8 & 364\\\\\n",
       "\t Langli             & DK &   1 & 138\\\\\n",
       "\\end{tabular}\n"
      ],
      "text/markdown": [
       "\n",
       "A data.frame: 35 × 4\n",
       "\n",
       "| name &lt;chr&gt; | country &lt;chr&gt; | area &lt;dbl&gt; | species_count &lt;int&gt; |\n",
       "|---|---|---|---|\n",
       "| Noorderhaaks       | DE |   5 |   0 |\n",
       "| Texel              | NL | 162 |  82 |\n",
       "| Vlieland           | NL |  39 |  24 |\n",
       "| Terschelling       | NL |  85 | 452 |\n",
       "| Ameland            | NL |  59 | 344 |\n",
       "| Schiermonnikoog    | NL |  40 |  24 |\n",
       "| Rottumerplaat      | NL |   8 | 185 |\n",
       "| Rottumeroog        | NL |   2 | 188 |\n",
       "| Borkum             | DE |  31 |   6 |\n",
       "| Kachelotplate      | DE |   2 |   0 |\n",
       "| Memmert            | DE |   5 |   0 |\n",
       "| Juist              | DE |  16 |  32 |\n",
       "| Norderney          | DE |  26 | 328 |\n",
       "| Baltrum            | DE |   6 | 332 |\n",
       "| Langeoog           | DE |  20 |  22 |\n",
       "| Spiekeroog         | DE |  18 |  45 |\n",
       "| Wangerooge         | DE |   5 | 343 |\n",
       "| Mellum             | DE |   1 |   0 |\n",
       "| Langlutjen         | DE |   2 |   0 |\n",
       "| Neuwerk            | DE |   3 |  47 |\n",
       "| Trischen           | DE |   2 |   0 |\n",
       "| Pellworm           | DE |  37 |   1 |\n",
       "| Amrum              | DE |  20 |  10 |\n",
       "| Föhr               | DE |  82 |   0 |\n",
       "| Sylt               | DE |  99 |  12 |\n",
       "| Gröde              | DE |   2 |   0 |\n",
       "| Hooge              | DE |   6 |   0 |\n",
       "| Langeness          | DE |  10 |   0 |\n",
       "| Oland              | DE |   1 |   8 |\n",
       "| Nordstrandischmoor | DE |   2 |   0 |\n",
       "| Süderoog           | DE |   1 |   0 |\n",
       "| Rømø               | DK | 130 | 715 |\n",
       "| Fanø               | DK |  56 | 371 |\n",
       "| Mandø              | DK |   8 | 364 |\n",
       "| Langli             | DK |   1 | 138 |\n",
       "\n"
      ],
      "text/plain": [
       "   name               country area species_count\n",
       "1  Noorderhaaks       DE        5    0          \n",
       "2  Texel              NL      162   82          \n",
       "3  Vlieland           NL       39   24          \n",
       "4  Terschelling       NL       85  452          \n",
       "5  Ameland            NL       59  344          \n",
       "6  Schiermonnikoog    NL       40   24          \n",
       "7  Rottumerplaat      NL        8  185          \n",
       "8  Rottumeroog        NL        2  188          \n",
       "9  Borkum             DE       31    6          \n",
       "10 Kachelotplate      DE        2    0          \n",
       "11 Memmert            DE        5    0          \n",
       "12 Juist              DE       16   32          \n",
       "13 Norderney          DE       26  328          \n",
       "14 Baltrum            DE        6  332          \n",
       "15 Langeoog           DE       20   22          \n",
       "16 Spiekeroog         DE       18   45          \n",
       "17 Wangerooge         DE        5  343          \n",
       "18 Mellum             DE        1    0          \n",
       "19 Langlutjen         DE        2    0          \n",
       "20 Neuwerk            DE        3   47          \n",
       "21 Trischen           DE        2    0          \n",
       "22 Pellworm           DE       37    1          \n",
       "23 Amrum              DE       20   10          \n",
       "24 Föhr               DE       82    0          \n",
       "25 Sylt               DE       99   12          \n",
       "26 Gröde              DE        2    0          \n",
       "27 Hooge              DE        6    0          \n",
       "28 Langeness          DE       10    0          \n",
       "29 Oland              DE        1    8          \n",
       "30 Nordstrandischmoor DE        2    0          \n",
       "31 Süderoog           DE        1    0          \n",
       "32 Rømø               DK      130  715          \n",
       "33 Fanø               DK       56  371          \n",
       "34 Mandø              DK        8  364          \n",
       "35 Langli             DK        1  138          "
      ]
     },
     "metadata": {},
     "output_type": "display_data"
    }
   ],
   "source": [
    "islands_df"
   ]
  },
  {
   "cell_type": "code",
   "execution_count": 23,
   "id": "5e5880ae-bb39-4fb9-bd6d-7ea70e1dfab6",
   "metadata": {},
   "outputs": [],
   "source": [
    "write.csv(islands_df, \"Frisian_Islands_data/biodiv.csv\")"
   ]
  },
  {
   "cell_type": "markdown",
   "id": "b36c82f4-c009-474f-a582-075011fc2e06",
   "metadata": {},
   "source": [
    "## Data analysis\n",
    "Plot, search for correlation, evaluate significance"
   ]
  },
  {
   "cell_type": "code",
   "execution_count": 63,
   "id": "fd3dbd07-f7d5-4d91-9ccc-8ef142535c5e",
   "metadata": {},
   "outputs": [
    {
     "name": "stderr",
     "output_type": "stream",
     "text": [
      "\u001b[1m\u001b[22m`geom_smooth()` using formula = 'y ~ x'\n",
      "Warning message:\n",
      "“\u001b[1m\u001b[22mThe following aesthetics were dropped during statistical transformation: \u001b[32mlabel\u001b[39m\n",
      "\u001b[36mℹ\u001b[39m This can happen when ggplot fails to infer the correct grouping structure in\n",
      "  the data.\n",
      "\u001b[36mℹ\u001b[39m Did you forget to specify a `group` aesthetic or to convert a numerical\n",
      "  variable into a factor?”\n"
     ]
    },
    {
     "data": {
      "application/pdf": "[encoded data removed]",
      "image/jpeg": "[encoded data removed]",
      "image/png": "[encoded data removed]",
      "image/svg+xml": [
       "<?xml version=\"1.0\" encoding=\"UTF-8\"?>\n",
       "<svg xmlns=\"http://www.w3.org/2000/svg\" xmlns:xlink=\"http://www.w3.org/1999/xlink\" width=\"504pt\" height=\"504pt\" viewBox=\"0 0 504 504\" version=\"1.1\">\n",
       "<defs>\n",
       "<g>\n",
       "<symbol overflow=\"visible\" id=\"glyph0-0\">\n",
       "<path style=\"stroke:none;\" d=\"M 0.359375 0 L 0.359375 -7.359375 L 3.296875 -7.359375 L 3.296875 0 Z M 0.734375 -0.359375 L 2.9375 -0.359375 L 2.9375 -7 L 0.734375 -7 Z M 0.734375 -0.359375 \"/>\n",
       "</symbol>\n",
       "<symbol overflow=\"visible\" id=\"glyph0-1\">\n",
       "<path style=\"stroke:none;\" d=\"M 3.890625 -6.765625 L 3.890625 0 L 2.859375 0 L 2.859375 -6.765625 L 0.25 -6.765625 L 0.25 -7.59375 L 6.5 -7.59375 L 6.5 -6.765625 Z M 3.890625 -6.765625 \"/>\n",
       "</symbol>\n",
       "<symbol overflow=\"visible\" id=\"glyph0-2\">\n",
       "<path style=\"stroke:none;\" d=\"M 1.484375 -2.71875 C 1.484375 -2.40625 1.515625 -2.117188 1.578125 -1.859375 C 1.640625 -1.609375 1.738281 -1.390625 1.875 -1.203125 C 2.007812 -1.015625 2.175781 -0.867188 2.375 -0.765625 C 2.582031 -0.671875 2.832031 -0.625 3.125 -0.625 C 3.539062 -0.625 3.875 -0.707031 4.125 -0.875 C 4.382812 -1.039062 4.554688 -1.253906 4.640625 -1.515625 L 5.5 -1.265625 C 5.4375 -1.109375 5.347656 -0.945312 5.234375 -0.78125 C 5.128906 -0.625 4.984375 -0.476562 4.796875 -0.34375 C 4.617188 -0.207031 4.390625 -0.0976562 4.109375 -0.015625 C 3.835938 0.0664062 3.507812 0.109375 3.125 0.109375 C 2.257812 0.109375 1.597656 -0.144531 1.140625 -0.65625 C 0.691406 -1.175781 0.46875 -1.941406 0.46875 -2.953125 C 0.46875 -3.503906 0.535156 -3.96875 0.671875 -4.34375 C 0.804688 -4.71875 0.992188 -5.023438 1.234375 -5.265625 C 1.472656 -5.503906 1.75 -5.675781 2.0625 -5.78125 C 2.382812 -5.882812 2.722656 -5.9375 3.078125 -5.9375 C 3.566406 -5.9375 3.972656 -5.859375 4.296875 -5.703125 C 4.628906 -5.546875 4.894531 -5.328125 5.09375 -5.046875 C 5.300781 -4.773438 5.445312 -4.445312 5.53125 -4.0625 C 5.613281 -3.6875 5.65625 -3.28125 5.65625 -2.84375 L 5.65625 -2.71875 Z M 4.65625 -3.453125 C 4.59375 -4.066406 4.429688 -4.515625 4.171875 -4.796875 C 3.921875 -5.085938 3.550781 -5.234375 3.0625 -5.234375 C 2.90625 -5.234375 2.734375 -5.207031 2.546875 -5.15625 C 2.367188 -5.101562 2.203125 -5.007812 2.046875 -4.875 C 1.898438 -4.738281 1.773438 -4.554688 1.671875 -4.328125 C 1.566406 -4.097656 1.507812 -3.804688 1.5 -3.453125 Z M 4.65625 -3.453125 \"/>\n",
       "</symbol>\n",
       "<symbol overflow=\"visible\" id=\"glyph0-3\">\n",
       "<path style=\"stroke:none;\" d=\"M 4.328125 0 L 2.75 -2.390625 L 1.171875 0 L 0.125 0 L 2.203125 -3 L 0.21875 -5.84375 L 1.296875 -5.84375 L 2.75 -3.5625 L 4.203125 -5.84375 L 5.28125 -5.84375 L 3.296875 -3.015625 L 5.40625 0 Z M 4.328125 0 \"/>\n",
       "</symbol>\n",
       "<symbol overflow=\"visible\" id=\"glyph0-4\">\n",
       "<path style=\"stroke:none;\" d=\"M 0.75 0 L 0.75 -8 L 1.71875 -8 L 1.71875 0 Z M 0.75 0 \"/>\n",
       "</symbol>\n",
       "<symbol overflow=\"visible\" id=\"glyph0-5\">\n",
       "<path style=\"stroke:none;\" d=\"M 0.765625 0 L 0.765625 -4.484375 C 0.765625 -4.597656 0.765625 -4.71875 0.765625 -4.84375 C 0.765625 -4.976562 0.757812 -5.101562 0.75 -5.21875 C 0.75 -5.34375 0.742188 -5.457031 0.734375 -5.5625 C 0.734375 -5.664062 0.734375 -5.757812 0.734375 -5.84375 L 1.65625 -5.84375 C 1.65625 -5.757812 1.65625 -5.660156 1.65625 -5.546875 C 1.664062 -5.441406 1.671875 -5.332031 1.671875 -5.21875 C 1.679688 -5.113281 1.6875 -5.007812 1.6875 -4.90625 C 1.6875 -4.800781 1.6875 -4.710938 1.6875 -4.640625 L 1.71875 -4.640625 C 1.78125 -4.867188 1.847656 -5.0625 1.921875 -5.21875 C 2.003906 -5.382812 2.097656 -5.519531 2.203125 -5.625 C 2.304688 -5.726562 2.429688 -5.804688 2.578125 -5.859375 C 2.722656 -5.910156 2.894531 -5.9375 3.09375 -5.9375 C 3.175781 -5.9375 3.253906 -5.929688 3.328125 -5.921875 C 3.398438 -5.910156 3.457031 -5.898438 3.5 -5.890625 L 3.5 -5 C 3.425781 -5.019531 3.347656 -5.03125 3.265625 -5.03125 C 3.179688 -5.039062 3.085938 -5.046875 2.984375 -5.046875 C 2.753906 -5.046875 2.5625 -4.992188 2.40625 -4.890625 C 2.25 -4.796875 2.117188 -4.660156 2.015625 -4.484375 C 1.921875 -4.304688 1.847656 -4.09375 1.796875 -3.84375 C 1.753906 -3.601562 1.734375 -3.335938 1.734375 -3.046875 L 1.734375 0 Z M 0.765625 0 \"/>\n",
       "</symbol>\n",
       "<symbol overflow=\"visible\" id=\"glyph0-6\">\n",
       "<path style=\"stroke:none;\" d=\"M 5.125 -1.609375 C 5.125 -1.335938 5.070312 -1.09375 4.96875 -0.875 C 4.863281 -0.664062 4.707031 -0.488281 4.5 -0.34375 C 4.300781 -0.195312 4.054688 -0.0820312 3.765625 0 C 3.472656 0.0703125 3.132812 0.109375 2.75 0.109375 C 2.414062 0.109375 2.113281 0.0820312 1.84375 0.03125 C 1.570312 -0.0195312 1.332031 -0.101562 1.125 -0.21875 C 0.914062 -0.332031 0.742188 -0.484375 0.609375 -0.671875 C 0.472656 -0.859375 0.375 -1.09375 0.3125 -1.375 L 1.171875 -1.53125 C 1.253906 -1.21875 1.421875 -0.988281 1.671875 -0.84375 C 1.929688 -0.695312 2.289062 -0.625 2.75 -0.625 C 2.957031 -0.625 3.148438 -0.640625 3.328125 -0.671875 C 3.503906 -0.703125 3.65625 -0.75 3.78125 -0.8125 C 3.90625 -0.882812 4.003906 -0.976562 4.078125 -1.09375 C 4.148438 -1.21875 4.1875 -1.363281 4.1875 -1.53125 C 4.1875 -1.707031 4.144531 -1.851562 4.0625 -1.96875 C 3.976562 -2.082031 3.859375 -2.175781 3.703125 -2.25 C 3.554688 -2.332031 3.378906 -2.398438 3.171875 -2.453125 C 2.960938 -2.503906 2.734375 -2.566406 2.484375 -2.640625 C 2.242188 -2.703125 2.007812 -2.769531 1.78125 -2.84375 C 1.550781 -2.914062 1.34375 -3.015625 1.15625 -3.140625 C 0.976562 -3.265625 0.832031 -3.414062 0.71875 -3.59375 C 0.601562 -3.78125 0.546875 -4.015625 0.546875 -4.296875 C 0.546875 -4.828125 0.734375 -5.226562 1.109375 -5.5 C 1.484375 -5.78125 2.035156 -5.921875 2.765625 -5.921875 C 3.410156 -5.921875 3.921875 -5.804688 4.296875 -5.578125 C 4.679688 -5.359375 4.921875 -5 5.015625 -4.5 L 4.140625 -4.390625 C 4.109375 -4.546875 4.050781 -4.671875 3.96875 -4.765625 C 3.882812 -4.867188 3.78125 -4.953125 3.65625 -5.015625 C 3.53125 -5.078125 3.390625 -5.117188 3.234375 -5.140625 C 3.085938 -5.171875 2.929688 -5.1875 2.765625 -5.1875 C 2.328125 -5.1875 2.003906 -5.117188 1.796875 -4.984375 C 1.585938 -4.859375 1.484375 -4.660156 1.484375 -4.390625 C 1.484375 -4.234375 1.519531 -4.101562 1.59375 -4 C 1.675781 -3.894531 1.785156 -3.804688 1.921875 -3.734375 C 2.054688 -3.671875 2.222656 -3.613281 2.421875 -3.5625 C 2.617188 -3.507812 2.832031 -3.453125 3.0625 -3.390625 C 3.21875 -3.347656 3.375 -3.304688 3.53125 -3.265625 C 3.695312 -3.222656 3.851562 -3.171875 4 -3.109375 C 4.15625 -3.046875 4.300781 -2.96875 4.4375 -2.875 C 4.570312 -2.789062 4.691406 -2.691406 4.796875 -2.578125 C 4.898438 -2.460938 4.976562 -2.320312 5.03125 -2.15625 C 5.09375 -2 5.125 -1.816406 5.125 -1.609375 Z M 5.125 -1.609375 \"/>\n",
       "</symbol>\n",
       "<symbol overflow=\"visible\" id=\"glyph0-7\">\n",
       "<path style=\"stroke:none;\" d=\"M 1.484375 -2.9375 C 1.484375 -2.601562 1.503906 -2.296875 1.546875 -2.015625 C 1.597656 -1.742188 1.679688 -1.503906 1.796875 -1.296875 C 1.910156 -1.097656 2.0625 -0.941406 2.25 -0.828125 C 2.445312 -0.710938 2.679688 -0.65625 2.953125 -0.65625 C 3.296875 -0.65625 3.582031 -0.75 3.8125 -0.9375 C 4.050781 -1.125 4.195312 -1.410156 4.25 -1.796875 L 5.234375 -1.734375 C 5.203125 -1.492188 5.128906 -1.257812 5.015625 -1.03125 C 4.910156 -0.8125 4.765625 -0.617188 4.578125 -0.453125 C 4.390625 -0.285156 4.160156 -0.148438 3.890625 -0.046875 C 3.628906 0.0546875 3.328125 0.109375 2.984375 0.109375 C 2.523438 0.109375 2.132812 0.03125 1.8125 -0.125 C 1.5 -0.28125 1.238281 -0.492188 1.03125 -0.765625 C 0.832031 -1.035156 0.6875 -1.351562 0.59375 -1.71875 C 0.507812 -2.09375 0.46875 -2.492188 0.46875 -2.921875 C 0.46875 -3.316406 0.5 -3.660156 0.5625 -3.953125 C 0.625 -4.253906 0.710938 -4.519531 0.828125 -4.75 C 0.953125 -4.976562 1.09375 -5.164062 1.25 -5.3125 C 1.40625 -5.46875 1.578125 -5.585938 1.765625 -5.671875 C 1.953125 -5.765625 2.144531 -5.832031 2.34375 -5.875 C 2.550781 -5.914062 2.757812 -5.9375 2.96875 -5.9375 C 3.300781 -5.9375 3.59375 -5.890625 3.84375 -5.796875 C 4.101562 -5.710938 4.320312 -5.59375 4.5 -5.4375 C 4.6875 -5.28125 4.835938 -5.09375 4.953125 -4.875 C 5.066406 -4.664062 5.148438 -4.441406 5.203125 -4.203125 L 4.203125 -4.125 C 4.148438 -4.445312 4.019531 -4.703125 3.8125 -4.890625 C 3.613281 -5.085938 3.320312 -5.1875 2.9375 -5.1875 C 2.664062 -5.1875 2.4375 -5.140625 2.25 -5.046875 C 2.0625 -4.953125 1.910156 -4.8125 1.796875 -4.625 C 1.679688 -4.445312 1.597656 -4.21875 1.546875 -3.9375 C 1.503906 -3.65625 1.484375 -3.320312 1.484375 -2.9375 Z M 1.484375 -2.9375 \"/>\n",
       "</symbol>\n",
       "<symbol overflow=\"visible\" id=\"glyph0-8\">\n",
       "<path style=\"stroke:none;\" d=\"M 1.703125 -4.84375 C 1.816406 -5.039062 1.9375 -5.207031 2.0625 -5.34375 C 2.1875 -5.476562 2.320312 -5.585938 2.46875 -5.671875 C 2.625 -5.765625 2.789062 -5.832031 2.96875 -5.875 C 3.144531 -5.914062 3.347656 -5.9375 3.578125 -5.9375 C 3.953125 -5.9375 4.257812 -5.882812 4.5 -5.78125 C 4.738281 -5.6875 4.925781 -5.546875 5.0625 -5.359375 C 5.195312 -5.179688 5.289062 -4.96875 5.34375 -4.71875 C 5.394531 -4.46875 5.421875 -4.191406 5.421875 -3.890625 L 5.421875 0 L 4.453125 0 L 4.453125 -3.703125 C 4.453125 -3.953125 4.4375 -4.171875 4.40625 -4.359375 C 4.375 -4.546875 4.3125 -4.695312 4.21875 -4.8125 C 4.132812 -4.9375 4.015625 -5.03125 3.859375 -5.09375 C 3.703125 -5.15625 3.5 -5.1875 3.25 -5.1875 C 3.019531 -5.1875 2.8125 -5.144531 2.625 -5.0625 C 2.4375 -4.988281 2.273438 -4.875 2.140625 -4.71875 C 2.015625 -4.570312 1.914062 -4.390625 1.84375 -4.171875 C 1.769531 -3.953125 1.734375 -3.707031 1.734375 -3.4375 L 1.734375 0 L 0.765625 0 L 0.765625 -8 L 1.734375 -8 L 1.734375 -5.921875 C 1.734375 -5.804688 1.726562 -5.6875 1.71875 -5.5625 C 1.71875 -5.445312 1.710938 -5.335938 1.703125 -5.234375 C 1.703125 -5.140625 1.703125 -5.054688 1.703125 -4.984375 C 1.703125 -4.910156 1.695312 -4.863281 1.6875 -4.84375 Z M 1.703125 -4.84375 \"/>\n",
       "</symbol>\n",
       "<symbol overflow=\"visible\" id=\"glyph0-9\">\n",
       "<path style=\"stroke:none;\" d=\"M 0.734375 -7.078125 L 0.734375 -8 L 1.703125 -8 L 1.703125 -7.078125 Z M 0.734375 0 L 0.734375 -5.84375 L 1.703125 -5.84375 L 1.703125 0 Z M 0.734375 0 \"/>\n",
       "</symbol>\n",
       "<symbol overflow=\"visible\" id=\"glyph0-10\">\n",
       "<path style=\"stroke:none;\" d=\"M 4.453125 0 L 4.453125 -3.703125 C 4.453125 -3.984375 4.429688 -4.21875 4.390625 -4.40625 C 4.347656 -4.601562 4.28125 -4.757812 4.1875 -4.875 C 4.09375 -4.988281 3.96875 -5.066406 3.8125 -5.109375 C 3.664062 -5.160156 3.476562 -5.1875 3.25 -5.1875 C 3.019531 -5.1875 2.8125 -5.144531 2.625 -5.0625 C 2.4375 -4.988281 2.273438 -4.875 2.140625 -4.71875 C 2.015625 -4.570312 1.914062 -4.382812 1.84375 -4.15625 C 1.769531 -3.925781 1.734375 -3.664062 1.734375 -3.375 L 1.734375 0 L 0.765625 0 L 0.765625 -4.59375 C 0.765625 -4.71875 0.765625 -4.84375 0.765625 -4.96875 C 0.765625 -5.101562 0.757812 -5.234375 0.75 -5.359375 C 0.75 -5.484375 0.742188 -5.585938 0.734375 -5.671875 C 0.734375 -5.753906 0.734375 -5.8125 0.734375 -5.84375 L 1.65625 -5.84375 C 1.65625 -5.820312 1.65625 -5.769531 1.65625 -5.6875 C 1.664062 -5.613281 1.671875 -5.523438 1.671875 -5.421875 C 1.679688 -5.316406 1.6875 -5.210938 1.6875 -5.109375 C 1.6875 -5.003906 1.6875 -4.914062 1.6875 -4.84375 L 1.703125 -4.84375 C 1.796875 -5.007812 1.898438 -5.160156 2.015625 -5.296875 C 2.128906 -5.429688 2.257812 -5.546875 2.40625 -5.640625 C 2.550781 -5.734375 2.71875 -5.804688 2.90625 -5.859375 C 3.101562 -5.910156 3.328125 -5.9375 3.578125 -5.9375 C 3.898438 -5.9375 4.175781 -5.894531 4.40625 -5.8125 C 4.644531 -5.738281 4.835938 -5.617188 4.984375 -5.453125 C 5.140625 -5.285156 5.25 -5.070312 5.3125 -4.8125 C 5.382812 -4.550781 5.421875 -4.242188 5.421875 -3.890625 L 5.421875 0 Z M 4.453125 0 \"/>\n",
       "</symbol>\n",
       "<symbol overflow=\"visible\" id=\"glyph0-11\">\n",
       "<path style=\"stroke:none;\" d=\"M 2.953125 2.296875 C 2.617188 2.296875 2.320312 2.257812 2.0625 2.1875 C 1.800781 2.125 1.578125 2.023438 1.390625 1.890625 C 1.210938 1.765625 1.066406 1.613281 0.953125 1.4375 C 0.835938 1.257812 0.753906 1.066406 0.703125 0.859375 L 1.6875 0.71875 C 1.75 0.976562 1.890625 1.179688 2.109375 1.328125 C 2.328125 1.472656 2.617188 1.546875 2.984375 1.546875 C 3.203125 1.546875 3.398438 1.515625 3.578125 1.453125 C 3.753906 1.398438 3.90625 1.304688 4.03125 1.171875 C 4.164062 1.035156 4.265625 0.859375 4.328125 0.640625 C 4.398438 0.421875 4.4375 0.160156 4.4375 -0.140625 L 4.4375 -1.078125 L 4.421875 -1.078125 C 4.347656 -0.929688 4.257812 -0.789062 4.15625 -0.65625 C 4.050781 -0.519531 3.921875 -0.398438 3.765625 -0.296875 C 3.609375 -0.191406 3.429688 -0.109375 3.234375 -0.046875 C 3.035156 0.015625 2.804688 0.046875 2.546875 0.046875 C 2.171875 0.046875 1.851562 -0.015625 1.59375 -0.140625 C 1.332031 -0.265625 1.117188 -0.453125 0.953125 -0.703125 C 0.785156 -0.953125 0.660156 -1.257812 0.578125 -1.625 C 0.503906 -1.988281 0.46875 -2.414062 0.46875 -2.90625 C 0.46875 -3.375 0.503906 -3.796875 0.578125 -4.171875 C 0.660156 -4.546875 0.785156 -4.863281 0.953125 -5.125 C 1.128906 -5.382812 1.359375 -5.582031 1.640625 -5.71875 C 1.921875 -5.851562 2.257812 -5.921875 2.65625 -5.921875 C 3.070312 -5.921875 3.429688 -5.828125 3.734375 -5.640625 C 4.035156 -5.453125 4.269531 -5.1875 4.4375 -4.84375 C 4.4375 -4.925781 4.4375 -5.023438 4.4375 -5.140625 C 4.445312 -5.253906 4.457031 -5.359375 4.46875 -5.453125 C 4.476562 -5.554688 4.484375 -5.640625 4.484375 -5.703125 C 4.492188 -5.773438 4.503906 -5.820312 4.515625 -5.84375 L 5.4375 -5.84375 C 5.425781 -5.800781 5.421875 -5.742188 5.421875 -5.671875 C 5.421875 -5.597656 5.414062 -5.503906 5.40625 -5.390625 C 5.40625 -5.285156 5.40625 -5.164062 5.40625 -5.03125 C 5.40625 -4.90625 5.40625 -4.769531 5.40625 -4.625 L 5.40625 -0.171875 C 5.40625 0.648438 5.203125 1.265625 4.796875 1.671875 C 4.398438 2.085938 3.785156 2.296875 2.953125 2.296875 Z M 4.4375 -2.921875 C 4.4375 -3.328125 4.390625 -3.671875 4.296875 -3.953125 C 4.210938 -4.242188 4.097656 -4.484375 3.953125 -4.671875 C 3.804688 -4.859375 3.640625 -4.992188 3.453125 -5.078125 C 3.273438 -5.160156 3.085938 -5.203125 2.890625 -5.203125 C 2.640625 -5.203125 2.425781 -5.160156 2.25 -5.078125 C 2.070312 -4.992188 1.925781 -4.859375 1.8125 -4.671875 C 1.695312 -4.484375 1.609375 -4.242188 1.546875 -3.953125 C 1.492188 -3.660156 1.46875 -3.316406 1.46875 -2.921875 C 1.46875 -2.492188 1.492188 -2.132812 1.546875 -1.84375 C 1.609375 -1.5625 1.695312 -1.332031 1.8125 -1.15625 C 1.925781 -0.988281 2.070312 -0.863281 2.25 -0.78125 C 2.425781 -0.707031 2.632812 -0.671875 2.875 -0.671875 C 3.070312 -0.671875 3.257812 -0.710938 3.4375 -0.796875 C 3.625 -0.878906 3.789062 -1.007812 3.9375 -1.1875 C 4.09375 -1.375 4.210938 -1.609375 4.296875 -1.890625 C 4.390625 -2.171875 4.4375 -2.515625 4.4375 -2.921875 Z M 4.4375 -2.921875 \"/>\n",
       "</symbol>\n",
       "<symbol overflow=\"visible\" id=\"glyph0-12\">\n",
       "<path style=\"stroke:none;\" d=\"M 6.296875 0 L 5.421875 -2.21875 L 1.96875 -2.21875 L 1.09375 0 L 0.015625 0 L 3.125 -7.59375 L 4.296875 -7.59375 L 7.34375 0 Z M 4.140625 -5.53125 C 4.085938 -5.675781 4.035156 -5.820312 3.984375 -5.96875 C 3.929688 -6.113281 3.882812 -6.242188 3.84375 -6.359375 C 3.800781 -6.484375 3.765625 -6.585938 3.734375 -6.671875 C 3.710938 -6.753906 3.695312 -6.804688 3.6875 -6.828125 C 3.6875 -6.804688 3.671875 -6.753906 3.640625 -6.671875 C 3.617188 -6.585938 3.585938 -6.484375 3.546875 -6.359375 C 3.503906 -6.242188 3.457031 -6.109375 3.40625 -5.953125 C 3.351562 -5.804688 3.300781 -5.664062 3.25 -5.53125 L 2.28125 -3.03125 L 5.125 -3.03125 Z M 4.140625 -5.53125 \"/>\n",
       "</symbol>\n",
       "<symbol overflow=\"visible\" id=\"glyph0-13\">\n",
       "<path style=\"stroke:none;\" d=\"M 4.140625 0 L 4.140625 -3.703125 C 4.140625 -3.984375 4.117188 -4.21875 4.078125 -4.40625 C 4.046875 -4.601562 3.988281 -4.757812 3.90625 -4.875 C 3.820312 -4.988281 3.710938 -5.066406 3.578125 -5.109375 C 3.441406 -5.160156 3.273438 -5.1875 3.078125 -5.1875 C 2.867188 -5.1875 2.679688 -5.144531 2.515625 -5.0625 C 2.347656 -4.988281 2.207031 -4.875 2.09375 -4.71875 C 1.976562 -4.570312 1.890625 -4.382812 1.828125 -4.15625 C 1.765625 -3.925781 1.734375 -3.664062 1.734375 -3.375 L 1.734375 0 L 0.765625 0 L 0.765625 -4.59375 C 0.765625 -4.71875 0.765625 -4.84375 0.765625 -4.96875 C 0.765625 -5.101562 0.757812 -5.234375 0.75 -5.359375 C 0.75 -5.484375 0.742188 -5.585938 0.734375 -5.671875 C 0.734375 -5.753906 0.734375 -5.8125 0.734375 -5.84375 L 1.65625 -5.84375 C 1.65625 -5.820312 1.65625 -5.769531 1.65625 -5.6875 C 1.664062 -5.613281 1.671875 -5.523438 1.671875 -5.421875 C 1.679688 -5.316406 1.6875 -5.210938 1.6875 -5.109375 C 1.6875 -5.003906 1.6875 -4.914062 1.6875 -4.84375 L 1.703125 -4.84375 C 1.796875 -5.007812 1.890625 -5.160156 1.984375 -5.296875 C 2.085938 -5.429688 2.207031 -5.546875 2.34375 -5.640625 C 2.476562 -5.734375 2.628906 -5.804688 2.796875 -5.859375 C 2.972656 -5.910156 3.179688 -5.9375 3.421875 -5.9375 C 3.859375 -5.9375 4.203125 -5.847656 4.453125 -5.671875 C 4.710938 -5.503906 4.894531 -5.226562 5 -4.84375 L 5.015625 -4.84375 C 5.097656 -5.007812 5.191406 -5.160156 5.296875 -5.296875 C 5.410156 -5.429688 5.539062 -5.546875 5.6875 -5.640625 C 5.832031 -5.734375 5.992188 -5.804688 6.171875 -5.859375 C 6.347656 -5.910156 6.550781 -5.9375 6.78125 -5.9375 C 7.082031 -5.9375 7.335938 -5.894531 7.546875 -5.8125 C 7.765625 -5.738281 7.941406 -5.617188 8.078125 -5.453125 C 8.210938 -5.285156 8.3125 -5.070312 8.375 -4.8125 C 8.4375 -4.550781 8.46875 -4.242188 8.46875 -3.890625 L 8.46875 0 L 7.515625 0 L 7.515625 -3.703125 C 7.515625 -3.984375 7.492188 -4.21875 7.453125 -4.40625 C 7.421875 -4.601562 7.363281 -4.757812 7.28125 -4.875 C 7.195312 -4.988281 7.085938 -5.066406 6.953125 -5.109375 C 6.816406 -5.160156 6.648438 -5.1875 6.453125 -5.1875 C 6.242188 -5.1875 6.054688 -5.148438 5.890625 -5.078125 C 5.722656 -5.003906 5.582031 -4.890625 5.46875 -4.734375 C 5.351562 -4.585938 5.265625 -4.398438 5.203125 -4.171875 C 5.140625 -3.941406 5.109375 -3.675781 5.109375 -3.375 L 5.109375 0 Z M 4.140625 0 \"/>\n",
       "</symbol>\n",
       "<symbol overflow=\"visible\" id=\"glyph0-14\">\n",
       "<path style=\"stroke:none;\" d=\"M 2.234375 0.109375 C 1.648438 0.109375 1.207031 -0.0390625 0.90625 -0.34375 C 0.613281 -0.65625 0.46875 -1.082031 0.46875 -1.625 C 0.46875 -2.007812 0.539062 -2.320312 0.6875 -2.5625 C 0.832031 -2.8125 1.019531 -3.003906 1.25 -3.140625 C 1.488281 -3.285156 1.757812 -3.382812 2.0625 -3.4375 C 2.363281 -3.5 2.671875 -3.53125 2.984375 -3.53125 L 4.296875 -3.5625 L 4.296875 -3.875 C 4.296875 -4.113281 4.269531 -4.316406 4.21875 -4.484375 C 4.164062 -4.660156 4.085938 -4.800781 3.984375 -4.90625 C 3.878906 -5.007812 3.75 -5.082031 3.59375 -5.125 C 3.4375 -5.175781 3.253906 -5.203125 3.046875 -5.203125 C 2.859375 -5.203125 2.6875 -5.1875 2.53125 -5.15625 C 2.382812 -5.132812 2.253906 -5.085938 2.140625 -5.015625 C 2.035156 -4.941406 1.945312 -4.84375 1.875 -4.71875 C 1.8125 -4.601562 1.769531 -4.457031 1.75 -4.28125 L 0.734375 -4.375 C 0.765625 -4.601562 0.828125 -4.8125 0.921875 -5 C 1.023438 -5.195312 1.171875 -5.363281 1.359375 -5.5 C 1.546875 -5.644531 1.773438 -5.753906 2.046875 -5.828125 C 2.328125 -5.898438 2.664062 -5.9375 3.0625 -5.9375 C 3.800781 -5.9375 4.351562 -5.769531 4.71875 -5.4375 C 5.09375 -5.101562 5.28125 -4.617188 5.28125 -3.984375 L 5.28125 -1.46875 C 5.28125 -1.175781 5.316406 -0.957031 5.390625 -0.8125 C 5.460938 -0.664062 5.609375 -0.59375 5.828125 -0.59375 C 5.878906 -0.59375 5.929688 -0.597656 5.984375 -0.609375 C 6.035156 -0.617188 6.085938 -0.628906 6.140625 -0.640625 L 6.140625 -0.03125 C 6.015625 0 5.890625 0.0195312 5.765625 0.03125 C 5.648438 0.0390625 5.523438 0.046875 5.390625 0.046875 C 5.210938 0.046875 5.054688 0.0234375 4.921875 -0.015625 C 4.785156 -0.0664062 4.675781 -0.140625 4.59375 -0.234375 C 4.519531 -0.335938 4.457031 -0.460938 4.40625 -0.609375 C 4.363281 -0.753906 4.335938 -0.921875 4.328125 -1.109375 L 4.296875 -1.109375 C 4.191406 -0.929688 4.078125 -0.765625 3.953125 -0.609375 C 3.828125 -0.460938 3.679688 -0.332031 3.515625 -0.21875 C 3.359375 -0.113281 3.171875 -0.0351562 2.953125 0.015625 C 2.742188 0.078125 2.503906 0.109375 2.234375 0.109375 Z M 2.453125 -0.625 C 2.765625 -0.625 3.035156 -0.675781 3.265625 -0.78125 C 3.492188 -0.894531 3.6875 -1.039062 3.84375 -1.21875 C 4 -1.394531 4.113281 -1.585938 4.1875 -1.796875 C 4.257812 -2.003906 4.296875 -2.207031 4.296875 -2.40625 L 4.296875 -2.875 L 3.234375 -2.859375 C 2.992188 -2.859375 2.765625 -2.84375 2.546875 -2.8125 C 2.335938 -2.78125 2.148438 -2.71875 1.984375 -2.625 C 1.828125 -2.53125 1.703125 -2.398438 1.609375 -2.234375 C 1.515625 -2.078125 1.46875 -1.867188 1.46875 -1.609375 C 1.46875 -1.296875 1.550781 -1.050781 1.71875 -0.875 C 1.894531 -0.707031 2.140625 -0.625 2.453125 -0.625 Z M 2.453125 -0.625 \"/>\n",
       "</symbol>\n",
       "<symbol overflow=\"visible\" id=\"glyph0-15\">\n",
       "<path style=\"stroke:none;\" d=\"M 4.421875 -0.9375 C 4.242188 -0.5625 4.003906 -0.289062 3.703125 -0.125 C 3.410156 0.03125 3.046875 0.109375 2.609375 0.109375 C 1.867188 0.109375 1.328125 -0.132812 0.984375 -0.625 C 0.640625 -1.125 0.46875 -1.878906 0.46875 -2.890625 C 0.46875 -4.921875 1.179688 -5.9375 2.609375 -5.9375 C 3.054688 -5.9375 3.425781 -5.851562 3.71875 -5.6875 C 4.007812 -5.53125 4.242188 -5.28125 4.421875 -4.9375 L 4.4375 -4.9375 C 4.4375 -4.96875 4.4375 -5.019531 4.4375 -5.09375 C 4.4375 -5.175781 4.429688 -5.257812 4.421875 -5.34375 C 4.421875 -5.425781 4.421875 -5.503906 4.421875 -5.578125 C 4.421875 -5.660156 4.421875 -5.71875 4.421875 -5.75 L 4.421875 -8 L 5.40625 -8 L 5.40625 -1.203125 C 5.40625 -1.066406 5.40625 -0.929688 5.40625 -0.796875 C 5.40625 -0.671875 5.40625 -0.550781 5.40625 -0.4375 C 5.414062 -0.332031 5.421875 -0.238281 5.421875 -0.15625 C 5.421875 -0.0820312 5.425781 -0.03125 5.4375 0 L 4.5 0 C 4.5 -0.03125 4.492188 -0.078125 4.484375 -0.140625 C 4.484375 -0.210938 4.476562 -0.289062 4.46875 -0.375 C 4.457031 -0.46875 4.453125 -0.5625 4.453125 -0.65625 C 4.453125 -0.75 4.453125 -0.84375 4.453125 -0.9375 Z M 1.484375 -2.921875 C 1.484375 -2.515625 1.507812 -2.164062 1.5625 -1.875 C 1.613281 -1.59375 1.691406 -1.359375 1.796875 -1.171875 C 1.910156 -0.992188 2.050781 -0.859375 2.21875 -0.765625 C 2.394531 -0.679688 2.609375 -0.640625 2.859375 -0.640625 C 3.109375 -0.640625 3.332031 -0.679688 3.53125 -0.765625 C 3.726562 -0.847656 3.890625 -0.984375 4.015625 -1.171875 C 4.148438 -1.359375 4.25 -1.597656 4.3125 -1.890625 C 4.382812 -2.191406 4.421875 -2.554688 4.421875 -2.984375 C 4.421875 -3.398438 4.382812 -3.75 4.3125 -4.03125 C 4.25 -4.320312 4.148438 -4.554688 4.015625 -4.734375 C 3.890625 -4.910156 3.726562 -5.035156 3.53125 -5.109375 C 3.34375 -5.191406 3.125 -5.234375 2.875 -5.234375 C 2.632812 -5.234375 2.425781 -5.191406 2.25 -5.109375 C 2.082031 -5.023438 1.941406 -4.890625 1.828125 -4.703125 C 1.710938 -4.515625 1.625 -4.273438 1.5625 -3.984375 C 1.507812 -3.691406 1.484375 -3.335938 1.484375 -2.921875 Z M 1.484375 -2.921875 \"/>\n",
       "</symbol>\n",
       "<symbol overflow=\"visible\" id=\"glyph0-16\">\n",
       "<path style=\"stroke:none;\" d=\"M 1.9375 -6.765625 L 1.9375 -3.9375 L 6.171875 -3.9375 L 6.171875 -3.078125 L 1.9375 -3.078125 L 1.9375 0 L 0.90625 0 L 0.90625 -7.59375 L 6.3125 -7.59375 L 6.3125 -6.765625 Z M 1.9375 -6.765625 \"/>\n",
       "</symbol>\n",
       "<symbol overflow=\"visible\" id=\"glyph0-17\">\n",
       "<path style=\"stroke:none;\" d=\"M 5.6875 -2.921875 C 5.6875 -1.898438 5.457031 -1.140625 5 -0.640625 C 4.550781 -0.140625 3.898438 0.109375 3.046875 0.109375 C 2.640625 0.109375 2.273438 0.046875 1.953125 -0.078125 C 1.640625 -0.203125 1.367188 -0.390625 1.140625 -0.640625 C 0.921875 -0.890625 0.753906 -1.203125 0.640625 -1.578125 C 0.523438 -1.960938 0.46875 -2.410156 0.46875 -2.921875 C 0.46875 -4.929688 1.335938 -5.9375 3.078125 -5.9375 C 3.535156 -5.9375 3.925781 -5.875 4.25 -5.75 C 4.582031 -5.625 4.851562 -5.4375 5.0625 -5.1875 C 5.269531 -4.9375 5.425781 -4.617188 5.53125 -4.234375 C 5.632812 -3.859375 5.6875 -3.421875 5.6875 -2.921875 Z M 4.65625 -2.921875 C 4.65625 -3.378906 4.617188 -3.753906 4.546875 -4.046875 C 4.484375 -4.335938 4.382812 -4.570312 4.25 -4.75 C 4.113281 -4.925781 3.945312 -5.050781 3.75 -5.125 C 3.5625 -5.195312 3.34375 -5.234375 3.09375 -5.234375 C 2.84375 -5.234375 2.617188 -5.191406 2.421875 -5.109375 C 2.222656 -5.035156 2.050781 -4.910156 1.90625 -4.734375 C 1.769531 -4.554688 1.664062 -4.320312 1.59375 -4.03125 C 1.519531 -3.738281 1.484375 -3.367188 1.484375 -2.921875 C 1.484375 -2.472656 1.519531 -2.097656 1.59375 -1.796875 C 1.675781 -1.503906 1.785156 -1.269531 1.921875 -1.09375 C 2.066406 -0.914062 2.234375 -0.789062 2.421875 -0.71875 C 2.609375 -0.644531 2.8125 -0.609375 3.03125 -0.609375 C 3.28125 -0.609375 3.503906 -0.640625 3.703125 -0.703125 C 3.910156 -0.773438 4.082031 -0.898438 4.21875 -1.078125 C 4.363281 -1.253906 4.472656 -1.492188 4.546875 -1.796875 C 4.617188 -2.097656 4.65625 -2.472656 4.65625 -2.921875 Z M 3.71875 -6.578125 L 3.71875 -7.5625 L 4.59375 -7.5625 L 4.59375 -6.578125 Z M 1.59375 -6.578125 L 1.59375 -7.5625 L 2.46875 -7.5625 L 2.46875 -6.578125 Z M 1.59375 -6.578125 \"/>\n",
       "</symbol>\n",
       "<symbol overflow=\"visible\" id=\"glyph0-18\">\n",
       "<path style=\"stroke:none;\" d=\"M 6.859375 -2.09375 C 6.859375 -1.78125 6.796875 -1.488281 6.671875 -1.21875 C 6.546875 -0.945312 6.351562 -0.710938 6.09375 -0.515625 C 5.84375 -0.316406 5.519531 -0.160156 5.125 -0.046875 C 4.726562 0.0546875 4.257812 0.109375 3.71875 0.109375 C 2.769531 0.109375 2.03125 -0.0546875 1.5 -0.390625 C 0.976562 -0.722656 0.644531 -1.203125 0.5 -1.828125 L 1.5 -2.015625 C 1.550781 -1.816406 1.628906 -1.632812 1.734375 -1.46875 C 1.835938 -1.3125 1.976562 -1.175781 2.15625 -1.0625 C 2.332031 -0.945312 2.550781 -0.859375 2.8125 -0.796875 C 3.070312 -0.734375 3.390625 -0.703125 3.765625 -0.703125 C 4.066406 -0.703125 4.34375 -0.726562 4.59375 -0.78125 C 4.851562 -0.832031 5.070312 -0.910156 5.25 -1.015625 C 5.4375 -1.117188 5.582031 -1.253906 5.6875 -1.421875 C 5.789062 -1.597656 5.84375 -1.804688 5.84375 -2.046875 C 5.84375 -2.296875 5.785156 -2.492188 5.671875 -2.640625 C 5.554688 -2.796875 5.394531 -2.925781 5.1875 -3.03125 C 4.988281 -3.132812 4.742188 -3.21875 4.453125 -3.28125 C 4.171875 -3.351562 3.859375 -3.425781 3.515625 -3.5 C 3.304688 -3.550781 3.09375 -3.601562 2.875 -3.65625 C 2.664062 -3.71875 2.460938 -3.785156 2.265625 -3.859375 C 2.066406 -3.929688 1.878906 -4.019531 1.703125 -4.125 C 1.535156 -4.226562 1.390625 -4.351562 1.265625 -4.5 C 1.140625 -4.644531 1.039062 -4.8125 0.96875 -5 C 0.894531 -5.195312 0.859375 -5.425781 0.859375 -5.6875 C 0.859375 -6.039062 0.929688 -6.34375 1.078125 -6.59375 C 1.222656 -6.851562 1.425781 -7.066406 1.6875 -7.234375 C 1.945312 -7.398438 2.25 -7.519531 2.59375 -7.59375 C 2.945312 -7.675781 3.332031 -7.71875 3.75 -7.71875 C 4.21875 -7.71875 4.617188 -7.679688 4.953125 -7.609375 C 5.285156 -7.535156 5.566406 -7.421875 5.796875 -7.265625 C 6.023438 -7.117188 6.207031 -6.9375 6.34375 -6.71875 C 6.488281 -6.5 6.601562 -6.25 6.6875 -5.96875 L 5.671875 -5.78125 C 5.617188 -5.96875 5.546875 -6.132812 5.453125 -6.28125 C 5.359375 -6.425781 5.234375 -6.546875 5.078125 -6.640625 C 4.921875 -6.734375 4.734375 -6.804688 4.515625 -6.859375 C 4.296875 -6.910156 4.035156 -6.9375 3.734375 -6.9375 C 3.378906 -6.9375 3.082031 -6.90625 2.84375 -6.84375 C 2.601562 -6.78125 2.410156 -6.691406 2.265625 -6.578125 C 2.117188 -6.472656 2.015625 -6.347656 1.953125 -6.203125 C 1.890625 -6.054688 1.859375 -5.898438 1.859375 -5.734375 C 1.859375 -5.503906 1.914062 -5.316406 2.03125 -5.171875 C 2.144531 -5.023438 2.296875 -4.90625 2.484375 -4.8125 C 2.679688 -4.71875 2.90625 -4.632812 3.15625 -4.5625 C 3.414062 -4.5 3.691406 -4.4375 3.984375 -4.375 C 4.210938 -4.320312 4.441406 -4.265625 4.671875 -4.203125 C 4.910156 -4.148438 5.132812 -4.082031 5.34375 -4 C 5.550781 -3.925781 5.75 -3.835938 5.9375 -3.734375 C 6.125 -3.628906 6.285156 -3.5 6.421875 -3.34375 C 6.554688 -3.195312 6.660156 -3.019531 6.734375 -2.8125 C 6.816406 -2.613281 6.859375 -2.375 6.859375 -2.09375 Z M 6.859375 -2.09375 \"/>\n",
       "</symbol>\n",
       "<symbol overflow=\"visible\" id=\"glyph0-19\">\n",
       "<path style=\"stroke:none;\" d=\"M 3.265625 0 C 3.117188 0.351562 2.972656 0.671875 2.828125 0.953125 C 2.691406 1.234375 2.535156 1.472656 2.359375 1.671875 C 2.179688 1.867188 1.984375 2.019531 1.765625 2.125 C 1.554688 2.238281 1.3125 2.296875 1.03125 2.296875 C 0.90625 2.296875 0.789062 2.289062 0.6875 2.28125 C 0.582031 2.269531 0.472656 2.253906 0.359375 2.234375 L 0.359375 1.5 C 0.429688 1.507812 0.507812 1.515625 0.59375 1.515625 C 0.675781 1.523438 0.75 1.53125 0.8125 1.53125 C 1.09375 1.53125 1.351562 1.425781 1.59375 1.21875 C 1.84375 1.007812 2.0625 0.671875 2.25 0.203125 L 2.34375 -0.03125 L 0.03125 -5.84375 L 1.0625 -5.84375 L 2.296875 -2.609375 C 2.328125 -2.515625 2.367188 -2.382812 2.421875 -2.21875 C 2.484375 -2.0625 2.539062 -1.898438 2.59375 -1.734375 C 2.65625 -1.578125 2.707031 -1.429688 2.75 -1.296875 C 2.789062 -1.171875 2.816406 -1.09375 2.828125 -1.0625 C 2.835938 -1.09375 2.863281 -1.164062 2.90625 -1.28125 C 2.945312 -1.40625 2.992188 -1.539062 3.046875 -1.6875 C 3.097656 -1.832031 3.148438 -1.976562 3.203125 -2.125 C 3.253906 -2.269531 3.296875 -2.394531 3.328125 -2.5 L 4.484375 -5.84375 L 5.5 -5.84375 Z M 3.265625 0 \"/>\n",
       "</symbol>\n",
       "<symbol overflow=\"visible\" id=\"glyph0-20\">\n",
       "<path style=\"stroke:none;\" d=\"M 2.984375 -0.046875 C 2.835938 -0.00390625 2.6875 0.0234375 2.53125 0.046875 C 2.382812 0.078125 2.207031 0.09375 2 0.09375 C 1.226562 0.09375 0.84375 -0.347656 0.84375 -1.234375 L 0.84375 -5.125 L 0.171875 -5.125 L 0.171875 -5.84375 L 0.875 -5.84375 L 1.171875 -7.140625 L 1.8125 -7.140625 L 1.8125 -5.84375 L 2.890625 -5.84375 L 2.890625 -5.125 L 1.8125 -5.125 L 1.8125 -1.453125 C 1.8125 -1.171875 1.859375 -0.972656 1.953125 -0.859375 C 2.046875 -0.742188 2.203125 -0.6875 2.421875 -0.6875 C 2.515625 -0.6875 2.601562 -0.691406 2.6875 -0.703125 C 2.78125 -0.722656 2.878906 -0.742188 2.984375 -0.765625 Z M 2.984375 -0.046875 \"/>\n",
       "</symbol>\n",
       "<symbol overflow=\"visible\" id=\"glyph0-21\">\n",
       "<path style=\"stroke:none;\" d=\"M 6.28125 0 L 4.296875 -3.15625 L 1.9375 -3.15625 L 1.9375 0 L 0.90625 0 L 0.90625 -7.59375 L 4.484375 -7.59375 C 4.910156 -7.59375 5.289062 -7.539062 5.625 -7.4375 C 5.957031 -7.34375 6.238281 -7.203125 6.46875 -7.015625 C 6.695312 -6.835938 6.867188 -6.613281 6.984375 -6.34375 C 7.097656 -6.070312 7.15625 -5.765625 7.15625 -5.421875 C 7.15625 -5.179688 7.117188 -4.941406 7.046875 -4.703125 C 6.984375 -4.472656 6.875 -4.257812 6.71875 -4.0625 C 6.570312 -3.875 6.378906 -3.707031 6.140625 -3.5625 C 5.910156 -3.425781 5.632812 -3.332031 5.3125 -3.28125 L 7.46875 0 Z M 6.125 -5.421875 C 6.125 -5.648438 6.082031 -5.847656 6 -6.015625 C 5.925781 -6.179688 5.8125 -6.320312 5.65625 -6.4375 C 5.507812 -6.550781 5.328125 -6.632812 5.109375 -6.6875 C 4.898438 -6.75 4.65625 -6.78125 4.375 -6.78125 L 1.9375 -6.78125 L 1.9375 -3.96875 L 4.421875 -3.96875 C 4.710938 -3.96875 4.96875 -4.003906 5.1875 -4.078125 C 5.40625 -4.148438 5.582031 -4.25 5.71875 -4.375 C 5.851562 -4.507812 5.953125 -4.664062 6.015625 -4.84375 C 6.085938 -5.019531 6.125 -5.210938 6.125 -5.421875 Z M 6.125 -5.421875 \"/>\n",
       "</symbol>\n",
       "<symbol overflow=\"visible\" id=\"glyph0-22\">\n",
       "<path style=\"stroke:none;\" d=\"M 6 -2.921875 C 6 -1.898438 5.773438 -1.140625 5.328125 -0.640625 C 4.878906 -0.140625 4.222656 0.109375 3.359375 0.109375 C 3.015625 0.109375 2.703125 0.0664062 2.421875 -0.015625 C 2.140625 -0.109375 1.890625 -0.242188 1.671875 -0.421875 L 1.140625 0.203125 L 0.234375 0.203125 L 1.234375 -0.953125 C 1.085938 -1.191406 0.972656 -1.472656 0.890625 -1.796875 C 0.816406 -2.128906 0.78125 -2.503906 0.78125 -2.921875 C 0.78125 -4.929688 1.648438 -5.9375 3.390625 -5.9375 C 3.765625 -5.9375 4.09375 -5.894531 4.375 -5.8125 C 4.65625 -5.738281 4.898438 -5.617188 5.109375 -5.453125 L 5.59375 -6.015625 L 6.5 -6.015625 L 5.5625 -4.9375 C 5.707031 -4.6875 5.816406 -4.394531 5.890625 -4.0625 C 5.960938 -3.726562 6 -3.347656 6 -2.921875 Z M 4.984375 -2.921875 C 4.984375 -3.171875 4.96875 -3.390625 4.9375 -3.578125 C 4.914062 -3.773438 4.890625 -3.953125 4.859375 -4.109375 L 2.25 -1.078125 C 2.382812 -0.898438 2.546875 -0.773438 2.734375 -0.703125 C 2.921875 -0.640625 3.128906 -0.609375 3.359375 -0.609375 C 3.609375 -0.609375 3.832031 -0.640625 4.03125 -0.703125 C 4.226562 -0.773438 4.394531 -0.898438 4.53125 -1.078125 C 4.675781 -1.253906 4.785156 -1.492188 4.859375 -1.796875 C 4.941406 -2.097656 4.984375 -2.472656 4.984375 -2.921875 Z M 1.796875 -2.921875 C 1.796875 -2.453125 1.84375 -2.066406 1.9375 -1.765625 L 4.53125 -4.796875 C 4.394531 -4.953125 4.234375 -5.0625 4.046875 -5.125 C 3.859375 -5.195312 3.648438 -5.234375 3.421875 -5.234375 C 3.171875 -5.234375 2.941406 -5.191406 2.734375 -5.109375 C 2.535156 -5.035156 2.363281 -4.910156 2.21875 -4.734375 C 2.082031 -4.554688 1.976562 -4.320312 1.90625 -4.03125 C 1.832031 -3.738281 1.796875 -3.367188 1.796875 -2.921875 Z M 1.796875 -2.921875 \"/>\n",
       "</symbol>\n",
       "<symbol overflow=\"visible\" id=\"glyph1-0\">\n",
       "<path style=\"stroke:none;\" d=\"M 0.296875 0 L 0.296875 -5.859375 L 2.625 -5.859375 L 2.625 0 Z M 0.578125 -0.296875 L 2.34375 -0.296875 L 2.34375 -5.578125 L 0.578125 -5.578125 Z M 0.578125 -0.296875 \"/>\n",
       "</symbol>\n",
       "<symbol overflow=\"visible\" id=\"glyph1-1\">\n",
       "<path style=\"stroke:none;\" d=\"M 4.546875 -3.03125 C 4.546875 -2.445312 4.488281 -1.957031 4.375 -1.5625 C 4.269531 -1.164062 4.117188 -0.84375 3.921875 -0.59375 C 3.734375 -0.351562 3.507812 -0.179688 3.25 -0.078125 C 3 0.0234375 2.726562 0.078125 2.4375 0.078125 C 2.144531 0.078125 1.867188 0.0234375 1.609375 -0.078125 C 1.359375 -0.179688 1.140625 -0.351562 0.953125 -0.59375 C 0.765625 -0.84375 0.613281 -1.164062 0.5 -1.5625 C 0.394531 -1.957031 0.34375 -2.445312 0.34375 -3.03125 C 0.34375 -3.632812 0.394531 -4.132812 0.5 -4.53125 C 0.613281 -4.9375 0.765625 -5.257812 0.953125 -5.5 C 1.140625 -5.738281 1.359375 -5.90625 1.609375 -6 C 1.867188 -6.09375 2.15625 -6.140625 2.46875 -6.140625 C 2.75 -6.140625 3.015625 -6.09375 3.265625 -6 C 3.523438 -5.90625 3.75 -5.738281 3.9375 -5.5 C 4.125 -5.257812 4.269531 -4.9375 4.375 -4.53125 C 4.488281 -4.132812 4.546875 -3.632812 4.546875 -3.03125 Z M 3.765625 -3.03125 C 3.765625 -3.507812 3.734375 -3.90625 3.671875 -4.21875 C 3.617188 -4.539062 3.535156 -4.796875 3.421875 -4.984375 C 3.304688 -5.179688 3.164062 -5.316406 3 -5.390625 C 2.84375 -5.472656 2.664062 -5.515625 2.46875 -5.515625 C 2.25 -5.515625 2.054688 -5.472656 1.890625 -5.390625 C 1.722656 -5.316406 1.582031 -5.179688 1.46875 -4.984375 C 1.351562 -4.796875 1.265625 -4.539062 1.203125 -4.21875 C 1.148438 -3.90625 1.125 -3.507812 1.125 -3.03125 C 1.125 -2.5625 1.148438 -2.164062 1.203125 -1.84375 C 1.265625 -1.53125 1.351562 -1.273438 1.46875 -1.078125 C 1.582031 -0.890625 1.71875 -0.753906 1.875 -0.671875 C 2.039062 -0.585938 2.226562 -0.546875 2.4375 -0.546875 C 2.644531 -0.546875 2.828125 -0.585938 2.984375 -0.671875 C 3.148438 -0.753906 3.289062 -0.890625 3.40625 -1.078125 C 3.519531 -1.273438 3.609375 -1.53125 3.671875 -1.84375 C 3.734375 -2.164062 3.765625 -2.5625 3.765625 -3.03125 Z M 3.765625 -3.03125 \"/>\n",
       "</symbol>\n",
       "<symbol overflow=\"visible\" id=\"glyph1-2\">\n",
       "<path style=\"stroke:none;\" d=\"M 0.4375 0 L 0.4375 -0.546875 C 0.582031 -0.878906 0.757812 -1.171875 0.96875 -1.421875 C 1.1875 -1.679688 1.410156 -1.914062 1.640625 -2.125 C 1.867188 -2.332031 2.097656 -2.523438 2.328125 -2.703125 C 2.554688 -2.878906 2.757812 -3.054688 2.9375 -3.234375 C 3.125 -3.410156 3.273438 -3.597656 3.390625 -3.796875 C 3.503906 -3.992188 3.5625 -4.210938 3.5625 -4.453125 C 3.5625 -4.628906 3.535156 -4.78125 3.484375 -4.90625 C 3.429688 -5.039062 3.351562 -5.148438 3.25 -5.234375 C 3.15625 -5.328125 3.039062 -5.394531 2.90625 -5.4375 C 2.769531 -5.476562 2.617188 -5.5 2.453125 -5.5 C 2.296875 -5.5 2.148438 -5.476562 2.015625 -5.4375 C 1.878906 -5.394531 1.757812 -5.332031 1.65625 -5.25 C 1.550781 -5.164062 1.460938 -5.054688 1.390625 -4.921875 C 1.328125 -4.796875 1.285156 -4.648438 1.265625 -4.484375 L 0.484375 -4.5625 C 0.503906 -4.78125 0.5625 -4.984375 0.65625 -5.171875 C 0.75 -5.359375 0.878906 -5.523438 1.046875 -5.671875 C 1.210938 -5.816406 1.410156 -5.929688 1.640625 -6.015625 C 1.878906 -6.097656 2.148438 -6.140625 2.453125 -6.140625 C 2.753906 -6.140625 3.019531 -6.101562 3.25 -6.03125 C 3.488281 -5.957031 3.6875 -5.847656 3.84375 -5.703125 C 4.007812 -5.566406 4.132812 -5.394531 4.21875 -5.1875 C 4.3125 -4.988281 4.359375 -4.753906 4.359375 -4.484375 C 4.359375 -4.273438 4.320312 -4.078125 4.25 -3.890625 C 4.175781 -3.710938 4.078125 -3.539062 3.953125 -3.375 C 3.828125 -3.207031 3.6875 -3.046875 3.53125 -2.890625 C 3.375 -2.742188 3.207031 -2.59375 3.03125 -2.4375 C 2.851562 -2.289062 2.675781 -2.144531 2.5 -2 C 2.320312 -1.863281 2.15625 -1.722656 2 -1.578125 C 1.84375 -1.429688 1.703125 -1.28125 1.578125 -1.125 C 1.453125 -0.976562 1.359375 -0.820312 1.296875 -0.65625 L 4.453125 -0.65625 L 4.453125 0 Z M 0.4375 0 \"/>\n",
       "</symbol>\n",
       "<symbol overflow=\"visible\" id=\"glyph1-3\">\n",
       "<path style=\"stroke:none;\" d=\"M 3.78125 -1.375 L 3.78125 0 L 3.046875 0 L 3.046875 -1.375 L 0.203125 -1.375 L 0.203125 -1.96875 L 2.96875 -6.046875 L 3.78125 -6.046875 L 3.78125 -1.984375 L 4.640625 -1.984375 L 4.640625 -1.375 Z M 3.046875 -5.1875 C 3.046875 -5.164062 3.035156 -5.132812 3.015625 -5.09375 C 2.992188 -5.050781 2.96875 -5.003906 2.9375 -4.953125 C 2.90625 -4.898438 2.875 -4.847656 2.84375 -4.796875 C 2.8125 -4.742188 2.785156 -4.703125 2.765625 -4.671875 L 1.21875 -2.390625 C 1.195312 -2.359375 1.171875 -2.320312 1.140625 -2.28125 C 1.117188 -2.25 1.09375 -2.210938 1.0625 -2.171875 C 1.039062 -2.140625 1.015625 -2.101562 0.984375 -2.0625 C 0.953125 -2.03125 0.929688 -2.003906 0.921875 -1.984375 L 3.046875 -1.984375 Z M 3.046875 -5.1875 \"/>\n",
       "</symbol>\n",
       "<symbol overflow=\"visible\" id=\"glyph1-4\">\n",
       "<path style=\"stroke:none;\" d=\"M 4.5 -1.984375 C 4.5 -1.679688 4.457031 -1.398438 4.375 -1.140625 C 4.289062 -0.890625 4.164062 -0.671875 4 -0.484375 C 3.84375 -0.304688 3.640625 -0.164062 3.390625 -0.0625 C 3.148438 0.03125 2.867188 0.078125 2.546875 0.078125 C 2.191406 0.078125 1.882812 0.015625 1.625 -0.109375 C 1.363281 -0.242188 1.144531 -0.4375 0.96875 -0.6875 C 0.789062 -0.945312 0.660156 -1.257812 0.578125 -1.625 C 0.492188 -2 0.453125 -2.421875 0.453125 -2.890625 C 0.453125 -3.421875 0.5 -3.890625 0.59375 -4.296875 C 0.695312 -4.703125 0.835938 -5.039062 1.015625 -5.3125 C 1.203125 -5.59375 1.429688 -5.800781 1.703125 -5.9375 C 1.972656 -6.070312 2.273438 -6.140625 2.609375 -6.140625 C 2.816406 -6.140625 3.007812 -6.117188 3.1875 -6.078125 C 3.375 -6.035156 3.539062 -5.960938 3.6875 -5.859375 C 3.832031 -5.765625 3.957031 -5.640625 4.0625 -5.484375 C 4.175781 -5.328125 4.269531 -5.132812 4.34375 -4.90625 L 3.59375 -4.78125 C 3.519531 -5.039062 3.394531 -5.226562 3.21875 -5.34375 C 3.039062 -5.457031 2.835938 -5.515625 2.609375 -5.515625 C 2.390625 -5.515625 2.191406 -5.460938 2.015625 -5.359375 C 1.847656 -5.265625 1.703125 -5.117188 1.578125 -4.921875 C 1.460938 -4.722656 1.375 -4.472656 1.3125 -4.171875 C 1.25 -3.867188 1.21875 -3.515625 1.21875 -3.109375 C 1.351562 -3.367188 1.546875 -3.566406 1.796875 -3.703125 C 2.054688 -3.835938 2.351562 -3.90625 2.6875 -3.90625 C 2.957031 -3.90625 3.203125 -3.859375 3.421875 -3.765625 C 3.648438 -3.679688 3.84375 -3.554688 4 -3.390625 C 4.164062 -3.222656 4.289062 -3.019531 4.375 -2.78125 C 4.457031 -2.539062 4.5 -2.273438 4.5 -1.984375 Z M 3.71875 -1.953125 C 3.71875 -2.160156 3.691406 -2.347656 3.640625 -2.515625 C 3.585938 -2.679688 3.507812 -2.820312 3.40625 -2.9375 C 3.300781 -3.0625 3.171875 -3.15625 3.015625 -3.21875 C 2.867188 -3.28125 2.695312 -3.3125 2.5 -3.3125 C 2.363281 -3.3125 2.222656 -3.289062 2.078125 -3.25 C 1.929688 -3.207031 1.800781 -3.140625 1.6875 -3.046875 C 1.570312 -2.953125 1.476562 -2.828125 1.40625 -2.671875 C 1.332031 -2.523438 1.296875 -2.34375 1.296875 -2.125 C 1.296875 -1.90625 1.320312 -1.695312 1.375 -1.5 C 1.4375 -1.3125 1.519531 -1.144531 1.625 -1 C 1.726562 -0.851562 1.851562 -0.738281 2 -0.65625 C 2.15625 -0.570312 2.332031 -0.53125 2.53125 -0.53125 C 2.71875 -0.53125 2.882812 -0.5625 3.03125 -0.625 C 3.175781 -0.695312 3.300781 -0.789062 3.40625 -0.90625 C 3.507812 -1.03125 3.585938 -1.179688 3.640625 -1.359375 C 3.691406 -1.535156 3.71875 -1.734375 3.71875 -1.953125 Z M 3.71875 -1.953125 \"/>\n",
       "</symbol>\n",
       "<symbol overflow=\"visible\" id=\"glyph1-5\">\n",
       "<path style=\"stroke:none;\" d=\"M 4.515625 -1.96875 C 4.515625 -1.664062 4.46875 -1.390625 4.375 -1.140625 C 4.289062 -0.890625 4.15625 -0.671875 3.96875 -0.484375 C 3.789062 -0.304688 3.566406 -0.164062 3.296875 -0.0625 C 3.035156 0.03125 2.726562 0.078125 2.375 0.078125 C 2.0625 0.078125 1.785156 0.0390625 1.546875 -0.03125 C 1.304688 -0.101562 1.101562 -0.203125 0.9375 -0.328125 C 0.78125 -0.460938 0.648438 -0.613281 0.546875 -0.78125 C 0.453125 -0.957031 0.390625 -1.148438 0.359375 -1.359375 L 1.140625 -1.4375 C 1.171875 -1.320312 1.210938 -1.210938 1.265625 -1.109375 C 1.328125 -1.003906 1.40625 -0.910156 1.5 -0.828125 C 1.601562 -0.742188 1.722656 -0.675781 1.859375 -0.625 C 2.003906 -0.570312 2.179688 -0.546875 2.390625 -0.546875 C 2.585938 -0.546875 2.769531 -0.578125 2.9375 -0.640625 C 3.101562 -0.703125 3.242188 -0.789062 3.359375 -0.90625 C 3.472656 -1.03125 3.5625 -1.175781 3.625 -1.34375 C 3.6875 -1.519531 3.71875 -1.722656 3.71875 -1.953125 C 3.71875 -2.140625 3.6875 -2.3125 3.625 -2.46875 C 3.570312 -2.625 3.488281 -2.757812 3.375 -2.875 C 3.257812 -2.988281 3.117188 -3.078125 2.953125 -3.140625 C 2.796875 -3.203125 2.613281 -3.234375 2.40625 -3.234375 C 2.28125 -3.234375 2.160156 -3.21875 2.046875 -3.1875 C 1.941406 -3.164062 1.84375 -3.132812 1.75 -3.09375 C 1.65625 -3.0625 1.570312 -3.015625 1.5 -2.953125 C 1.425781 -2.898438 1.351562 -2.847656 1.28125 -2.796875 L 0.53125 -2.796875 L 0.734375 -6.046875 L 4.171875 -6.046875 L 4.171875 -5.390625 L 1.4375 -5.390625 L 1.3125 -3.46875 C 1.457031 -3.582031 1.628906 -3.675781 1.828125 -3.75 C 2.035156 -3.820312 2.28125 -3.859375 2.5625 -3.859375 C 2.863281 -3.859375 3.132812 -3.8125 3.375 -3.71875 C 3.613281 -3.632812 3.816406 -3.503906 3.984375 -3.328125 C 4.160156 -3.160156 4.289062 -2.960938 4.375 -2.734375 C 4.46875 -2.503906 4.515625 -2.25 4.515625 -1.96875 Z M 4.515625 -1.96875 \"/>\n",
       "</symbol>\n",
       "<symbol overflow=\"visible\" id=\"glyph1-6\">\n",
       "<path style=\"stroke:none;\" d=\"M 0.671875 0 L 0.671875 -0.65625 L 2.21875 -0.65625 L 2.21875 -5.3125 L 0.84375 -4.34375 L 0.84375 -5.0625 L 2.28125 -6.046875 L 2.984375 -6.046875 L 2.984375 -0.65625 L 4.46875 -0.65625 L 4.46875 0 Z M 0.671875 0 \"/>\n",
       "</symbol>\n",
       "<symbol overflow=\"visible\" id=\"glyph2-0\">\n",
       "<path style=\"stroke:none;\" d=\"M 0.359375 0 L 0.359375 -7.328125 L 3.28125 -7.328125 L 3.28125 0 Z M 0.734375 -0.359375 L 2.921875 -0.359375 L 2.921875 -6.96875 L 0.734375 -6.96875 Z M 0.734375 -0.359375 \"/>\n",
       "</symbol>\n",
       "<symbol overflow=\"visible\" id=\"glyph2-1\">\n",
       "<path style=\"stroke:none;\" d=\"M 6.265625 0 L 5.40625 -2.21875 L 1.953125 -2.21875 L 1.078125 0 L 0.015625 0 L 3.109375 -7.5625 L 4.28125 -7.5625 L 7.3125 0 Z M 4.125 -5.515625 C 4.070312 -5.648438 4.019531 -5.789062 3.96875 -5.9375 C 3.914062 -6.09375 3.867188 -6.226562 3.828125 -6.34375 C 3.785156 -6.46875 3.75 -6.566406 3.71875 -6.640625 C 3.695312 -6.722656 3.679688 -6.773438 3.671875 -6.796875 C 3.671875 -6.773438 3.65625 -6.722656 3.625 -6.640625 C 3.601562 -6.554688 3.570312 -6.453125 3.53125 -6.328125 C 3.488281 -6.210938 3.441406 -6.082031 3.390625 -5.9375 C 3.335938 -5.789062 3.285156 -5.644531 3.234375 -5.5 L 2.265625 -3.015625 L 5.09375 -3.015625 Z M 4.125 -5.515625 \"/>\n",
       "</symbol>\n",
       "<symbol overflow=\"visible\" id=\"glyph2-2\">\n",
       "<path style=\"stroke:none;\" d=\"M 0.765625 0 L 0.765625 -4.453125 C 0.765625 -4.578125 0.757812 -4.703125 0.75 -4.828125 C 0.75 -4.953125 0.75 -5.070312 0.75 -5.1875 C 0.75 -5.3125 0.742188 -5.425781 0.734375 -5.53125 C 0.734375 -5.632812 0.734375 -5.726562 0.734375 -5.8125 L 1.640625 -5.8125 C 1.648438 -5.726562 1.65625 -5.632812 1.65625 -5.53125 C 1.664062 -5.425781 1.671875 -5.316406 1.671875 -5.203125 C 1.679688 -5.085938 1.6875 -4.976562 1.6875 -4.875 C 1.6875 -4.78125 1.6875 -4.695312 1.6875 -4.625 L 1.703125 -4.625 C 1.773438 -4.84375 1.847656 -5.035156 1.921875 -5.203125 C 2.003906 -5.367188 2.097656 -5.503906 2.203125 -5.609375 C 2.304688 -5.710938 2.425781 -5.789062 2.5625 -5.84375 C 2.707031 -5.894531 2.882812 -5.921875 3.09375 -5.921875 C 3.164062 -5.921875 3.238281 -5.910156 3.3125 -5.890625 C 3.382812 -5.878906 3.441406 -5.867188 3.484375 -5.859375 L 3.484375 -4.984375 C 3.421875 -4.992188 3.34375 -5.003906 3.25 -5.015625 C 3.164062 -5.023438 3.070312 -5.03125 2.96875 -5.03125 C 2.738281 -5.03125 2.546875 -4.976562 2.390625 -4.875 C 2.242188 -4.78125 2.117188 -4.644531 2.015625 -4.46875 C 1.921875 -4.289062 1.847656 -4.078125 1.796875 -3.828125 C 1.753906 -3.585938 1.734375 -3.320312 1.734375 -3.03125 L 1.734375 0 Z M 0.765625 0 \"/>\n",
       "</symbol>\n",
       "<symbol overflow=\"visible\" id=\"glyph2-3\">\n",
       "<path style=\"stroke:none;\" d=\"M 1.484375 -2.703125 C 1.484375 -2.398438 1.515625 -2.117188 1.578125 -1.859375 C 1.640625 -1.609375 1.734375 -1.390625 1.859375 -1.203125 C 1.992188 -1.015625 2.160156 -0.867188 2.359375 -0.765625 C 2.566406 -0.671875 2.816406 -0.625 3.109375 -0.625 C 3.523438 -0.625 3.859375 -0.707031 4.109375 -0.875 C 4.359375 -1.039062 4.53125 -1.253906 4.625 -1.515625 L 5.46875 -1.265625 C 5.40625 -1.109375 5.316406 -0.945312 5.203125 -0.78125 C 5.097656 -0.613281 4.953125 -0.460938 4.765625 -0.328125 C 4.585938 -0.203125 4.363281 -0.0976562 4.09375 -0.015625 C 3.820312 0.0664062 3.492188 0.109375 3.109375 0.109375 C 2.242188 0.109375 1.585938 -0.144531 1.140625 -0.65625 C 0.691406 -1.164062 0.46875 -1.925781 0.46875 -2.9375 C 0.46875 -3.488281 0.535156 -3.953125 0.671875 -4.328125 C 0.804688 -4.703125 0.988281 -5.007812 1.21875 -5.25 C 1.457031 -5.488281 1.734375 -5.660156 2.046875 -5.765625 C 2.367188 -5.867188 2.707031 -5.921875 3.0625 -5.921875 C 3.550781 -5.921875 3.957031 -5.84375 4.28125 -5.6875 C 4.613281 -5.53125 4.878906 -5.3125 5.078125 -5.03125 C 5.273438 -4.75 5.414062 -4.421875 5.5 -4.046875 C 5.582031 -3.671875 5.625 -3.265625 5.625 -2.828125 L 5.625 -2.703125 Z M 4.625 -3.4375 C 4.570312 -4.050781 4.414062 -4.5 4.15625 -4.78125 C 3.90625 -5.0625 3.535156 -5.203125 3.046875 -5.203125 C 2.890625 -5.203125 2.722656 -5.175781 2.546875 -5.125 C 2.367188 -5.070312 2.203125 -4.976562 2.046875 -4.84375 C 1.898438 -4.71875 1.773438 -4.539062 1.671875 -4.3125 C 1.566406 -4.082031 1.507812 -3.789062 1.5 -3.4375 Z M 4.625 -3.4375 \"/>\n",
       "</symbol>\n",
       "<symbol overflow=\"visible\" id=\"glyph2-4\">\n",
       "<path style=\"stroke:none;\" d=\"M 2.21875 0.109375 C 1.632812 0.109375 1.195312 -0.0390625 0.90625 -0.34375 C 0.613281 -0.65625 0.46875 -1.082031 0.46875 -1.625 C 0.46875 -2.007812 0.539062 -2.320312 0.6875 -2.5625 C 0.832031 -2.8125 1.019531 -3.003906 1.25 -3.140625 C 1.488281 -3.285156 1.757812 -3.382812 2.0625 -3.4375 C 2.363281 -3.488281 2.664062 -3.519531 2.96875 -3.53125 L 4.28125 -3.546875 L 4.28125 -3.859375 C 4.28125 -4.097656 4.253906 -4.300781 4.203125 -4.46875 C 4.148438 -4.644531 4.070312 -4.78125 3.96875 -4.875 C 3.863281 -4.976562 3.734375 -5.054688 3.578125 -5.109375 C 3.429688 -5.160156 3.25 -5.1875 3.03125 -5.1875 C 2.84375 -5.1875 2.671875 -5.171875 2.515625 -5.140625 C 2.367188 -5.117188 2.238281 -5.070312 2.125 -5 C 2.019531 -4.925781 1.929688 -4.828125 1.859375 -4.703125 C 1.796875 -4.585938 1.753906 -4.441406 1.734375 -4.265625 L 0.71875 -4.34375 C 0.757812 -4.570312 0.828125 -4.78125 0.921875 -4.96875 C 1.023438 -5.164062 1.171875 -5.332031 1.359375 -5.46875 C 1.546875 -5.613281 1.773438 -5.722656 2.046875 -5.796875 C 2.328125 -5.878906 2.664062 -5.921875 3.0625 -5.921875 C 3.789062 -5.921875 4.335938 -5.753906 4.703125 -5.421875 C 5.078125 -5.085938 5.265625 -4.601562 5.265625 -3.96875 L 5.265625 -1.46875 C 5.265625 -1.175781 5.300781 -0.957031 5.375 -0.8125 C 5.445312 -0.664062 5.585938 -0.59375 5.796875 -0.59375 C 5.847656 -0.59375 5.898438 -0.597656 5.953125 -0.609375 C 6.015625 -0.617188 6.070312 -0.628906 6.125 -0.640625 L 6.125 -0.03125 C 6 0 5.875 0.0195312 5.75 0.03125 C 5.632812 0.0390625 5.507812 0.046875 5.375 0.046875 C 5.1875 0.046875 5.023438 0.0234375 4.890625 -0.015625 C 4.765625 -0.0664062 4.660156 -0.140625 4.578125 -0.234375 C 4.492188 -0.335938 4.429688 -0.460938 4.390625 -0.609375 C 4.347656 -0.753906 4.320312 -0.921875 4.3125 -1.109375 L 4.28125 -1.109375 C 4.175781 -0.921875 4.0625 -0.75 3.9375 -0.59375 C 3.8125 -0.445312 3.664062 -0.320312 3.5 -0.21875 C 3.34375 -0.113281 3.15625 -0.0351562 2.9375 0.015625 C 2.726562 0.078125 2.488281 0.109375 2.21875 0.109375 Z M 2.4375 -0.625 C 2.75 -0.625 3.019531 -0.675781 3.25 -0.78125 C 3.476562 -0.894531 3.671875 -1.039062 3.828125 -1.21875 C 3.984375 -1.394531 4.097656 -1.585938 4.171875 -1.796875 C 4.242188 -2.003906 4.28125 -2.203125 4.28125 -2.390625 L 4.28125 -2.875 L 3.21875 -2.84375 C 2.988281 -2.84375 2.765625 -2.828125 2.546875 -2.796875 C 2.335938 -2.765625 2.148438 -2.703125 1.984375 -2.609375 C 1.828125 -2.523438 1.703125 -2.398438 1.609375 -2.234375 C 1.515625 -2.078125 1.46875 -1.867188 1.46875 -1.609375 C 1.46875 -1.296875 1.550781 -1.050781 1.71875 -0.875 C 1.882812 -0.707031 2.125 -0.625 2.4375 -0.625 Z M 2.4375 -0.625 \"/>\n",
       "</symbol>\n",
       "<symbol overflow=\"visible\" id=\"glyph2-5\">\n",
       "<path style=\"stroke:none;\" d=\"\"/>\n",
       "</symbol>\n",
       "<symbol overflow=\"visible\" id=\"glyph2-6\">\n",
       "<path style=\"stroke:none;\" d=\"M 0.6875 -2.859375 C 0.6875 -3.359375 0.722656 -3.832031 0.796875 -4.28125 C 0.867188 -4.738281 0.984375 -5.175781 1.140625 -5.59375 C 1.304688 -6.007812 1.515625 -6.414062 1.765625 -6.8125 C 2.015625 -7.207031 2.316406 -7.59375 2.671875 -7.96875 L 3.59375 -7.96875 C 3.257812 -7.59375 2.96875 -7.207031 2.71875 -6.8125 C 2.476562 -6.414062 2.28125 -6.003906 2.125 -5.578125 C 1.96875 -5.160156 1.847656 -4.722656 1.765625 -4.265625 C 1.691406 -3.816406 1.65625 -3.34375 1.65625 -2.84375 C 1.65625 -2.34375 1.691406 -1.863281 1.765625 -1.40625 C 1.847656 -0.957031 1.96875 -0.519531 2.125 -0.09375 C 2.28125 0.320312 2.476562 0.726562 2.71875 1.125 C 2.96875 1.519531 3.257812 1.90625 3.59375 2.28125 L 2.671875 2.28125 C 2.316406 1.90625 2.015625 1.519531 1.765625 1.125 C 1.515625 0.726562 1.304688 0.320312 1.140625 -0.09375 C 0.984375 -0.507812 0.867188 -0.941406 0.796875 -1.390625 C 0.722656 -1.847656 0.6875 -2.332031 0.6875 -2.84375 Z M 0.6875 -2.859375 \"/>\n",
       "</symbol>\n",
       "<symbol overflow=\"visible\" id=\"glyph2-7\">\n",
       "<path style=\"stroke:none;\" d=\"M 4.390625 0 L 2.421875 -2.65625 L 1.703125 -2.0625 L 1.703125 0 L 0.734375 0 L 0.734375 -7.96875 L 1.703125 -7.96875 L 1.703125 -2.984375 L 4.265625 -5.8125 L 5.390625 -5.8125 L 3.03125 -3.3125 L 5.515625 0 Z M 4.390625 0 \"/>\n",
       "</symbol>\n",
       "<symbol overflow=\"visible\" id=\"glyph2-8\">\n",
       "<path style=\"stroke:none;\" d=\"M 4.125 0 L 4.125 -3.6875 C 4.125 -3.96875 4.101562 -4.203125 4.0625 -4.390625 C 4.03125 -4.578125 3.972656 -4.726562 3.890625 -4.84375 C 3.804688 -4.96875 3.695312 -5.050781 3.5625 -5.09375 C 3.425781 -5.144531 3.257812 -5.171875 3.0625 -5.171875 C 2.851562 -5.171875 2.664062 -5.128906 2.5 -5.046875 C 2.34375 -4.972656 2.203125 -4.859375 2.078125 -4.703125 C 1.960938 -4.546875 1.875 -4.351562 1.8125 -4.125 C 1.75 -3.90625 1.71875 -3.65625 1.71875 -3.375 L 1.71875 0 L 0.765625 0 L 0.765625 -4.578125 C 0.765625 -4.691406 0.757812 -4.816406 0.75 -4.953125 C 0.75 -5.085938 0.75 -5.210938 0.75 -5.328125 C 0.75 -5.453125 0.742188 -5.554688 0.734375 -5.640625 C 0.734375 -5.734375 0.734375 -5.789062 0.734375 -5.8125 L 1.640625 -5.8125 C 1.648438 -5.789062 1.65625 -5.738281 1.65625 -5.65625 C 1.65625 -5.582031 1.65625 -5.492188 1.65625 -5.390625 C 1.664062 -5.296875 1.671875 -5.191406 1.671875 -5.078125 C 1.679688 -4.972656 1.6875 -4.882812 1.6875 -4.8125 L 1.703125 -4.8125 C 1.785156 -4.988281 1.875 -5.144531 1.96875 -5.28125 C 2.070312 -5.414062 2.191406 -5.53125 2.328125 -5.625 C 2.460938 -5.71875 2.617188 -5.789062 2.796875 -5.84375 C 2.972656 -5.894531 3.175781 -5.921875 3.40625 -5.921875 C 3.84375 -5.921875 4.1875 -5.832031 4.4375 -5.65625 C 4.695312 -5.476562 4.878906 -5.195312 4.984375 -4.8125 L 5 -4.8125 C 5.082031 -4.988281 5.175781 -5.144531 5.28125 -5.28125 C 5.394531 -5.414062 5.519531 -5.53125 5.65625 -5.625 C 5.800781 -5.71875 5.960938 -5.789062 6.140625 -5.84375 C 6.316406 -5.894531 6.519531 -5.921875 6.75 -5.921875 C 7.050781 -5.921875 7.304688 -5.878906 7.515625 -5.796875 C 7.734375 -5.722656 7.910156 -5.601562 8.046875 -5.4375 C 8.179688 -5.269531 8.28125 -5.054688 8.34375 -4.796875 C 8.40625 -4.535156 8.4375 -4.226562 8.4375 -3.875 L 8.4375 0 L 7.484375 0 L 7.484375 -3.6875 C 7.484375 -3.96875 7.460938 -4.203125 7.421875 -4.390625 C 7.390625 -4.578125 7.332031 -4.726562 7.25 -4.84375 C 7.164062 -4.96875 7.054688 -5.050781 6.921875 -5.09375 C 6.785156 -5.144531 6.617188 -5.171875 6.421875 -5.171875 C 6.210938 -5.171875 6.023438 -5.128906 5.859375 -5.046875 C 5.703125 -4.972656 5.5625 -4.859375 5.4375 -4.703125 C 5.320312 -4.554688 5.234375 -4.367188 5.171875 -4.140625 C 5.109375 -3.921875 5.078125 -3.664062 5.078125 -3.375 L 5.078125 0 Z M 4.125 0 \"/>\n",
       "</symbol>\n",
       "<symbol overflow=\"visible\" id=\"glyph2-9\">\n",
       "<path style=\"stroke:none;\" d=\"M 0.546875 0 L 0.546875 -0.6875 C 0.734375 -1.101562 0.957031 -1.46875 1.21875 -1.78125 C 1.476562 -2.101562 1.753906 -2.394531 2.046875 -2.65625 C 2.335938 -2.914062 2.625 -3.15625 2.90625 -3.375 C 3.195312 -3.601562 3.457031 -3.828125 3.6875 -4.046875 C 3.914062 -4.273438 4.097656 -4.507812 4.234375 -4.75 C 4.378906 -4.988281 4.453125 -5.265625 4.453125 -5.578125 C 4.453125 -5.785156 4.421875 -5.972656 4.359375 -6.140625 C 4.296875 -6.304688 4.203125 -6.441406 4.078125 -6.546875 C 3.953125 -6.660156 3.804688 -6.742188 3.640625 -6.796875 C 3.472656 -6.859375 3.285156 -6.890625 3.078125 -6.890625 C 2.878906 -6.890625 2.691406 -6.859375 2.515625 -6.796875 C 2.347656 -6.742188 2.195312 -6.664062 2.0625 -6.5625 C 1.9375 -6.457031 1.832031 -6.320312 1.75 -6.15625 C 1.664062 -6 1.609375 -5.816406 1.578125 -5.609375 L 0.59375 -5.703125 C 0.625 -5.972656 0.695312 -6.226562 0.8125 -6.46875 C 0.9375 -6.707031 1.101562 -6.914062 1.3125 -7.09375 C 1.519531 -7.28125 1.769531 -7.425781 2.0625 -7.53125 C 2.351562 -7.632812 2.691406 -7.6875 3.078125 -7.6875 C 3.453125 -7.6875 3.785156 -7.640625 4.078125 -7.546875 C 4.367188 -7.453125 4.613281 -7.316406 4.8125 -7.140625 C 5.019531 -6.972656 5.175781 -6.757812 5.28125 -6.5 C 5.394531 -6.238281 5.453125 -5.941406 5.453125 -5.609375 C 5.453125 -5.347656 5.40625 -5.101562 5.3125 -4.875 C 5.21875 -4.644531 5.09375 -4.425781 4.9375 -4.21875 C 4.789062 -4.019531 4.613281 -3.820312 4.40625 -3.625 C 4.207031 -3.425781 4 -3.234375 3.78125 -3.046875 C 3.5625 -2.867188 3.34375 -2.6875 3.125 -2.5 C 2.90625 -2.320312 2.695312 -2.140625 2.5 -1.953125 C 2.300781 -1.773438 2.125 -1.59375 1.96875 -1.40625 C 1.820312 -1.21875 1.703125 -1.023438 1.609375 -0.828125 L 5.5625 -0.828125 L 5.5625 0 Z M 0.546875 0 \"/>\n",
       "</symbol>\n",
       "<symbol overflow=\"visible\" id=\"glyph2-10\">\n",
       "<path style=\"stroke:none;\" d=\"M 2.984375 -2.84375 C 2.984375 -2.332031 2.941406 -1.847656 2.859375 -1.390625 C 2.785156 -0.941406 2.664062 -0.507812 2.5 -0.09375 C 2.34375 0.320312 2.140625 0.726562 1.890625 1.125 C 1.640625 1.519531 1.34375 1.90625 1 2.28125 L 0.0625 2.28125 C 0.394531 1.90625 0.6875 1.519531 0.9375 1.125 C 1.1875 0.726562 1.390625 0.320312 1.546875 -0.09375 C 1.703125 -0.519531 1.816406 -0.957031 1.890625 -1.40625 C 1.972656 -1.863281 2.015625 -2.34375 2.015625 -2.84375 C 2.015625 -3.34375 1.972656 -3.816406 1.890625 -4.265625 C 1.816406 -4.722656 1.703125 -5.160156 1.546875 -5.578125 C 1.390625 -6.003906 1.1875 -6.414062 0.9375 -6.8125 C 0.6875 -7.207031 0.394531 -7.59375 0.0625 -7.96875 L 1 -7.96875 C 1.34375 -7.59375 1.640625 -7.207031 1.890625 -6.8125 C 2.140625 -6.414062 2.34375 -6.007812 2.5 -5.59375 C 2.664062 -5.175781 2.785156 -4.738281 2.859375 -4.28125 C 2.941406 -3.832031 2.984375 -3.359375 2.984375 -2.859375 Z M 2.984375 -2.84375 \"/>\n",
       "</symbol>\n",
       "<symbol overflow=\"visible\" id=\"glyph3-0\">\n",
       "<path style=\"stroke:none;\" d=\"M 0 -0.359375 L -7.328125 -0.359375 L -7.328125 -3.28125 L 0 -3.28125 Z M -0.359375 -0.734375 L -0.359375 -2.921875 L -6.96875 -2.921875 L -6.96875 -0.734375 Z M -0.359375 -0.734375 \"/>\n",
       "</symbol>\n",
       "<symbol overflow=\"visible\" id=\"glyph3-1\">\n",
       "<path style=\"stroke:none;\" d=\"M -2.09375 -6.828125 C -1.769531 -6.828125 -1.472656 -6.765625 -1.203125 -6.640625 C -0.941406 -6.523438 -0.710938 -6.335938 -0.515625 -6.078125 C -0.316406 -5.816406 -0.160156 -5.488281 -0.046875 -5.09375 C 0.0546875 -4.707031 0.109375 -4.242188 0.109375 -3.703125 C 0.109375 -2.765625 -0.0507812 -2.03125 -0.375 -1.5 C -0.707031 -0.976562 -1.1875 -0.644531 -1.8125 -0.5 L -2.015625 -1.5 C -1.816406 -1.539062 -1.632812 -1.613281 -1.46875 -1.71875 C -1.3125 -1.820312 -1.175781 -1.960938 -1.0625 -2.140625 C -0.945312 -2.316406 -0.851562 -2.535156 -0.78125 -2.796875 C -0.71875 -3.066406 -0.6875 -3.382812 -0.6875 -3.75 C -0.6875 -4.050781 -0.710938 -4.328125 -0.765625 -4.578125 C -0.816406 -4.835938 -0.894531 -5.054688 -1 -5.234375 C -1.113281 -5.421875 -1.253906 -5.5625 -1.421875 -5.65625 C -1.597656 -5.757812 -1.800781 -5.8125 -2.03125 -5.8125 C -2.28125 -5.8125 -2.484375 -5.753906 -2.640625 -5.640625 C -2.796875 -5.535156 -2.921875 -5.378906 -3.015625 -5.171875 C -3.117188 -4.960938 -3.203125 -4.71875 -3.265625 -4.4375 C -3.335938 -4.15625 -3.410156 -3.84375 -3.484375 -3.5 C -3.535156 -3.289062 -3.585938 -3.078125 -3.640625 -2.859375 C -3.703125 -2.648438 -3.769531 -2.445312 -3.84375 -2.25 C -3.914062 -2.050781 -4.003906 -1.863281 -4.109375 -1.6875 C -4.210938 -1.519531 -4.335938 -1.375 -4.484375 -1.25 C -4.628906 -1.125 -4.796875 -1.023438 -4.984375 -0.953125 C -5.179688 -0.890625 -5.40625 -0.859375 -5.65625 -0.859375 C -6.007812 -0.859375 -6.316406 -0.929688 -6.578125 -1.078125 C -6.835938 -1.222656 -7.046875 -1.421875 -7.203125 -1.671875 C -7.367188 -1.929688 -7.488281 -2.234375 -7.5625 -2.578125 C -7.644531 -2.929688 -7.6875 -3.316406 -7.6875 -3.734375 C -7.6875 -4.203125 -7.644531 -4.601562 -7.5625 -4.9375 C -7.488281 -5.269531 -7.378906 -5.550781 -7.234375 -5.78125 C -7.085938 -6.007812 -6.90625 -6.191406 -6.6875 -6.328125 C -6.476562 -6.460938 -6.226562 -6.570312 -5.9375 -6.65625 L -5.765625 -5.640625 C -5.941406 -5.585938 -6.101562 -5.515625 -6.25 -5.421875 C -6.394531 -5.328125 -6.515625 -5.203125 -6.609375 -5.046875 C -6.703125 -4.898438 -6.773438 -4.710938 -6.828125 -4.484375 C -6.878906 -4.265625 -6.90625 -4.007812 -6.90625 -3.71875 C -6.90625 -3.363281 -6.875 -3.066406 -6.8125 -2.828125 C -6.75 -2.585938 -6.660156 -2.394531 -6.546875 -2.25 C -6.441406 -2.113281 -6.316406 -2.015625 -6.171875 -1.953125 C -6.035156 -1.890625 -5.878906 -1.859375 -5.703125 -1.859375 C -5.484375 -1.859375 -5.300781 -1.910156 -5.15625 -2.015625 C -5.007812 -2.128906 -4.882812 -2.28125 -4.78125 -2.46875 C -4.6875 -2.664062 -4.609375 -2.890625 -4.546875 -3.140625 C -4.484375 -3.398438 -4.421875 -3.675781 -4.359375 -3.96875 C -4.304688 -4.195312 -4.25 -4.425781 -4.1875 -4.65625 C -4.132812 -4.882812 -4.066406 -5.101562 -3.984375 -5.3125 C -3.910156 -5.53125 -3.820312 -5.726562 -3.71875 -5.90625 C -3.613281 -6.09375 -3.484375 -6.253906 -3.328125 -6.390625 C -3.179688 -6.523438 -3.003906 -6.628906 -2.796875 -6.703125 C -2.597656 -6.785156 -2.363281 -6.828125 -2.09375 -6.828125 Z M -2.09375 -6.828125 \"/>\n",
       "</symbol>\n",
       "<symbol overflow=\"visible\" id=\"glyph3-2\">\n",
       "<path style=\"stroke:none;\" d=\"M -2.9375 -5.65625 C -2.488281 -5.65625 -2.078125 -5.617188 -1.703125 -5.546875 C -1.335938 -5.472656 -1.019531 -5.351562 -0.75 -5.1875 C -0.476562 -5.019531 -0.265625 -4.800781 -0.109375 -4.53125 C 0.0351562 -4.257812 0.109375 -3.921875 0.109375 -3.515625 C 0.109375 -3.097656 0.03125 -2.734375 -0.125 -2.421875 C -0.28125 -2.109375 -0.539062 -1.875 -0.90625 -1.71875 L -0.90625 -1.6875 C -0.894531 -1.6875 -0.859375 -1.6875 -0.796875 -1.6875 C -0.742188 -1.695312 -0.675781 -1.703125 -0.59375 -1.703125 C -0.507812 -1.703125 -0.410156 -1.703125 -0.296875 -1.703125 C -0.191406 -1.703125 -0.0859375 -1.703125 0.015625 -1.703125 L 2.28125 -1.703125 L 2.28125 -0.734375 L -4.625 -0.734375 C -4.757812 -0.734375 -4.890625 -0.734375 -5.015625 -0.734375 C -5.148438 -0.734375 -5.269531 -0.726562 -5.375 -0.71875 C -5.476562 -0.71875 -5.566406 -0.71875 -5.640625 -0.71875 C -5.722656 -0.71875 -5.78125 -0.710938 -5.8125 -0.703125 L -5.8125 -1.640625 C -5.800781 -1.648438 -5.765625 -1.65625 -5.703125 -1.65625 C -5.640625 -1.664062 -5.5625 -1.671875 -5.46875 -1.671875 C -5.375 -1.679688 -5.273438 -1.6875 -5.171875 -1.6875 C -5.066406 -1.695312 -4.96875 -1.703125 -4.875 -1.703125 L -4.875 -1.71875 C -5.0625 -1.8125 -5.21875 -1.914062 -5.34375 -2.03125 C -5.476562 -2.144531 -5.585938 -2.273438 -5.671875 -2.421875 C -5.753906 -2.566406 -5.8125 -2.726562 -5.84375 -2.90625 C -5.882812 -3.09375 -5.90625 -3.296875 -5.90625 -3.515625 C -5.90625 -3.921875 -5.832031 -4.257812 -5.6875 -4.53125 C -5.550781 -4.800781 -5.351562 -5.019531 -5.09375 -5.1875 C -4.832031 -5.351562 -4.519531 -5.472656 -4.15625 -5.546875 C -3.789062 -5.617188 -3.382812 -5.65625 -2.9375 -5.65625 Z M -2.90625 -4.640625 C -3.269531 -4.640625 -3.585938 -4.617188 -3.859375 -4.578125 C -4.140625 -4.535156 -4.375 -4.457031 -4.5625 -4.34375 C -4.757812 -4.238281 -4.910156 -4.097656 -5.015625 -3.921875 C -5.117188 -3.753906 -5.171875 -3.535156 -5.171875 -3.265625 C -5.171875 -3.054688 -5.140625 -2.851562 -5.078125 -2.65625 C -5.015625 -2.46875 -4.894531 -2.300781 -4.71875 -2.15625 C -4.550781 -2.019531 -4.316406 -1.910156 -4.015625 -1.828125 C -3.710938 -1.742188 -3.320312 -1.703125 -2.84375 -1.703125 C -2.425781 -1.703125 -2.070312 -1.734375 -1.78125 -1.796875 C -1.5 -1.867188 -1.269531 -1.96875 -1.09375 -2.09375 C -0.925781 -2.226562 -0.800781 -2.394531 -0.71875 -2.59375 C -0.644531 -2.789062 -0.609375 -3.015625 -0.609375 -3.265625 C -0.609375 -3.523438 -0.660156 -3.742188 -0.765625 -3.921875 C -0.867188 -4.097656 -1.019531 -4.238281 -1.21875 -4.34375 C -1.414062 -4.457031 -1.65625 -4.535156 -1.9375 -4.578125 C -2.21875 -4.617188 -2.539062 -4.640625 -2.90625 -4.640625 Z M -2.90625 -4.640625 \"/>\n",
       "</symbol>\n",
       "<symbol overflow=\"visible\" id=\"glyph3-3\">\n",
       "<path style=\"stroke:none;\" d=\"M -2.703125 -1.484375 C -2.398438 -1.484375 -2.117188 -1.515625 -1.859375 -1.578125 C -1.609375 -1.640625 -1.390625 -1.734375 -1.203125 -1.859375 C -1.015625 -1.992188 -0.867188 -2.160156 -0.765625 -2.359375 C -0.671875 -2.566406 -0.625 -2.816406 -0.625 -3.109375 C -0.625 -3.523438 -0.707031 -3.859375 -0.875 -4.109375 C -1.039062 -4.359375 -1.253906 -4.53125 -1.515625 -4.625 L -1.265625 -5.46875 C -1.109375 -5.40625 -0.945312 -5.316406 -0.78125 -5.203125 C -0.613281 -5.097656 -0.460938 -4.953125 -0.328125 -4.765625 C -0.203125 -4.585938 -0.0976562 -4.363281 -0.015625 -4.09375 C 0.0664062 -3.820312 0.109375 -3.492188 0.109375 -3.109375 C 0.109375 -2.242188 -0.144531 -1.585938 -0.65625 -1.140625 C -1.164062 -0.691406 -1.925781 -0.46875 -2.9375 -0.46875 C -3.488281 -0.46875 -3.953125 -0.535156 -4.328125 -0.671875 C -4.703125 -0.804688 -5.007812 -0.988281 -5.25 -1.21875 C -5.488281 -1.457031 -5.660156 -1.734375 -5.765625 -2.046875 C -5.867188 -2.367188 -5.921875 -2.707031 -5.921875 -3.0625 C -5.921875 -3.550781 -5.84375 -3.957031 -5.6875 -4.28125 C -5.53125 -4.613281 -5.3125 -4.878906 -5.03125 -5.078125 C -4.75 -5.273438 -4.421875 -5.414062 -4.046875 -5.5 C -3.671875 -5.582031 -3.265625 -5.625 -2.828125 -5.625 L -2.703125 -5.625 Z M -3.4375 -4.625 C -4.050781 -4.570312 -4.5 -4.414062 -4.78125 -4.15625 C -5.0625 -3.90625 -5.203125 -3.535156 -5.203125 -3.046875 C -5.203125 -2.890625 -5.175781 -2.722656 -5.125 -2.546875 C -5.070312 -2.367188 -4.976562 -2.203125 -4.84375 -2.046875 C -4.71875 -1.898438 -4.539062 -1.773438 -4.3125 -1.671875 C -4.082031 -1.566406 -3.789062 -1.507812 -3.4375 -1.5 Z M -3.4375 -4.625 \"/>\n",
       "</symbol>\n",
       "<symbol overflow=\"visible\" id=\"glyph3-4\">\n",
       "<path style=\"stroke:none;\" d=\"M -2.9375 -1.484375 C -2.601562 -1.484375 -2.296875 -1.503906 -2.015625 -1.546875 C -1.734375 -1.597656 -1.488281 -1.679688 -1.28125 -1.796875 C -1.082031 -1.910156 -0.925781 -2.0625 -0.8125 -2.25 C -0.707031 -2.4375 -0.65625 -2.664062 -0.65625 -2.9375 C -0.65625 -3.28125 -0.75 -3.566406 -0.9375 -3.796875 C -1.125 -4.035156 -1.410156 -4.179688 -1.796875 -4.234375 L -1.734375 -5.203125 C -1.492188 -5.171875 -1.257812 -5.101562 -1.03125 -5 C -0.8125 -4.894531 -0.617188 -4.75 -0.453125 -4.5625 C -0.285156 -4.375 -0.148438 -4.144531 -0.046875 -3.875 C 0.0546875 -3.613281 0.109375 -3.3125 0.109375 -2.96875 C 0.109375 -2.507812 0.03125 -2.117188 -0.125 -1.796875 C -0.28125 -1.484375 -0.492188 -1.226562 -0.765625 -1.03125 C -1.035156 -0.832031 -1.351562 -0.6875 -1.71875 -0.59375 C -2.082031 -0.507812 -2.476562 -0.46875 -2.90625 -0.46875 C -3.300781 -0.46875 -3.644531 -0.5 -3.9375 -0.5625 C -4.238281 -0.625 -4.5 -0.710938 -4.71875 -0.828125 C -4.945312 -0.953125 -5.132812 -1.09375 -5.28125 -1.25 C -5.4375 -1.40625 -5.5625 -1.570312 -5.65625 -1.75 C -5.75 -1.9375 -5.816406 -2.128906 -5.859375 -2.328125 C -5.898438 -2.535156 -5.921875 -2.742188 -5.921875 -2.953125 C -5.921875 -3.285156 -5.875 -3.578125 -5.78125 -3.828125 C -5.695312 -4.085938 -5.578125 -4.304688 -5.421875 -4.484375 C -5.265625 -4.671875 -5.078125 -4.820312 -4.859375 -4.9375 C -4.648438 -5.050781 -4.425781 -5.128906 -4.1875 -5.171875 L -4.109375 -4.1875 C -4.429688 -4.132812 -4.6875 -4.003906 -4.875 -3.796875 C -5.0625 -3.597656 -5.15625 -3.3125 -5.15625 -2.9375 C -5.15625 -2.65625 -5.109375 -2.421875 -5.015625 -2.234375 C -4.929688 -2.054688 -4.796875 -1.910156 -4.609375 -1.796875 C -4.421875 -1.679688 -4.1875 -1.597656 -3.90625 -1.546875 C -3.632812 -1.503906 -3.3125 -1.484375 -2.9375 -1.484375 Z M -2.9375 -1.484375 \"/>\n",
       "</symbol>\n",
       "<symbol overflow=\"visible\" id=\"glyph3-5\">\n",
       "<path style=\"stroke:none;\" d=\"M -7.046875 -0.734375 L -7.96875 -0.734375 L -7.96875 -1.703125 L -7.046875 -1.703125 Z M 0 -0.734375 L -5.8125 -0.734375 L -5.8125 -1.703125 L 0 -1.703125 Z M 0 -0.734375 \"/>\n",
       "</symbol>\n",
       "<symbol overflow=\"visible\" id=\"glyph3-6\">\n",
       "<path style=\"stroke:none;\" d=\"M -1.609375 -5.109375 C -1.335938 -5.109375 -1.09375 -5.050781 -0.875 -4.9375 C -0.664062 -4.832031 -0.488281 -4.679688 -0.34375 -4.484375 C -0.195312 -4.285156 -0.0820312 -4.039062 0 -3.75 C 0.0703125 -3.457031 0.109375 -3.125 0.109375 -2.75 C 0.109375 -2.40625 0.0820312 -2.097656 0.03125 -1.828125 C -0.0195312 -1.554688 -0.101562 -1.316406 -0.21875 -1.109375 C -0.332031 -0.910156 -0.484375 -0.742188 -0.671875 -0.609375 C -0.859375 -0.472656 -1.085938 -0.375 -1.359375 -0.3125 L -1.53125 -1.15625 C -1.21875 -1.238281 -0.988281 -1.410156 -0.84375 -1.671875 C -0.695312 -1.929688 -0.625 -2.289062 -0.625 -2.75 C -0.625 -2.957031 -0.640625 -3.144531 -0.671875 -3.3125 C -0.703125 -3.488281 -0.75 -3.640625 -0.8125 -3.765625 C -0.882812 -3.890625 -0.976562 -3.984375 -1.09375 -4.046875 C -1.207031 -4.117188 -1.351562 -4.15625 -1.53125 -4.15625 C -1.707031 -4.15625 -1.847656 -4.113281 -1.953125 -4.03125 C -2.066406 -3.957031 -2.160156 -3.84375 -2.234375 -3.6875 C -2.316406 -3.539062 -2.382812 -3.363281 -2.4375 -3.15625 C -2.5 -2.945312 -2.5625 -2.71875 -2.625 -2.46875 C -2.6875 -2.238281 -2.753906 -2.007812 -2.828125 -1.78125 C -2.898438 -1.550781 -3 -1.34375 -3.125 -1.15625 C -3.25 -0.96875 -3.398438 -0.816406 -3.578125 -0.703125 C -3.765625 -0.585938 -4 -0.53125 -4.28125 -0.53125 C -4.8125 -0.53125 -5.210938 -0.71875 -5.484375 -1.09375 C -5.765625 -1.476562 -5.90625 -2.03125 -5.90625 -2.75 C -5.90625 -3.394531 -5.789062 -3.90625 -5.5625 -4.28125 C -5.332031 -4.65625 -4.972656 -4.894531 -4.484375 -5 L -4.375 -4.125 C -4.519531 -4.09375 -4.644531 -4.035156 -4.75 -3.953125 C -4.851562 -3.867188 -4.9375 -3.765625 -5 -3.640625 C -5.0625 -3.515625 -5.101562 -3.375 -5.125 -3.21875 C -5.15625 -3.070312 -5.171875 -2.914062 -5.171875 -2.75 C -5.171875 -2.3125 -5.101562 -1.988281 -4.96875 -1.78125 C -4.84375 -1.582031 -4.644531 -1.484375 -4.375 -1.484375 C -4.21875 -1.484375 -4.085938 -1.519531 -3.984375 -1.59375 C -3.878906 -1.664062 -3.789062 -1.769531 -3.71875 -1.90625 C -3.65625 -2.050781 -3.597656 -2.21875 -3.546875 -2.40625 C -3.492188 -2.601562 -3.4375 -2.816406 -3.375 -3.046875 C -3.332031 -3.203125 -3.289062 -3.359375 -3.25 -3.515625 C -3.207031 -3.679688 -3.15625 -3.835938 -3.09375 -3.984375 C -3.03125 -4.140625 -2.957031 -4.285156 -2.875 -4.421875 C -2.789062 -4.554688 -2.6875 -4.671875 -2.5625 -4.765625 C -2.445312 -4.867188 -2.3125 -4.953125 -2.15625 -5.015625 C -2 -5.078125 -1.816406 -5.109375 -1.609375 -5.109375 Z M -1.609375 -5.109375 \"/>\n",
       "</symbol>\n",
       "<symbol overflow=\"visible\" id=\"glyph3-7\">\n",
       "<path style=\"stroke:none;\" d=\"\"/>\n",
       "</symbol>\n",
       "<symbol overflow=\"visible\" id=\"glyph3-8\">\n",
       "<path style=\"stroke:none;\" d=\"M -2.90625 -5.65625 C -1.894531 -5.65625 -1.140625 -5.429688 -0.640625 -4.984375 C -0.140625 -4.535156 0.109375 -3.882812 0.109375 -3.03125 C 0.109375 -2.625 0.046875 -2.257812 -0.078125 -1.9375 C -0.203125 -1.625 -0.390625 -1.359375 -0.640625 -1.140625 C -0.890625 -0.921875 -1.203125 -0.753906 -1.578125 -0.640625 C -1.953125 -0.523438 -2.394531 -0.46875 -2.90625 -0.46875 C -4.914062 -0.46875 -5.921875 -1.332031 -5.921875 -3.0625 C -5.921875 -3.519531 -5.859375 -3.910156 -5.734375 -4.234375 C -5.609375 -4.566406 -5.421875 -4.835938 -5.171875 -5.046875 C -4.921875 -5.253906 -4.601562 -5.40625 -4.21875 -5.5 C -3.84375 -5.601562 -3.40625 -5.65625 -2.90625 -5.65625 Z M -2.90625 -4.640625 C -3.363281 -4.640625 -3.738281 -4.601562 -4.03125 -4.53125 C -4.320312 -4.46875 -4.554688 -4.367188 -4.734375 -4.234375 C -4.910156 -4.097656 -5.03125 -3.929688 -5.09375 -3.734375 C -5.164062 -3.546875 -5.203125 -3.328125 -5.203125 -3.078125 C -5.203125 -2.835938 -5.164062 -2.613281 -5.09375 -2.40625 C -5.019531 -2.207031 -4.894531 -2.039062 -4.71875 -1.90625 C -4.539062 -1.769531 -4.304688 -1.664062 -4.015625 -1.59375 C -3.722656 -1.519531 -3.351562 -1.484375 -2.90625 -1.484375 C -2.457031 -1.484375 -2.082031 -1.519531 -1.78125 -1.59375 C -1.488281 -1.675781 -1.253906 -1.785156 -1.078125 -1.921875 C -0.910156 -2.054688 -0.789062 -2.21875 -0.71875 -2.40625 C -0.644531 -2.59375 -0.609375 -2.800781 -0.609375 -3.03125 C -0.609375 -3.269531 -0.640625 -3.488281 -0.703125 -3.6875 C -0.773438 -3.894531 -0.898438 -4.066406 -1.078125 -4.203125 C -1.253906 -4.347656 -1.488281 -4.457031 -1.78125 -4.53125 C -2.082031 -4.601562 -2.457031 -4.640625 -2.90625 -4.640625 Z M -2.90625 -4.640625 \"/>\n",
       "</symbol>\n",
       "<symbol overflow=\"visible\" id=\"glyph3-9\">\n",
       "<path style=\"stroke:none;\" d=\"M -5.8125 -1.6875 L -2.125 -1.6875 C -1.84375 -1.6875 -1.609375 -1.707031 -1.421875 -1.75 C -1.234375 -1.789062 -1.078125 -1.859375 -0.953125 -1.953125 C -0.835938 -2.046875 -0.753906 -2.164062 -0.703125 -2.3125 C -0.660156 -2.46875 -0.640625 -2.660156 -0.640625 -2.890625 C -0.640625 -3.117188 -0.675781 -3.320312 -0.75 -3.5 C -0.832031 -3.6875 -0.953125 -3.84375 -1.109375 -3.96875 C -1.265625 -4.101562 -1.453125 -4.207031 -1.671875 -4.28125 C -1.898438 -4.351562 -2.15625 -4.390625 -2.4375 -4.390625 L -5.8125 -4.390625 L -5.8125 -5.359375 L -1.234375 -5.359375 C -1.117188 -5.359375 -0.992188 -5.359375 -0.859375 -5.359375 C -0.722656 -5.359375 -0.59375 -5.359375 -0.46875 -5.359375 C -0.351562 -5.367188 -0.25 -5.375 -0.15625 -5.375 C -0.0703125 -5.375 -0.0195312 -5.378906 0 -5.390625 L 0 -4.46875 C -0.0195312 -4.46875 -0.0664062 -4.460938 -0.140625 -4.453125 C -0.222656 -4.453125 -0.3125 -4.445312 -0.40625 -4.4375 C -0.507812 -4.4375 -0.613281 -4.4375 -0.71875 -4.4375 C -0.832031 -4.4375 -0.925781 -4.4375 -1 -4.4375 L -1 -4.421875 C -0.820312 -4.328125 -0.664062 -4.222656 -0.53125 -4.109375 C -0.394531 -3.992188 -0.28125 -3.863281 -0.1875 -3.71875 C -0.09375 -3.570312 -0.0195312 -3.40625 0.03125 -3.21875 C 0.0820312 -3.03125 0.109375 -2.8125 0.109375 -2.5625 C 0.109375 -2.238281 0.0703125 -1.957031 0 -1.71875 C -0.0820312 -1.488281 -0.207031 -1.296875 -0.375 -1.140625 C -0.539062 -0.992188 -0.75 -0.882812 -1 -0.8125 C -1.257812 -0.75 -1.570312 -0.71875 -1.9375 -0.71875 L -5.8125 -0.71875 Z M -5.8125 -1.6875 \"/>\n",
       "</symbol>\n",
       "<symbol overflow=\"visible\" id=\"glyph3-10\">\n",
       "<path style=\"stroke:none;\" d=\"M 0 -4.4375 L -3.6875 -4.4375 C -3.96875 -4.4375 -4.203125 -4.414062 -4.390625 -4.375 C -4.578125 -4.332031 -4.726562 -4.265625 -4.84375 -4.171875 C -4.96875 -4.078125 -5.050781 -3.953125 -5.09375 -3.796875 C -5.144531 -3.648438 -5.171875 -3.460938 -5.171875 -3.234375 C -5.171875 -3.003906 -5.128906 -2.796875 -5.046875 -2.609375 C -4.972656 -2.429688 -4.859375 -2.273438 -4.703125 -2.140625 C -4.546875 -2.003906 -4.351562 -1.898438 -4.125 -1.828125 C -3.90625 -1.765625 -3.65625 -1.734375 -3.375 -1.734375 L 0 -1.734375 L 0 -0.765625 L -4.578125 -0.765625 C -4.691406 -0.765625 -4.816406 -0.757812 -4.953125 -0.75 C -5.085938 -0.75 -5.210938 -0.75 -5.328125 -0.75 C -5.453125 -0.75 -5.554688 -0.742188 -5.640625 -0.734375 C -5.734375 -0.734375 -5.789062 -0.734375 -5.8125 -0.734375 L -5.8125 -1.640625 C -5.789062 -1.648438 -5.738281 -1.65625 -5.65625 -1.65625 C -5.582031 -1.65625 -5.492188 -1.65625 -5.390625 -1.65625 C -5.296875 -1.664062 -5.191406 -1.671875 -5.078125 -1.671875 C -4.972656 -1.679688 -4.882812 -1.6875 -4.8125 -1.6875 L -4.8125 -1.703125 C -4.988281 -1.796875 -5.144531 -1.894531 -5.28125 -2 C -5.414062 -2.113281 -5.53125 -2.242188 -5.625 -2.390625 C -5.71875 -2.535156 -5.789062 -2.703125 -5.84375 -2.890625 C -5.894531 -3.085938 -5.921875 -3.3125 -5.921875 -3.5625 C -5.921875 -3.882812 -5.878906 -4.160156 -5.796875 -4.390625 C -5.722656 -4.628906 -5.601562 -4.820312 -5.4375 -4.96875 C -5.269531 -5.113281 -5.054688 -5.222656 -4.796875 -5.296875 C -4.535156 -5.367188 -4.226562 -5.40625 -3.875 -5.40625 L 0 -5.40625 Z M 0 -4.4375 \"/>\n",
       "</symbol>\n",
       "<symbol overflow=\"visible\" id=\"glyph3-11\">\n",
       "<path style=\"stroke:none;\" d=\"M -0.046875 -2.96875 C -0.00390625 -2.820312 0.0234375 -2.671875 0.046875 -2.515625 C 0.078125 -2.367188 0.09375 -2.195312 0.09375 -2 C 0.09375 -1.226562 -0.347656 -0.84375 -1.234375 -0.84375 L -5.109375 -0.84375 L -5.109375 -0.171875 L -5.8125 -0.171875 L -5.8125 -0.875 L -7.109375 -1.15625 L -7.109375 -1.8125 L -5.8125 -1.8125 L -5.8125 -2.875 L -5.109375 -2.875 L -5.109375 -1.8125 L -1.4375 -1.8125 C -1.15625 -1.8125 -0.957031 -1.851562 -0.84375 -1.9375 C -0.738281 -2.03125 -0.6875 -2.191406 -0.6875 -2.421875 C -0.6875 -2.515625 -0.691406 -2.601562 -0.703125 -2.6875 C -0.710938 -2.769531 -0.726562 -2.863281 -0.75 -2.96875 Z M -0.046875 -2.96875 \"/>\n",
       "</symbol>\n",
       "</g>\n",
       "<clipPath id=\"clip1\">\n",
       "  <path d=\"M 38.152344 5.480469 L 498.523438 5.480469 L 498.523438 471.851562 L 38.152344 471.851562 Z M 38.152344 5.480469 \"/>\n",
       "</clipPath>\n",
       "<clipPath id=\"clip2\">\n",
       "  <path d=\"M 38.152344 391 L 498.523438 391 L 498.523438 392 L 38.152344 392 Z M 38.152344 391 \"/>\n",
       "</clipPath>\n",
       "<clipPath id=\"clip3\">\n",
       "  <path d=\"M 38.152344 272 L 498.523438 272 L 498.523438 274 L 38.152344 274 Z M 38.152344 272 \"/>\n",
       "</clipPath>\n",
       "<clipPath id=\"clip4\">\n",
       "  <path d=\"M 38.152344 153 L 498.523438 153 L 498.523438 155 L 38.152344 155 Z M 38.152344 153 \"/>\n",
       "</clipPath>\n",
       "<clipPath id=\"clip5\">\n",
       "  <path d=\"M 38.152344 35 L 498.523438 35 L 498.523438 36 L 38.152344 36 Z M 38.152344 35 \"/>\n",
       "</clipPath>\n",
       "<clipPath id=\"clip6\">\n",
       "  <path d=\"M 121 5.480469 L 122 5.480469 L 122 471.851562 L 121 471.851562 Z M 121 5.480469 \"/>\n",
       "</clipPath>\n",
       "<clipPath id=\"clip7\">\n",
       "  <path d=\"M 251 5.480469 L 252 5.480469 L 252 471.851562 L 251 471.851562 Z M 251 5.480469 \"/>\n",
       "</clipPath>\n",
       "<clipPath id=\"clip8\">\n",
       "  <path d=\"M 381 5.480469 L 382 5.480469 L 382 471.851562 L 381 471.851562 Z M 381 5.480469 \"/>\n",
       "</clipPath>\n",
       "<clipPath id=\"clip9\">\n",
       "  <path d=\"M 38.152344 450 L 498.523438 450 L 498.523438 452 L 38.152344 452 Z M 38.152344 450 \"/>\n",
       "</clipPath>\n",
       "<clipPath id=\"clip10\">\n",
       "  <path d=\"M 38.152344 331 L 498.523438 331 L 498.523438 333 L 38.152344 333 Z M 38.152344 331 \"/>\n",
       "</clipPath>\n",
       "<clipPath id=\"clip11\">\n",
       "  <path d=\"M 38.152344 212 L 498.523438 212 L 498.523438 214 L 38.152344 214 Z M 38.152344 212 \"/>\n",
       "</clipPath>\n",
       "<clipPath id=\"clip12\">\n",
       "  <path d=\"M 38.152344 94 L 498.523438 94 L 498.523438 96 L 38.152344 96 Z M 38.152344 94 \"/>\n",
       "</clipPath>\n",
       "<clipPath id=\"clip13\">\n",
       "  <path d=\"M 55 5.480469 L 58 5.480469 L 58 471.851562 L 55 471.851562 Z M 55 5.480469 \"/>\n",
       "</clipPath>\n",
       "<clipPath id=\"clip14\">\n",
       "  <path d=\"M 185 5.480469 L 187 5.480469 L 187 471.851562 L 185 471.851562 Z M 185 5.480469 \"/>\n",
       "</clipPath>\n",
       "<clipPath id=\"clip15\">\n",
       "  <path d=\"M 315 5.480469 L 317 5.480469 L 317 471.851562 L 315 471.851562 Z M 315 5.480469 \"/>\n",
       "</clipPath>\n",
       "<clipPath id=\"clip16\">\n",
       "  <path d=\"M 445 5.480469 L 447 5.480469 L 447 471.851562 L 445 471.851562 Z M 445 5.480469 \"/>\n",
       "</clipPath>\n",
       "<clipPath id=\"clip17\">\n",
       "  <path d=\"M 38.152344 5.480469 L 498.523438 5.480469 L 498.523438 471.851562 L 38.152344 471.851562 Z M 38.152344 5.480469 \"/>\n",
       "</clipPath>\n",
       "</defs>\n",
       "<g id=\"surface3444\">\n",
       "<rect x=\"0\" y=\"0\" width=\"504\" height=\"504\" style=\"fill:rgb(100%,100%,100%);fill-opacity:1;stroke:none;\"/>\n",
       "<rect x=\"0\" y=\"0\" width=\"504\" height=\"504\" style=\"fill:rgb(100%,100%,100%);fill-opacity:1;stroke:none;\"/>\n",
       "<path style=\"fill:none;stroke-width:1.066978;stroke-linecap:round;stroke-linejoin:round;stroke:rgb(100%,100%,100%);stroke-opacity:1;stroke-miterlimit:10;\" d=\"M 0 504 L 504 504 L 504 0 L 0 0 Z M 0 504 \"/>\n",
       "<g clip-path=\"url(#clip1)\" clip-rule=\"nonzero\">\n",
       "<path style=\" stroke:none;fill-rule:nonzero;fill:rgb(100%,100%,100%);fill-opacity:1;\" d=\"M 38.152344 471.847656 L 498.523438 471.847656 L 498.523438 5.476562 L 38.152344 5.476562 Z M 38.152344 471.847656 \"/>\n",
       "</g>\n",
       "<g clip-path=\"url(#clip2)\" clip-rule=\"nonzero\">\n",
       "<path style=\"fill:none;stroke-width:0.533489;stroke-linecap:butt;stroke-linejoin:round;stroke:rgb(92.156863%,92.156863%,92.156863%);stroke-opacity:1;stroke-miterlimit:10;\" d=\"M 38.152344 391.355469 L 498.519531 391.355469 \"/>\n",
       "</g>\n",
       "<g clip-path=\"url(#clip3)\" clip-rule=\"nonzero\">\n",
       "<path style=\"fill:none;stroke-width:0.533489;stroke-linecap:butt;stroke-linejoin:round;stroke:rgb(92.156863%,92.156863%,92.156863%);stroke-opacity:1;stroke-miterlimit:10;\" d=\"M 38.152344 272.761719 L 498.519531 272.761719 \"/>\n",
       "</g>\n",
       "<g clip-path=\"url(#clip4)\" clip-rule=\"nonzero\">\n",
       "<path style=\"fill:none;stroke-width:0.533489;stroke-linecap:butt;stroke-linejoin:round;stroke:rgb(92.156863%,92.156863%,92.156863%);stroke-opacity:1;stroke-miterlimit:10;\" d=\"M 38.152344 154.167969 L 498.519531 154.167969 \"/>\n",
       "</g>\n",
       "<g clip-path=\"url(#clip5)\" clip-rule=\"nonzero\">\n",
       "<path style=\"fill:none;stroke-width:0.533489;stroke-linecap:butt;stroke-linejoin:round;stroke:rgb(92.156863%,92.156863%,92.156863%);stroke-opacity:1;stroke-miterlimit:10;\" d=\"M 38.152344 35.574219 L 498.519531 35.574219 \"/>\n",
       "</g>\n",
       "<g clip-path=\"url(#clip6)\" clip-rule=\"nonzero\">\n",
       "<path style=\"fill:none;stroke-width:0.533489;stroke-linecap:butt;stroke-linejoin:round;stroke:rgb(92.156863%,92.156863%,92.156863%);stroke-opacity:1;stroke-miterlimit:10;\" d=\"M 121.464844 471.847656 L 121.464844 5.480469 \"/>\n",
       "</g>\n",
       "<g clip-path=\"url(#clip7)\" clip-rule=\"nonzero\">\n",
       "<path style=\"fill:none;stroke-width:0.533489;stroke-linecap:butt;stroke-linejoin:round;stroke:rgb(92.156863%,92.156863%,92.156863%);stroke-opacity:1;stroke-miterlimit:10;\" d=\"M 251.4375 471.847656 L 251.4375 5.480469 \"/>\n",
       "</g>\n",
       "<g clip-path=\"url(#clip8)\" clip-rule=\"nonzero\">\n",
       "<path style=\"fill:none;stroke-width:0.533489;stroke-linecap:butt;stroke-linejoin:round;stroke:rgb(92.156863%,92.156863%,92.156863%);stroke-opacity:1;stroke-miterlimit:10;\" d=\"M 381.414062 471.847656 L 381.414062 5.480469 \"/>\n",
       "</g>\n",
       "<g clip-path=\"url(#clip9)\" clip-rule=\"nonzero\">\n",
       "<path style=\"fill:none;stroke-width:1.066978;stroke-linecap:butt;stroke-linejoin:round;stroke:rgb(92.156863%,92.156863%,92.156863%);stroke-opacity:1;stroke-miterlimit:10;\" d=\"M 38.152344 450.652344 L 498.519531 450.652344 \"/>\n",
       "</g>\n",
       "<g clip-path=\"url(#clip10)\" clip-rule=\"nonzero\">\n",
       "<path style=\"fill:none;stroke-width:1.066978;stroke-linecap:butt;stroke-linejoin:round;stroke:rgb(92.156863%,92.156863%,92.156863%);stroke-opacity:1;stroke-miterlimit:10;\" d=\"M 38.152344 332.058594 L 498.519531 332.058594 \"/>\n",
       "</g>\n",
       "<g clip-path=\"url(#clip11)\" clip-rule=\"nonzero\">\n",
       "<path style=\"fill:none;stroke-width:1.066978;stroke-linecap:butt;stroke-linejoin:round;stroke:rgb(92.156863%,92.156863%,92.156863%);stroke-opacity:1;stroke-miterlimit:10;\" d=\"M 38.152344 213.464844 L 498.519531 213.464844 \"/>\n",
       "</g>\n",
       "<g clip-path=\"url(#clip12)\" clip-rule=\"nonzero\">\n",
       "<path style=\"fill:none;stroke-width:1.066978;stroke-linecap:butt;stroke-linejoin:round;stroke:rgb(92.156863%,92.156863%,92.156863%);stroke-opacity:1;stroke-miterlimit:10;\" d=\"M 38.152344 94.871094 L 498.519531 94.871094 \"/>\n",
       "</g>\n",
       "<g clip-path=\"url(#clip13)\" clip-rule=\"nonzero\">\n",
       "<path style=\"fill:none;stroke-width:1.066978;stroke-linecap:butt;stroke-linejoin:round;stroke:rgb(92.156863%,92.156863%,92.156863%);stroke-opacity:1;stroke-miterlimit:10;\" d=\"M 56.476562 471.847656 L 56.476562 5.480469 \"/>\n",
       "</g>\n",
       "<g clip-path=\"url(#clip14)\" clip-rule=\"nonzero\">\n",
       "<path style=\"fill:none;stroke-width:1.066978;stroke-linecap:butt;stroke-linejoin:round;stroke:rgb(92.156863%,92.156863%,92.156863%);stroke-opacity:1;stroke-miterlimit:10;\" d=\"M 186.453125 471.847656 L 186.453125 5.480469 \"/>\n",
       "</g>\n",
       "<g clip-path=\"url(#clip15)\" clip-rule=\"nonzero\">\n",
       "<path style=\"fill:none;stroke-width:1.066978;stroke-linecap:butt;stroke-linejoin:round;stroke:rgb(92.156863%,92.156863%,92.156863%);stroke-opacity:1;stroke-miterlimit:10;\" d=\"M 316.425781 471.847656 L 316.425781 5.480469 \"/>\n",
       "</g>\n",
       "<g clip-path=\"url(#clip16)\" clip-rule=\"nonzero\">\n",
       "<path style=\"fill:none;stroke-width:1.066978;stroke-linecap:butt;stroke-linejoin:round;stroke:rgb(92.156863%,92.156863%,92.156863%);stroke-opacity:1;stroke-miterlimit:10;\" d=\"M 446.402344 471.847656 L 446.402344 5.480469 \"/>\n",
       "</g>\n",
       "<path style=\"fill-rule:nonzero;fill:rgb(0%,0%,0%);fill-opacity:1;stroke-width:0.708661;stroke-linecap:round;stroke-linejoin:round;stroke:rgb(0%,0%,0%);stroke-opacity:1;stroke-miterlimit:10;\" d=\"M 71.429688 450.652344 C 71.429688 453.257812 67.519531 453.257812 67.519531 450.652344 C 67.519531 448.042969 71.429688 448.042969 71.429688 450.652344 \"/>\n",
       "<path style=\"fill-rule:nonzero;fill:rgb(0%,0%,0%);fill-opacity:1;stroke-width:0.708661;stroke-linecap:round;stroke-linejoin:round;stroke:rgb(0%,0%,0%);stroke-opacity:1;stroke-miterlimit:10;\" d=\"M 479.550781 402.027344 C 479.550781 404.632812 475.640625 404.632812 475.640625 402.027344 C 475.640625 399.421875 479.550781 399.421875 479.550781 402.027344 \"/>\n",
       "<path style=\"fill-rule:nonzero;fill:rgb(0%,0%,0%);fill-opacity:1;stroke-width:0.708661;stroke-linecap:round;stroke-linejoin:round;stroke:rgb(0%,0%,0%);stroke-opacity:1;stroke-miterlimit:10;\" d=\"M 159.8125 436.417969 C 159.8125 439.027344 155.902344 439.027344 155.902344 436.417969 C 155.902344 433.8125 159.8125 433.8125 159.8125 436.417969 \"/>\n",
       "<path style=\"fill-rule:nonzero;fill:rgb(0%,0%,0%);fill-opacity:1;stroke-width:0.708661;stroke-linecap:round;stroke-linejoin:round;stroke:rgb(0%,0%,0%);stroke-opacity:1;stroke-miterlimit:10;\" d=\"M 279.386719 182.628906 C 279.386719 185.234375 275.480469 185.234375 275.480469 182.628906 C 275.480469 180.023438 279.386719 180.023438 279.386719 182.628906 \"/>\n",
       "<path style=\"fill-rule:nonzero;fill:rgb(0%,0%,0%);fill-opacity:1;stroke-width:0.708661;stroke-linecap:round;stroke-linejoin:round;stroke:rgb(0%,0%,0%);stroke-opacity:1;stroke-miterlimit:10;\" d=\"M 211.800781 246.667969 C 211.800781 249.277344 207.890625 249.277344 207.890625 246.667969 C 207.890625 244.0625 211.800781 244.0625 211.800781 246.667969 \"/>\n",
       "<path style=\"fill-rule:nonzero;fill:rgb(0%,0%,0%);fill-opacity:1;stroke-width:0.708661;stroke-linecap:round;stroke-linejoin:round;stroke:rgb(0%,0%,0%);stroke-opacity:1;stroke-miterlimit:10;\" d=\"M 162.410156 436.417969 C 162.410156 439.027344 158.5 439.027344 158.5 436.417969 C 158.5 433.8125 162.410156 433.8125 162.410156 436.417969 \"/>\n",
       "<path style=\"fill-rule:nonzero;fill:rgb(0%,0%,0%);fill-opacity:1;stroke-width:0.708661;stroke-linecap:round;stroke-linejoin:round;stroke:rgb(0%,0%,0%);stroke-opacity:1;stroke-miterlimit:10;\" d=\"M 79.226562 340.953125 C 79.226562 343.558594 75.316406 343.558594 75.316406 340.953125 C 75.316406 338.34375 79.226562 338.34375 79.226562 340.953125 \"/>\n",
       "<path style=\"fill-rule:nonzero;fill:rgb(0%,0%,0%);fill-opacity:1;stroke-width:0.708661;stroke-linecap:round;stroke-linejoin:round;stroke:rgb(0%,0%,0%);stroke-opacity:1;stroke-miterlimit:10;\" d=\"M 63.632812 339.171875 C 63.632812 341.777344 59.722656 341.777344 59.722656 339.171875 C 59.722656 336.566406 63.632812 336.566406 63.632812 339.171875 \"/>\n",
       "<path style=\"fill-rule:nonzero;fill:rgb(0%,0%,0%);fill-opacity:1;stroke-width:0.708661;stroke-linecap:round;stroke-linejoin:round;stroke:rgb(0%,0%,0%);stroke-opacity:1;stroke-miterlimit:10;\" d=\"M 139.015625 447.09375 C 139.015625 449.699219 135.105469 449.699219 135.105469 447.09375 C 135.105469 444.488281 139.015625 444.488281 139.015625 447.09375 \"/>\n",
       "<path style=\"fill-rule:nonzero;fill:rgb(0%,0%,0%);fill-opacity:1;stroke-width:0.708661;stroke-linecap:round;stroke-linejoin:round;stroke:rgb(0%,0%,0%);stroke-opacity:1;stroke-miterlimit:10;\" d=\"M 63.632812 450.652344 C 63.632812 453.257812 59.722656 453.257812 59.722656 450.652344 C 59.722656 448.042969 63.632812 448.042969 63.632812 450.652344 \"/>\n",
       "<path style=\"fill-rule:nonzero;fill:rgb(0%,0%,0%);fill-opacity:1;stroke-width:0.708661;stroke-linecap:round;stroke-linejoin:round;stroke:rgb(0%,0%,0%);stroke-opacity:1;stroke-miterlimit:10;\" d=\"M 71.429688 450.652344 C 71.429688 453.257812 67.519531 453.257812 67.519531 450.652344 C 67.519531 448.042969 71.429688 448.042969 71.429688 450.652344 \"/>\n",
       "<path style=\"fill-rule:nonzero;fill:rgb(0%,0%,0%);fill-opacity:1;stroke-width:0.708661;stroke-linecap:round;stroke-linejoin:round;stroke:rgb(0%,0%,0%);stroke-opacity:1;stroke-miterlimit:10;\" d=\"M 100.023438 431.675781 C 100.023438 434.28125 96.113281 434.28125 96.113281 431.675781 C 96.113281 429.070312 100.023438 429.070312 100.023438 431.675781 \"/>\n",
       "<path style=\"fill-rule:nonzero;fill:rgb(0%,0%,0%);fill-opacity:1;stroke-width:0.708661;stroke-linecap:round;stroke-linejoin:round;stroke:rgb(0%,0%,0%);stroke-opacity:1;stroke-miterlimit:10;\" d=\"M 126.019531 256.15625 C 126.019531 258.761719 122.109375 258.761719 122.109375 256.15625 C 122.109375 253.550781 126.019531 253.550781 126.019531 256.15625 \"/>\n",
       "<path style=\"fill-rule:nonzero;fill:rgb(0%,0%,0%);fill-opacity:1;stroke-width:0.708661;stroke-linecap:round;stroke-linejoin:round;stroke:rgb(0%,0%,0%);stroke-opacity:1;stroke-miterlimit:10;\" d=\"M 74.027344 253.785156 C 74.027344 256.390625 70.121094 256.390625 70.121094 253.785156 C 70.121094 251.179688 74.027344 251.179688 74.027344 253.785156 \"/>\n",
       "<path style=\"fill-rule:nonzero;fill:rgb(0%,0%,0%);fill-opacity:1;stroke-width:0.708661;stroke-linecap:round;stroke-linejoin:round;stroke:rgb(0%,0%,0%);stroke-opacity:1;stroke-miterlimit:10;\" d=\"M 110.421875 437.605469 C 110.421875 440.210938 106.511719 440.210938 106.511719 437.605469 C 106.511719 435 110.421875 435 110.421875 437.605469 \"/>\n",
       "<path style=\"fill-rule:nonzero;fill:rgb(0%,0%,0%);fill-opacity:1;stroke-width:0.708661;stroke-linecap:round;stroke-linejoin:round;stroke:rgb(0%,0%,0%);stroke-opacity:1;stroke-miterlimit:10;\" d=\"M 105.222656 423.96875 C 105.222656 426.574219 101.3125 426.574219 101.3125 423.96875 C 101.3125 421.359375 105.222656 421.359375 105.222656 423.96875 \"/>\n",
       "<path style=\"fill-rule:nonzero;fill:rgb(0%,0%,0%);fill-opacity:1;stroke-width:0.708661;stroke-linecap:round;stroke-linejoin:round;stroke:rgb(0%,0%,0%);stroke-opacity:1;stroke-miterlimit:10;\" d=\"M 71.429688 247.261719 C 71.429688 249.867188 67.519531 249.867188 67.519531 247.261719 C 67.519531 244.65625 71.429688 244.65625 71.429688 247.261719 \"/>\n",
       "<path style=\"fill-rule:nonzero;fill:rgb(0%,0%,0%);fill-opacity:1;stroke-width:0.708661;stroke-linecap:round;stroke-linejoin:round;stroke:rgb(0%,0%,0%);stroke-opacity:1;stroke-miterlimit:10;\" d=\"M 61.03125 450.652344 C 61.03125 453.257812 57.121094 453.257812 57.121094 450.652344 C 57.121094 448.042969 61.03125 448.042969 61.03125 450.652344 \"/>\n",
       "<path style=\"fill-rule:nonzero;fill:rgb(0%,0%,0%);fill-opacity:1;stroke-width:0.708661;stroke-linecap:round;stroke-linejoin:round;stroke:rgb(0%,0%,0%);stroke-opacity:1;stroke-miterlimit:10;\" d=\"M 63.632812 450.652344 C 63.632812 453.257812 59.722656 453.257812 59.722656 450.652344 C 59.722656 448.042969 63.632812 448.042969 63.632812 450.652344 \"/>\n",
       "<path style=\"fill-rule:nonzero;fill:rgb(0%,0%,0%);fill-opacity:1;stroke-width:0.708661;stroke-linecap:round;stroke-linejoin:round;stroke:rgb(0%,0%,0%);stroke-opacity:1;stroke-miterlimit:10;\" d=\"M 66.230469 422.78125 C 66.230469 425.386719 62.320312 425.386719 62.320312 422.78125 C 62.320312 420.175781 66.230469 420.175781 66.230469 422.78125 \"/>\n",
       "<path style=\"fill-rule:nonzero;fill:rgb(0%,0%,0%);fill-opacity:1;stroke-width:0.708661;stroke-linecap:round;stroke-linejoin:round;stroke:rgb(0%,0%,0%);stroke-opacity:1;stroke-miterlimit:10;\" d=\"M 63.632812 450.652344 C 63.632812 453.257812 59.722656 453.257812 59.722656 450.652344 C 59.722656 448.042969 63.632812 448.042969 63.632812 450.652344 \"/>\n",
       "<path style=\"fill-rule:nonzero;fill:rgb(0%,0%,0%);fill-opacity:1;stroke-width:0.708661;stroke-linecap:round;stroke-linejoin:round;stroke:rgb(0%,0%,0%);stroke-opacity:1;stroke-miterlimit:10;\" d=\"M 154.613281 450.058594 C 154.613281 452.664062 150.703125 452.664062 150.703125 450.058594 C 150.703125 447.453125 154.613281 447.453125 154.613281 450.058594 \"/>\n",
       "<path style=\"fill-rule:nonzero;fill:rgb(0%,0%,0%);fill-opacity:1;stroke-width:0.708661;stroke-linecap:round;stroke-linejoin:round;stroke:rgb(0%,0%,0%);stroke-opacity:1;stroke-miterlimit:10;\" d=\"M 110.421875 444.722656 C 110.421875 447.328125 106.511719 447.328125 106.511719 444.722656 C 106.511719 442.113281 110.421875 442.113281 110.421875 444.722656 \"/>\n",
       "<path style=\"fill-rule:nonzero;fill:rgb(0%,0%,0%);fill-opacity:1;stroke-width:0.708661;stroke-linecap:round;stroke-linejoin:round;stroke:rgb(0%,0%,0%);stroke-opacity:1;stroke-miterlimit:10;\" d=\"M 271.589844 450.652344 C 271.589844 453.257812 267.679688 453.257812 267.679688 450.652344 C 267.679688 448.042969 271.589844 448.042969 271.589844 450.652344 \"/>\n",
       "<path style=\"fill-rule:nonzero;fill:rgb(0%,0%,0%);fill-opacity:1;stroke-width:0.708661;stroke-linecap:round;stroke-linejoin:round;stroke:rgb(0%,0%,0%);stroke-opacity:1;stroke-miterlimit:10;\" d=\"M 315.78125 443.535156 C 315.78125 446.140625 311.871094 446.140625 311.871094 443.535156 C 311.871094 440.929688 315.78125 440.929688 315.78125 443.535156 \"/>\n",
       "<path style=\"fill-rule:nonzero;fill:rgb(0%,0%,0%);fill-opacity:1;stroke-width:0.708661;stroke-linecap:round;stroke-linejoin:round;stroke:rgb(0%,0%,0%);stroke-opacity:1;stroke-miterlimit:10;\" d=\"M 63.632812 450.652344 C 63.632812 453.257812 59.722656 453.257812 59.722656 450.652344 C 59.722656 448.042969 63.632812 448.042969 63.632812 450.652344 \"/>\n",
       "<path style=\"fill-rule:nonzero;fill:rgb(0%,0%,0%);fill-opacity:1;stroke-width:0.708661;stroke-linecap:round;stroke-linejoin:round;stroke:rgb(0%,0%,0%);stroke-opacity:1;stroke-miterlimit:10;\" d=\"M 74.027344 450.652344 C 74.027344 453.257812 70.121094 453.257812 70.121094 450.652344 C 70.121094 448.042969 74.027344 448.042969 74.027344 450.652344 \"/>\n",
       "<path style=\"fill-rule:nonzero;fill:rgb(0%,0%,0%);fill-opacity:1;stroke-width:0.708661;stroke-linecap:round;stroke-linejoin:round;stroke:rgb(0%,0%,0%);stroke-opacity:1;stroke-miterlimit:10;\" d=\"M 84.425781 450.652344 C 84.425781 453.257812 80.515625 453.257812 80.515625 450.652344 C 80.515625 448.042969 84.425781 448.042969 84.425781 450.652344 \"/>\n",
       "<path style=\"fill-rule:nonzero;fill:rgb(0%,0%,0%);fill-opacity:1;stroke-width:0.708661;stroke-linecap:round;stroke-linejoin:round;stroke:rgb(0%,0%,0%);stroke-opacity:1;stroke-miterlimit:10;\" d=\"M 61.03125 445.90625 C 61.03125 448.511719 57.121094 448.511719 57.121094 445.90625 C 57.121094 443.300781 61.03125 443.300781 61.03125 445.90625 \"/>\n",
       "<path style=\"fill-rule:nonzero;fill:rgb(0%,0%,0%);fill-opacity:1;stroke-width:0.708661;stroke-linecap:round;stroke-linejoin:round;stroke:rgb(0%,0%,0%);stroke-opacity:1;stroke-miterlimit:10;\" d=\"M 63.632812 450.652344 C 63.632812 453.257812 59.722656 453.257812 59.722656 450.652344 C 59.722656 448.042969 63.632812 448.042969 63.632812 450.652344 \"/>\n",
       "<path style=\"fill-rule:nonzero;fill:rgb(0%,0%,0%);fill-opacity:1;stroke-width:0.708661;stroke-linecap:round;stroke-linejoin:round;stroke:rgb(0%,0%,0%);stroke-opacity:1;stroke-miterlimit:10;\" d=\"M 61.03125 450.652344 C 61.03125 453.257812 57.121094 453.257812 57.121094 450.652344 C 57.121094 448.042969 61.03125 448.042969 61.03125 450.652344 \"/>\n",
       "<path style=\"fill-rule:nonzero;fill:rgb(0%,0%,0%);fill-opacity:1;stroke-width:0.708661;stroke-linecap:round;stroke-linejoin:round;stroke:rgb(0%,0%,0%);stroke-opacity:1;stroke-miterlimit:10;\" d=\"M 396.367188 26.679688 C 396.367188 29.285156 392.457031 29.285156 392.457031 26.679688 C 392.457031 24.070312 396.367188 24.070312 396.367188 26.679688 \"/>\n",
       "<path style=\"fill-rule:nonzero;fill:rgb(0%,0%,0%);fill-opacity:1;stroke-width:0.708661;stroke-linecap:round;stroke-linejoin:round;stroke:rgb(0%,0%,0%);stroke-opacity:1;stroke-miterlimit:10;\" d=\"M 204.003906 230.660156 C 204.003906 233.265625 200.09375 233.265625 200.09375 230.660156 C 200.09375 228.054688 204.003906 228.054688 204.003906 230.660156 \"/>\n",
       "<path style=\"fill-rule:nonzero;fill:rgb(0%,0%,0%);fill-opacity:1;stroke-width:0.708661;stroke-linecap:round;stroke-linejoin:round;stroke:rgb(0%,0%,0%);stroke-opacity:1;stroke-miterlimit:10;\" d=\"M 79.226562 234.808594 C 79.226562 237.417969 75.316406 237.417969 75.316406 234.808594 C 75.316406 232.203125 79.226562 232.203125 79.226562 234.808594 \"/>\n",
       "<path style=\"fill-rule:nonzero;fill:rgb(0%,0%,0%);fill-opacity:1;stroke-width:0.708661;stroke-linecap:round;stroke-linejoin:round;stroke:rgb(0%,0%,0%);stroke-opacity:1;stroke-miterlimit:10;\" d=\"M 61.03125 368.820312 C 61.03125 371.425781 57.121094 371.425781 57.121094 368.820312 C 57.121094 366.214844 61.03125 366.214844 61.03125 368.820312 \"/>\n",
       "<g style=\"fill:rgb(0%,0%,0%);fill-opacity:1;\">\n",
       "  <use xlink:href=\"#glyph0-1\" x=\"445.09375\" y=\"402.020508\"/>\n",
       "  <use xlink:href=\"#glyph0-2\" x=\"451.09375\" y=\"402.020508\"/>\n",
       "  <use xlink:href=\"#glyph0-3\" x=\"457.09375\" y=\"402.020508\"/>\n",
       "  <use xlink:href=\"#glyph0-2\" x=\"463.09375\" y=\"402.020508\"/>\n",
       "  <use xlink:href=\"#glyph0-4\" x=\"469.09375\" y=\"402.020508\"/>\n",
       "</g>\n",
       "<g style=\"fill:rgb(0%,0%,0%);fill-opacity:1;\">\n",
       "  <use xlink:href=\"#glyph0-1\" x=\"204.933594\" y=\"182.62207\"/>\n",
       "  <use xlink:href=\"#glyph0-2\" x=\"210.933594\" y=\"182.62207\"/>\n",
       "  <use xlink:href=\"#glyph0-5\" x=\"216.933594\" y=\"182.62207\"/>\n",
       "  <use xlink:href=\"#glyph0-6\" x=\"220.933594\" y=\"182.62207\"/>\n",
       "  <use xlink:href=\"#glyph0-7\" x=\"226.933594\" y=\"182.62207\"/>\n",
       "  <use xlink:href=\"#glyph0-8\" x=\"232.933594\" y=\"182.62207\"/>\n",
       "  <use xlink:href=\"#glyph0-2\" x=\"238.933594\" y=\"182.62207\"/>\n",
       "  <use xlink:href=\"#glyph0-4\" x=\"244.933594\" y=\"182.62207\"/>\n",
       "  <use xlink:href=\"#glyph0-4\" x=\"246.933594\" y=\"182.62207\"/>\n",
       "  <use xlink:href=\"#glyph0-9\" x=\"248.933594\" y=\"182.62207\"/>\n",
       "  <use xlink:href=\"#glyph0-10\" x=\"250.933594\" y=\"182.62207\"/>\n",
       "  <use xlink:href=\"#glyph0-11\" x=\"256.933594\" y=\"182.62207\"/>\n",
       "</g>\n",
       "<g style=\"fill:rgb(0%,0%,0%);fill-opacity:1;\">\n",
       "  <use xlink:href=\"#glyph0-12\" x=\"157.347656\" y=\"246.661133\"/>\n",
       "  <use xlink:href=\"#glyph0-13\" x=\"164.347656\" y=\"246.661133\"/>\n",
       "  <use xlink:href=\"#glyph0-2\" x=\"173.347656\" y=\"246.661133\"/>\n",
       "  <use xlink:href=\"#glyph0-4\" x=\"179.347656\" y=\"246.661133\"/>\n",
       "  <use xlink:href=\"#glyph0-14\" x=\"181.347656\" y=\"246.661133\"/>\n",
       "  <use xlink:href=\"#glyph0-10\" x=\"187.347656\" y=\"246.661133\"/>\n",
       "  <use xlink:href=\"#glyph0-15\" x=\"193.347656\" y=\"246.661133\"/>\n",
       "</g>\n",
       "<g style=\"fill:rgb(0%,0%,0%);fill-opacity:1;\">\n",
       "  <use xlink:href=\"#glyph0-16\" x=\"240.886719\" y=\"450.645508\"/>\n",
       "  <use xlink:href=\"#glyph0-17\" x=\"247.886719\" y=\"450.645508\"/>\n",
       "  <use xlink:href=\"#glyph0-8\" x=\"253.886719\" y=\"450.645508\"/>\n",
       "  <use xlink:href=\"#glyph0-5\" x=\"259.886719\" y=\"450.645508\"/>\n",
       "</g>\n",
       "<g style=\"fill:rgb(0%,0%,0%);fill-opacity:1;\">\n",
       "  <use xlink:href=\"#glyph0-18\" x=\"291.328125\" y=\"443.52832\"/>\n",
       "  <use xlink:href=\"#glyph0-19\" x=\"298.328125\" y=\"443.52832\"/>\n",
       "  <use xlink:href=\"#glyph0-4\" x=\"304.328125\" y=\"443.52832\"/>\n",
       "  <use xlink:href=\"#glyph0-20\" x=\"306.328125\" y=\"443.52832\"/>\n",
       "</g>\n",
       "<g style=\"fill:rgb(0%,0%,0%);fill-opacity:1;\">\n",
       "  <use xlink:href=\"#glyph0-21\" x=\"355.660156\" y=\"26.672852\"/>\n",
       "  <use xlink:href=\"#glyph0-22\" x=\"363.660156\" y=\"26.672852\"/>\n",
       "  <use xlink:href=\"#glyph0-13\" x=\"370.660156\" y=\"26.672852\"/>\n",
       "  <use xlink:href=\"#glyph0-22\" x=\"379.660156\" y=\"26.672852\"/>\n",
       "</g>\n",
       "<g style=\"fill:rgb(0%,0%,0%);fill-opacity:1;\">\n",
       "  <use xlink:href=\"#glyph0-16\" x=\"169.546875\" y=\"230.65332\"/>\n",
       "  <use xlink:href=\"#glyph0-14\" x=\"176.546875\" y=\"230.65332\"/>\n",
       "  <use xlink:href=\"#glyph0-10\" x=\"182.546875\" y=\"230.65332\"/>\n",
       "  <use xlink:href=\"#glyph0-22\" x=\"188.546875\" y=\"230.65332\"/>\n",
       "</g>\n",
       "<path style=\"fill:none;stroke-width:2.133957;stroke-linecap:butt;stroke-linejoin:round;stroke:rgb(20%,40%,100%);stroke-opacity:1;stroke-miterlimit:10;\" d=\"M 59.078125 409.882812 L 74.96875 403.566406 L 80.265625 401.464844 L 85.566406 399.359375 L 96.160156 395.148438 L 101.457031 393.046875 L 106.757812 390.941406 L 117.351562 386.730469 L 122.648438 384.628906 L 127.945312 382.523438 L 133.246094 380.417969 L 138.542969 378.3125 L 143.839844 376.210938 L 154.433594 372 L 159.734375 369.894531 L 165.03125 367.792969 L 180.921875 361.476562 L 186.222656 359.375 L 202.113281 353.058594 L 207.410156 350.957031 L 212.710938 348.851562 L 223.304688 344.640625 L 228.601562 342.539062 L 233.902344 340.433594 L 244.496094 336.222656 L 249.792969 334.121094 L 255.089844 332.015625 L 260.390625 329.910156 L 265.6875 327.804688 L 270.984375 325.703125 L 281.578125 321.492188 L 286.878906 319.386719 L 292.175781 317.285156 L 308.066406 310.96875 L 313.367188 308.867188 L 329.257812 302.550781 L 334.558594 300.449219 L 350.449219 294.132812 L 355.746094 292.03125 L 361.046875 289.925781 L 371.640625 285.714844 L 376.9375 283.613281 L 382.234375 281.507812 L 387.535156 279.402344 L 392.832031 277.296875 L 398.128906 275.195312 L 408.722656 270.984375 L 414.023438 268.878906 L 419.320312 266.777344 L 429.914062 262.566406 L 435.214844 260.460938 L 440.511719 258.359375 L 456.402344 252.042969 L 461.703125 249.941406 L 477.59375 243.625 \"/>\n",
       "<g clip-path=\"url(#clip17)\" clip-rule=\"nonzero\">\n",
       "<path style=\"fill:none;stroke-width:1.066978;stroke-linecap:round;stroke-linejoin:round;stroke:rgb(20%,20%,20%);stroke-opacity:1;stroke-miterlimit:10;\" d=\"M 38.152344 471.847656 L 498.523438 471.847656 L 498.523438 5.476562 L 38.152344 5.476562 Z M 38.152344 471.847656 \"/>\n",
       "</g>\n",
       "<g style=\"fill:rgb(30.196078%,30.196078%,30.196078%);fill-opacity:1;\">\n",
       "  <use xlink:href=\"#glyph1-1\" x=\"28.21875\" y=\"454.118164\"/>\n",
       "</g>\n",
       "<g style=\"fill:rgb(30.196078%,30.196078%,30.196078%);fill-opacity:1;\">\n",
       "  <use xlink:href=\"#glyph1-2\" x=\"18.21875\" y=\"335.524414\"/>\n",
       "  <use xlink:href=\"#glyph1-1\" x=\"23.21875\" y=\"335.524414\"/>\n",
       "  <use xlink:href=\"#glyph1-1\" x=\"28.21875\" y=\"335.524414\"/>\n",
       "</g>\n",
       "<g style=\"fill:rgb(30.196078%,30.196078%,30.196078%);fill-opacity:1;\">\n",
       "  <use xlink:href=\"#glyph1-3\" x=\"18.21875\" y=\"216.930664\"/>\n",
       "  <use xlink:href=\"#glyph1-1\" x=\"23.21875\" y=\"216.930664\"/>\n",
       "  <use xlink:href=\"#glyph1-1\" x=\"28.21875\" y=\"216.930664\"/>\n",
       "</g>\n",
       "<g style=\"fill:rgb(30.196078%,30.196078%,30.196078%);fill-opacity:1;\">\n",
       "  <use xlink:href=\"#glyph1-4\" x=\"18.21875\" y=\"98.336914\"/>\n",
       "  <use xlink:href=\"#glyph1-1\" x=\"23.21875\" y=\"98.336914\"/>\n",
       "  <use xlink:href=\"#glyph1-1\" x=\"28.21875\" y=\"98.336914\"/>\n",
       "</g>\n",
       "<path style=\"fill:none;stroke-width:1.066978;stroke-linecap:butt;stroke-linejoin:round;stroke:rgb(20%,20%,20%);stroke-opacity:1;stroke-miterlimit:10;\" d=\"M 35.410156 450.652344 L 38.152344 450.652344 \"/>\n",
       "<path style=\"fill:none;stroke-width:1.066978;stroke-linecap:butt;stroke-linejoin:round;stroke:rgb(20%,20%,20%);stroke-opacity:1;stroke-miterlimit:10;\" d=\"M 35.410156 332.058594 L 38.152344 332.058594 \"/>\n",
       "<path style=\"fill:none;stroke-width:1.066978;stroke-linecap:butt;stroke-linejoin:round;stroke:rgb(20%,20%,20%);stroke-opacity:1;stroke-miterlimit:10;\" d=\"M 35.410156 213.464844 L 38.152344 213.464844 \"/>\n",
       "<path style=\"fill:none;stroke-width:1.066978;stroke-linecap:butt;stroke-linejoin:round;stroke:rgb(20%,20%,20%);stroke-opacity:1;stroke-miterlimit:10;\" d=\"M 35.410156 94.871094 L 38.152344 94.871094 \"/>\n",
       "<path style=\"fill:none;stroke-width:1.066978;stroke-linecap:butt;stroke-linejoin:round;stroke:rgb(20%,20%,20%);stroke-opacity:1;stroke-miterlimit:10;\" d=\"M 56.476562 474.589844 L 56.476562 471.847656 \"/>\n",
       "<path style=\"fill:none;stroke-width:1.066978;stroke-linecap:butt;stroke-linejoin:round;stroke:rgb(20%,20%,20%);stroke-opacity:1;stroke-miterlimit:10;\" d=\"M 186.453125 474.589844 L 186.453125 471.847656 \"/>\n",
       "<path style=\"fill:none;stroke-width:1.066978;stroke-linecap:butt;stroke-linejoin:round;stroke:rgb(20%,20%,20%);stroke-opacity:1;stroke-miterlimit:10;\" d=\"M 316.425781 474.589844 L 316.425781 471.847656 \"/>\n",
       "<path style=\"fill:none;stroke-width:1.066978;stroke-linecap:butt;stroke-linejoin:round;stroke:rgb(20%,20%,20%);stroke-opacity:1;stroke-miterlimit:10;\" d=\"M 446.402344 474.589844 L 446.402344 471.847656 \"/>\n",
       "<g style=\"fill:rgb(30.196078%,30.196078%,30.196078%);fill-opacity:1;\">\n",
       "  <use xlink:href=\"#glyph1-1\" x=\"53.976562\" y=\"483.74707\"/>\n",
       "</g>\n",
       "<g style=\"fill:rgb(30.196078%,30.196078%,30.196078%);fill-opacity:1;\">\n",
       "  <use xlink:href=\"#glyph1-5\" x=\"181.453125\" y=\"483.74707\"/>\n",
       "  <use xlink:href=\"#glyph1-1\" x=\"186.453125\" y=\"483.74707\"/>\n",
       "</g>\n",
       "<g style=\"fill:rgb(30.196078%,30.196078%,30.196078%);fill-opacity:1;\">\n",
       "  <use xlink:href=\"#glyph1-6\" x=\"308.925781\" y=\"483.74707\"/>\n",
       "  <use xlink:href=\"#glyph1-1\" x=\"313.925781\" y=\"483.74707\"/>\n",
       "  <use xlink:href=\"#glyph1-1\" x=\"318.925781\" y=\"483.74707\"/>\n",
       "</g>\n",
       "<g style=\"fill:rgb(30.196078%,30.196078%,30.196078%);fill-opacity:1;\">\n",
       "  <use xlink:href=\"#glyph1-6\" x=\"438.902344\" y=\"483.74707\"/>\n",
       "  <use xlink:href=\"#glyph1-5\" x=\"443.902344\" y=\"483.74707\"/>\n",
       "  <use xlink:href=\"#glyph1-1\" x=\"448.902344\" y=\"483.74707\"/>\n",
       "</g>\n",
       "<g style=\"fill:rgb(0%,0%,0%);fill-opacity:1;\">\n",
       "  <use xlink:href=\"#glyph2-1\" x=\"240.835938\" y=\"496.477539\"/>\n",
       "  <use xlink:href=\"#glyph2-2\" x=\"247.835938\" y=\"496.477539\"/>\n",
       "  <use xlink:href=\"#glyph2-3\" x=\"251.835938\" y=\"496.477539\"/>\n",
       "  <use xlink:href=\"#glyph2-4\" x=\"257.835938\" y=\"496.477539\"/>\n",
       "  <use xlink:href=\"#glyph2-5\" x=\"263.835938\" y=\"496.477539\"/>\n",
       "  <use xlink:href=\"#glyph2-6\" x=\"266.835938\" y=\"496.477539\"/>\n",
       "  <use xlink:href=\"#glyph2-7\" x=\"270.835938\" y=\"496.477539\"/>\n",
       "  <use xlink:href=\"#glyph2-8\" x=\"276.835938\" y=\"496.477539\"/>\n",
       "  <use xlink:href=\"#glyph2-9\" x=\"285.835938\" y=\"496.477539\"/>\n",
       "  <use xlink:href=\"#glyph2-10\" x=\"291.835938\" y=\"496.477539\"/>\n",
       "</g>\n",
       "<g style=\"fill:rgb(0%,0%,0%);fill-opacity:1;\">\n",
       "  <use xlink:href=\"#glyph3-1\" x=\"13.438477\" y=\"276.164062\"/>\n",
       "  <use xlink:href=\"#glyph3-2\" x=\"13.438477\" y=\"269.164062\"/>\n",
       "  <use xlink:href=\"#glyph3-3\" x=\"13.438477\" y=\"263.164062\"/>\n",
       "  <use xlink:href=\"#glyph3-4\" x=\"13.438477\" y=\"257.164062\"/>\n",
       "  <use xlink:href=\"#glyph3-5\" x=\"13.438477\" y=\"251.164062\"/>\n",
       "  <use xlink:href=\"#glyph3-3\" x=\"13.438477\" y=\"249.164062\"/>\n",
       "  <use xlink:href=\"#glyph3-6\" x=\"13.438477\" y=\"243.164062\"/>\n",
       "  <use xlink:href=\"#glyph3-7\" x=\"13.438477\" y=\"237.164062\"/>\n",
       "  <use xlink:href=\"#glyph3-4\" x=\"13.438477\" y=\"234.164062\"/>\n",
       "  <use xlink:href=\"#glyph3-8\" x=\"13.438477\" y=\"228.164062\"/>\n",
       "  <use xlink:href=\"#glyph3-9\" x=\"13.438477\" y=\"222.164062\"/>\n",
       "  <use xlink:href=\"#glyph3-10\" x=\"13.438477\" y=\"216.164062\"/>\n",
       "  <use xlink:href=\"#glyph3-11\" x=\"13.438477\" y=\"210.164062\"/>\n",
       "  <use xlink:href=\"#glyph3-6\" x=\"13.438477\" y=\"207.164062\"/>\n",
       "</g>\n",
       "</g>\n",
       "</svg>\n"
      ],
      "text/plain": [
       "plot without title"
      ]
     },
     "metadata": {
      "application/pdf": {
       "height": 420,
       "width": 420
      },
      "image/jpeg": {
       "height": 420,
       "width": 420
      },
      "image/png": {
       "height": 420,
       "width": 420
      },
      "image/svg+xml": {
       "height": 420,
       "isolated": true,
       "width": 420
      }
     },
     "output_type": "display_data"
    }
   ],
   "source": [
    "x <- islands_df$area\n",
    "y <- islands_df$species_count\n",
    "labels <- islands_df$name\n",
    "ggplot(\n",
    "    islands_df,\n",
    "    aes(x = area, y = species_count, label=ifelse(area>50, name, \"\"))\n",
    ") + \n",
    "geom_point() +\n",
    "geom_text(hjust=1.25, vjust=0) +\n",
    "xlab(\"Area (km2)\") + ylab(\"Species counts\") + \n",
    "theme_bw() + \n",
    "geom_smooth(method=\"lm\", se=FALSE)"
   ]
  },
  {
   "cell_type": "code",
   "execution_count": 65,
   "id": "cd6417ad-af96-4e89-849f-d9e1439cb90e",
   "metadata": {},
   "outputs": [
    {
     "data": {
      "text/plain": [
       "     name             country               area        species_count  \n",
       " Length:35          Length:35          Min.   :  1.00   Min.   :  0.0  \n",
       " Class :character   Class :character   1st Qu.:  2.00   1st Qu.:  0.0  \n",
       " Mode  :character   Mode  :character   Median :  8.00   Median : 22.0  \n",
       "                                       Mean   : 28.34   Mean   :116.4  \n",
       "                                       3rd Qu.: 38.00   3rd Qu.:186.5  \n",
       "                                       Max.   :162.00   Max.   :715.0  "
      ]
     },
     "metadata": {},
     "output_type": "display_data"
    }
   ],
   "source": [
    "summary(x = area, y = species_count, islands_df)"
   ]
  },
  {
   "cell_type": "code",
   "execution_count": 69,
   "id": "9c064fe9-2185-42ab-8c91-29c0adfeb55a",
   "metadata": {},
   "outputs": [
    {
     "data": {
      "text/plain": [
       "\n",
       "Call:\n",
       "lm(formula = species_count ~ area, data = islands_df)\n",
       "\n",
       "Residuals:\n",
       "    Min      1Q  Median      3Q     Max \n",
       "-267.13  -82.14  -70.50  110.78  421.60 \n",
       "\n",
       "Coefficients:\n",
       "            Estimate Std. Error t value Pr(>|t|)  \n",
       "(Intercept)  67.0132    34.6205   1.936   0.0615 .\n",
       "area          1.7415     0.7178   2.426   0.0209 *\n",
       "---\n",
       "Signif. codes:  0 ‘***’ 0.001 ‘**’ 0.01 ‘*’ 0.05 ‘.’ 0.1 ‘ ’ 1\n",
       "\n",
       "Residual standard error: 165.7 on 33 degrees of freedom\n",
       "Multiple R-squared:  0.1514,\tAdjusted R-squared:  0.1257 \n",
       "F-statistic: 5.887 on 1 and 33 DF,  p-value: 0.02088\n"
      ]
     },
     "metadata": {},
     "output_type": "display_data"
    }
   ],
   "source": [
    "biodiv.lm <- lm(species_count ~ area, data = islands_df)\n",
    "summary(biodiv.lm)"
   ]
  },
  {
   "cell_type": "markdown",
   "id": "e080524d-c094-4cc5-9266-3188acab3d47",
   "metadata": {},
   "source": [
    "p-value < 0.05, therefore the regessin is significant. However, Texel, Sylt and Föhr are clearly outlyers."
   ]
  },
  {
   "cell_type": "code",
   "execution_count": null,
   "id": "cdc32f62-387d-4305-b499-372d4c1827e2",
   "metadata": {},
   "outputs": [],
   "source": []
  }
 ],
 "metadata": {
  "kernelspec": {
   "display_name": "R",
   "language": "R",
   "name": "ir"
  },
  "language_info": {
   "codemirror_mode": "r",
   "file_extension": ".r",
   "mimetype": "text/x-r-source",
   "name": "R",
   "pygments_lexer": "r",
   "version": "4.3.1"
  }
 },
 "nbformat": 4,
 "nbformat_minor": 5
}
