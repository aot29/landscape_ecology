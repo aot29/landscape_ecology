{
 "cells": [
  {
   "cell_type": "markdown",
   "id": "95aa2c94-4a5e-43d4-a56d-d3a6bc38488e",
   "metadata": {},
   "source": [
    "# Unit 1.1 Foundation: Introduction to landscape ecology\n",
    "\n",
    "There is no such thing as a pristine natural habitat. therefore biodiversity in cities is much more interesting than most people realize. The relationships between nature and society should be (re)considered carefully, and meaningful research questions should be informed by a meaningful paradigm. I was intrigued by this course's \"ecosystem services\" approach, and want to find out more about it.\n",
    "\n",
    "URL: https://www.zeemaps.com/edit/T-Q6pHcbe6mJuno8vc929OXhauQ8vRcJ\n",
    "\n",
    "Objectives\n",
    "\n",
    "* Define landscape and landscape ecology\n",
    "* Explain the importance of spatial scale\n",
    "* Data driven analysis of scale in ecology\n",
    "* Discuss the history of land use and its effects on landscape ecology\n",
    "\n",
    "\n",
    "## Definition of landscape:\n",
    "\n",
    "A medium-scale excerpt of the World, influenced by nature and humans, as perceived by people.\n",
    "\n",
    "## History of the idea\n",
    "\n",
    "Humboldt was the first to study landscape as such. For him, landscape was already an idea which could only be approached in a holistic way, including biological, geographical and cultural aspects.\n",
    "\n",
    "The term \"landscape ecology\" was coined by Carl Troll (1939), inspired by the shift of perception caused by aerial photography. \n",
    "\n",
    "The first theoretical framework to study landscape ecology was proposed by Lack (1942): the number of species of an island is inversely proportional to the distance to the mainland, proportional to the size of the island. The probability for species extinction is proportional to the size of the island. __This framework is important as it emphasizes the spatial pattern distribution of landscapes__, so it goes beyond just studying the influence of external factors on biological organisms.\n",
    "\n",
    "see: [the international journal “Landscape Ecology”](https://www.springer.com/journal/10980)\n",
    "\n",
    "References: \n",
    "\n",
    "* Landscapes and landscape research in Germany (Potschin et al. 2004)\n",
    "* Landscape Ecology in Theory and Practice (Turner et al. 2015)\n"
   ]
  },
  {
   "cell_type": "markdown",
   "id": "b2300b73-006b-412a-97e6-2270f69dc540",
   "metadata": {},
   "source": [
    "## Scale\n",
    "\n",
    "Concepts:\n",
    "* Grain: the level of resolution\n",
    "* Extent: the total sampled area\n",
    "\n",
    "Scale my influence correlations: e.g., predator avoidance effect at \n",
    "smaler scale (negative correlation), while positive correlation at larger scale, when sampleing accross different habitats.\n",
    "\n",
    "Importance of scale for decision-making:\n",
    "* assess changes in land use (new settlements, cultivation of new lands)\n",
    "* assess effect on ecological processes, taking landscape patterns into account\n",
    "* land-use planning, as a concept for discussing decisions with multiple stakeholders\n",
    "* as a source for individual emotional attachment to a place\n",
    "\n",
    "More generally: landscape ecology allows to incorporate the value that humans attribute to a landscape into decision making processes.\n"
   ]
  },
  {
   "cell_type": "markdown",
   "id": "22497ba0-3080-436e-84e7-fb83c9c67322",
   "metadata": {},
   "source": [
    "## Six sentence argument\n",
    "\n",
    "see: Jentges & Kölbel (2017)\n",
    "\n",
    "Subject: What do you believe is currently the largest challenge for our landscapes on a global scale? \n",
    "\n",
    "Introduction: Several ecological and societal developments are nearing or have crossed a thershold beyond which irreparable damage will result to landscapes.\n",
    "\n",
    "Position: Out of these developments, the loss of pollinator species diversity is in my opinion the most challenging to counteract.\n",
    "\n",
    "Reason: As pollinator and pollinated have evolved in parallel, the loss of one will result in the loss of the other.\n",
    "\n",
    "Challenge: There are other challenges to landscapes, such as climate change or acidification, which are perhaps more present in public perception.\n",
    "\n",
    "Rebutal: However, other challenges are potentially reversible given enough time, whereas the loss of biodiversity, within human scale, is not.\n",
    "\n",
    "Conclusion: Therefore, biodiversity conservation, particularly of pollinators, should be given priority, while the resulting social challenges be compensated by political measures."
   ]
  },
  {
   "cell_type": "code",
   "execution_count": null,
   "id": "491a5c30-58cb-402b-99a9-84945ecbc695",
   "metadata": {},
   "outputs": [],
   "source": []
  },
  {
   "cell_type": "code",
   "execution_count": null,
   "id": "317a8036-89f2-4d0e-a5e2-4a17e05e5081",
   "metadata": {},
   "outputs": [],
   "source": []
  }
 ],
 "metadata": {
  "kernelspec": {
   "display_name": "R",
   "language": "R",
   "name": "ir"
  },
  "language_info": {
   "codemirror_mode": "r",
   "file_extension": ".r",
   "mimetype": "text/x-r-source",
   "name": "R",
   "pygments_lexer": "r",
   "version": "4.3.1"
  }
 },
 "nbformat": 4,
 "nbformat_minor": 5
}
