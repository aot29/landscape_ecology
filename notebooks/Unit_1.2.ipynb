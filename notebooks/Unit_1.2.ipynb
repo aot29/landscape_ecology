{
 "cells": [
  {
   "cell_type": "markdown",
   "id": "8b2228e6-d581-4196-ba4a-d9350f52e710",
   "metadata": {},
   "source": [
    "# Unit 1.2 Drivers of landscape pattern\n",
    "\n",
    "Causes of landscape patterns\n",
    "\n",
    "Abiotic factors, on a geological scale:\n",
    "* Climate\n",
    "* Landform\n",
    "    * plate tectonics (millions of years)\n",
    "    * erosion (pleistocene onwards, glaciations)\n",
    "* Soil\n",
    "\n",
    "\n",
    "Factors studied in traditional ecology\n",
    "* Biotic processes\n",
    "\n",
    "* Human activity\n",
    "* Disturbances (landslides, flooding, fire...)\n",
    "\n",
    "## Landform effects on Ecosystem Patterns and Processes\n",
    "Swnason et al.(1988):\n",
    "* class 1: Elevation, steepness, aspect, materials -> moisture, nutrients... available in a landscape\n",
    "* class 2: Flows of organisms, seeds, energy, materials\n",
    "* class 3 disturbances -> fire, wind, grazing\n",
    "* class 4: biotic alterations\n",
    "\n"
   ]
  },
  {
   "cell_type": "markdown",
   "id": "c86eb11a-befb-4cc1-9d62-1ee73f3c1a30",
   "metadata": {},
   "source": [
    "## Climate\n",
    "The large-scale distributin of biomes is determined by temperature and precipitation. Climate alone cannot explain patterns on a landscape scale.\n",
    "\n",
    "Microclimate: \n",
    "* Gradient analysis: study of altitude and landform to explain distribution of plants (maily) species "
   ]
  },
  {
   "cell_type": "markdown",
   "id": "e1835760-c30c-432d-a870-6ac0e8a225ac",
   "metadata": {},
   "source": [
    "## Soil\n",
    "Physical, chemical, biological processes work on parent material to create soil. Nitrogen, Hydrogen and carbon have tobe added (i.e. do not come from rocks). \n",
    "\n",
    "Chemical characteristics of soil: texture, depth, pH, mineral composition\n",
    "\n",
    "It takes +- 5000 years to create 50 cm of soil in a temperate climate\n",
    "\n"
   ]
  },
  {
   "cell_type": "markdown",
   "id": "08653314-fe86-49a8-a142-8f2123453db4",
   "metadata": {},
   "source": [
    "## Vegetation patterns\n",
    "Determined by\n",
    "* presence of seeds\n",
    "* availability of resources: water, light, nutrients\n",
    "* environment: climate, soil characteristics\n",
    "\n",
    "Vegetation patterns form mosaics and zones, of all scales.\n",
    "\n",
    "Vegetation patterns can be stable (climax state), in transition to their original state (fluctuation), or in a statage of succession in a certain direction. Fluctuations can be seasonal or span centuries.\n",
    "\n",
    "## Vegetation interactions\n",
    "* Competition between species: directly or indirectly through a common limiting resource\n",
    "* allelopathy: production of chemicals harmful to other species, e.g.walnut trees harm neighbouring plants\n",
    "* facilitation: benefitial to one or more participants\n",
    "* mutualism: mutually benefitial interaction, e.g. pollination\n",
    "* symbiosys: close relationships between species"
   ]
  },
  {
   "cell_type": "markdown",
   "id": "30cdf88a-383c-4e00-befa-702112e7358a",
   "metadata": {},
   "source": [
    "## Disturbances\n",
    "\n",
    "Disturbances occur at various spatial and temporal scales: avalanches, mudflows, wildfires, storms. Disturbances can be classified by:\n",
    "* Driver (climatic, biotic, physical, anthropogenic): winds, pests...\n",
    "* Mechanism: erosion, soil compaction\n",
    "* Ecosystem property: flammability, topography...\n",
    "\n",
    "\n",
    "Legacy effect: Landscape patterns often originate from disturbances, as the vegetation in different areas can be at different stages of recovery. For example: a forest growing on formal agricultural land will ahave a diffrent structure than the original native foprest. "
   ]
  },
  {
   "cell_type": "markdown",
   "id": "562e03be-61f4-42d7-ab58-2f376f85d5f0",
   "metadata": {},
   "source": [
    "## Human activities\n",
    "\n",
    "* Change of disturbance regime: damm building\n",
    "* Physical changes: construction\n",
    "* Biological changes: mnoculture, hunting\n",
    "* Chemical changes: pollution"
   ]
  }
 ],
 "metadata": {
  "kernelspec": {
   "display_name": "R",
   "language": "R",
   "name": "ir"
  },
  "language_info": {
   "codemirror_mode": "r",
   "file_extension": ".r",
   "mimetype": "text/x-r-source",
   "name": "R",
   "pygments_lexer": "r",
   "version": "4.3.1"
  }
 },
 "nbformat": 4,
 "nbformat_minor": 5
}
